{
  "nbformat": 4,
  "nbformat_minor": 0,
  "metadata": {
    "accelerator": "GPU",
    "colab": {
      "provenance": [],
      "collapsed_sections": [],
      "include_colab_link": true
    },
    "kernelspec": {
      "display_name": "Python 3",
      "name": "python3"
    }
  },
  "cells": [
    {
      "cell_type": "markdown",
      "metadata": {
        "id": "view-in-github",
        "colab_type": "text"
      },
      "source": [
        "<a href=\"https://colab.research.google.com/github/astitwa-agarwal12/Covid/blob/main/Covid_19_1.ipynb\" target=\"_parent\"><img src=\"https://colab.research.google.com/assets/colab-badge.svg\" alt=\"Open In Colab\"/></a>"
      ]
    },
    {
      "cell_type": "code",
      "metadata": {
        "colab": {
          "base_uri": "https://localhost:8080/"
        },
        "id": "T2Vwi2zrfaYE",
        "outputId": "8d42bb22-f0eb-4849-a594-c55d3dc325d9"
      },
      "source": [
        "from tensorflow.keras.preprocessing.image import ImageDataGenerator\n",
        "from tensorflow.keras.applications import VGG16\n",
        "from tensorflow.keras.layers import AveragePooling2D\n",
        "from tensorflow.keras.layers import Dropout\n",
        "from tensorflow.keras.layers import Flatten\n",
        "from tensorflow.keras.layers import Dense\n",
        "from tensorflow.keras.layers import Input\n",
        "from tensorflow.keras.models import Model\n",
        "from tensorflow.keras.optimizers import Adam\n",
        "from tensorflow.keras.optimizers import SGD\n",
        "from tensorflow.keras.optimizers import Nadam\n",
        "from tensorflow.keras.utils import to_categorical\n",
        "from sklearn.preprocessing import LabelBinarizer\n",
        "from sklearn.model_selection import train_test_split\n",
        "from sklearn.metrics import classification_report\n",
        "from sklearn.metrics import confusion_matrix\n",
        "from imutils import paths\n",
        "import matplotlib.pyplot as plt\n",
        "import numpy as np\n",
        "import argparse\n",
        "import cv2\n",
        "import os\n",
        "from tensorflow.keras.callbacks import ModelCheckpoint, EarlyStopping, ReduceLROnPlateau\n",
        "import warnings \n",
        "from tensorflow.keras.applications.vgg19 import VGG19, preprocess_input\n",
        "import tensorflow as tf\n",
        "warnings.filterwarnings('ignore')\n",
        "dataset = 'drive/My Drive/dataset1'\n",
        "imagePaths = list(paths.list_images(dataset))\n",
        "data = []\n",
        "labels = []\n",
        "print(imagePaths)"
      ],
      "execution_count": null,
      "outputs": [
        {
          "output_type": "stream",
          "name": "stdout",
          "text": [
            "['drive/My Drive/dataset1/Covid/bmj.m606.full-p4-22%3.png', 'drive/My Drive/dataset1/Covid/bmj.m606.full-p4-22%2.png', 'drive/My Drive/dataset1/Covid/PIIS0140673620303603%5.png', 'drive/My Drive/dataset1/Covid/2020.02.25.20021568-p23-108%15.png', 'drive/My Drive/dataset1/Covid/2020.03.10.20032136-p34-118_1%1.png', 'drive/My Drive/dataset1/Covid/2020.03.01.20029769-p21-73_2%2.png', 'drive/My Drive/dataset1/Covid/kjr-21-e24-p2-8.png', 'drive/My Drive/dataset1/Covid/2020.03.18.20038125-p15-54-5.png', 'drive/My Drive/dataset1/Covid/2020.03.22.20040782-p24-1533-5.png', 'drive/My Drive/dataset1/Covid/2020.03.18.20038125-p16-56-2.png', 'drive/My Drive/dataset1/Covid/2020.03.16.20036145-p19-128-2.png', 'drive/My Drive/dataset1/Covid/2020.03.19.20038539-p10-58.png', 'drive/My Drive/dataset1/Covid/2020.03.04.20031039-p23-97_1%2.png', 'drive/My Drive/dataset1/Covid/ehaa254-p0-63%2.png', 'drive/My Drive/dataset1/Covid/Comparison-of-different-samples-for-2019-novel-cor_2020_International-Journa-p2-21%7.png', 'drive/My Drive/dataset1/Covid/2020.01.24.919183-p27-132.png', 'drive/My Drive/dataset1/Covid/2020.03.21.20040691-p18-67-7.png', 'drive/My Drive/dataset1/Covid/2020.03.13.20035212-p23-152.png', 'drive/My Drive/dataset1/Covid/2020.03.13.20035212-p23-154.png', 'drive/My Drive/dataset1/Covid/Comparison-of-different-samples-for-2019-novel-cor_2020_International-Journa-p2-21%11.png', 'drive/My Drive/dataset1/Covid/2020.03.12.20034686-p17-91-3.png', 'drive/My Drive/dataset1/Covid/2020.02.19.20025023-p20-93%0.png', 'drive/My Drive/dataset1/Covid/2020.03.21.20040691-p18-67-3.png', 'drive/My Drive/dataset1/Covid/2020.03.03.20030353-p17-106%0.png', 'drive/My Drive/dataset1/Covid/2020.03.16.20036145-p19-128-4.png', 'drive/My Drive/dataset1/Covid/bmj.m606.full-p4-22%1.png', 'drive/My Drive/dataset1/Covid/2020.02.17.20024018-p17-61%0.png', 'drive/My Drive/dataset1/Covid/2020.03.26.20041426-p11-131.png', 'drive/My Drive/dataset1/Covid/2020.02.25.20021568-p23-108%5.png', 'drive/My Drive/dataset1/Covid/2020.03.25.20043166-p17-81.png', 'drive/My Drive/dataset1/Covid/2020.02.24.20027052-p8-73%0.png', 'drive/My Drive/dataset1/Covid/2020.03.22.20040782-p24-1533-8.png', 'drive/My Drive/dataset1/Covid/2020.02.22.20024927-p19-68%0.png', 'drive/My Drive/dataset1/Covid/2020.02.25.20021568-p23-108%11.png', 'drive/My Drive/dataset1/Covid/2020.02.25.20021568-p23-108%3.png', 'drive/My Drive/dataset1/Covid/2020.03.03.20030353-p17-106%2.png', 'drive/My Drive/dataset1/Covid/2020.03.13.20035212-p23-155.png', 'drive/My Drive/dataset1/Covid/2020.03.09.20033118-p20-93%3.png', 'drive/My Drive/dataset1/Covid/2020.03.12.20027185-p8-221.png', 'drive/My Drive/dataset1/Covid/PIIS0140673620301549_0%1.png', 'drive/My Drive/dataset1/Covid/2020.03.04.20031047-p14-87%0.png', 'drive/My Drive/dataset1/Covid/2020.03.22.20040782-p24-1533-1.png', 'drive/My Drive/dataset1/Covid/2020.03.04.20030395-p27-108%7.png', 'drive/My Drive/dataset1/Covid/PIIS0140673620303603%6.png', 'drive/My Drive/dataset1/Covid/2020.02.10.20021584-p6-52%14.png', 'drive/My Drive/dataset1/Covid/2020.03.03.20030775-p11-91.png', 'drive/My Drive/dataset1/Covid/2020.03.26.20041426-p11-133.png', 'drive/My Drive/dataset1/Covid/2020.03.04.20031039-p23-97_1%0.png', 'drive/My Drive/dataset1/Covid/PIIS0140673620303603%4.png', 'drive/My Drive/dataset1/Covid/2020.02.26.20027938-p6-80_1%0.png', 'drive/My Drive/dataset1/Covid/2020.03.20.20037325-p23-124.png', 'drive/My Drive/dataset1/Covid/2020.03.04.20031047-p13-84%3.png', 'drive/My Drive/dataset1/Covid/2020.03.04.20031047-p13-84%2.png', 'drive/My Drive/dataset1/Covid/2020.03.04.20030395-p27-108%5.png', 'drive/My Drive/dataset1/Covid/2020.03.22.20040782-p25-1546.png', 'drive/My Drive/dataset1/Covid/2020.02.10.20021584-p6-52%11.png', 'drive/My Drive/dataset1/Covid/Comparison-of-different-samples-for-2019-novel-cor_2020_International-Journa-p2-21%2.png', 'drive/My Drive/dataset1/Covid/2020.03.26.20041426-p11-123.png', 'drive/My Drive/dataset1/Covid/2020.03.19.20038539-p10-62.png', 'drive/My Drive/dataset1/Covid/Ni2020_Article_CombinationOfWesternMedicineAn-p4-13%1.png', 'drive/My Drive/dataset1/Covid/2020.03.04.20031039-p23-97_2%0.png', 'drive/My Drive/dataset1/Covid/2020.03.04.20031047-p12-81%0.png', 'drive/My Drive/dataset1/Covid/Comparison-of-different-samples-for-2019-novel-cor_2020_International-Journa-p2-21%4.png', 'drive/My Drive/dataset1/Covid/2020.02.22.20024927-p18-66%0.png', 'drive/My Drive/dataset1/Covid/2020.01.24.919183-p27-133.png', 'drive/My Drive/dataset1/Covid/kjr-21-e25-p1-8.png', 'drive/My Drive/dataset1/Covid/2020.03.22.20040782-p24-1533-4.png', 'drive/My Drive/dataset1/Covid/2020.02.27.20027557-p25-137%0.png', 'drive/My Drive/dataset1/Covid/2020.03.25.20037721-p27-181.png', 'drive/My Drive/dataset1/Covid/2020.03.04.20026005-p12-1946%4.png', 'drive/My Drive/dataset1/Covid/2020.02.25.20021568-p23-108%14.png', 'drive/My Drive/dataset1/Covid/Talaromyces-marneffei-infection-relapse-presenting-as-ost_2020_International-p1-12%2.png', 'drive/My Drive/dataset1/Covid/2020.03.12.20034686-p17-91-5.png', 'drive/My Drive/dataset1/Covid/2020.02.26.20027938-p6-80_2%0.png', 'drive/My Drive/dataset1/Covid/2020.03.18.20038125-p15-54-6.png', 'drive/My Drive/dataset1/Covid/2020.03.01.20029769-p21-73_2%0.png', 'drive/My Drive/dataset1/Covid/2020.02.24.20027201-p19-670.png', 'drive/My Drive/dataset1/Covid/2020.03.22.20034041-p17-80-1.png', 'drive/My Drive/dataset1/Covid/2020.03.22.20040782-p24-1533-6.png', 'drive/My Drive/dataset1/Covid/2020.03.08.20031658-p15-103.png', 'drive/My Drive/dataset1/Covid/PIIS0140673620301549_2.png', 'drive/My Drive/dataset1/Covid/PIIS0140673620303603%1.png', 'drive/My Drive/dataset1/Covid/2020.03.01.20029769-p21-73_1%2.png', 'drive/My Drive/dataset1/Covid/Ni2020_Article_CombinationOfWesternMedicineAn-p3-10%0.png', 'drive/My Drive/dataset1/Covid/2020.03.11.20033159-p12-45%0.png', 'drive/My Drive/dataset1/Covid/2020.02.22.20024927-p19-68%1.png', 'drive/My Drive/dataset1/Covid/2020.02.23.20026856-p17-115%5.png', 'drive/My Drive/dataset1/Covid/2020.03.03.20030775-p10-88%0.png', 'drive/My Drive/dataset1/Covid/impact_of_covid19_infection_on_pregnancy_outcomes_and_the_risk_of_maternaltoneonatal_intrapartum_transmission_of_covid19_during_natural_birth-p8-41%5.png', 'drive/My Drive/dataset1/Covid/2020.03.09.20033118-p20-93%0.png', 'drive/My Drive/dataset1/Covid/2020.03.21.20040691-p18-67-8.png', 'drive/My Drive/dataset1/Covid/2020.02.13.20022673-p13-77%0.png', 'drive/My Drive/dataset1/Covid/2020.02.10.20021584-p6-52%2.png', 'drive/My Drive/dataset1/Covid/Talaromyces-marneffei-infection-relapse-presenting-as-ost_2020_International-p1-12%3.png', 'drive/My Drive/dataset1/Covid/2020.03.13.20035212-p23-157.png', 'drive/My Drive/dataset1/Covid/Comparison-of-different-samples-for-2019-novel-cor_2020_International-Journa-p2-21%3.png', 'drive/My Drive/dataset1/Covid/2020.03.04.20031047-p13-84%5.png', 'drive/My Drive/dataset1/Covid/PIIS0140673620302117_2.png', 'drive/My Drive/dataset1/Covid/impact_of_covid19_infection_on_pregnancy_outcomes_and_the_risk_of_maternaltoneonatal_intrapartum_transmission_of_covid19_during_natural_birth-p8-41%1.png', 'drive/My Drive/dataset1/Covid/2020.03.04.20026005-p12-1946%1.png', 'drive/My Drive/dataset1/Covid/bmj.m606.full-p4-22%4.png', 'drive/My Drive/dataset1/Covid/2020.03.07.20031393-p7-50%1.png', 'drive/My Drive/dataset1/Covid/2019-novel-Coronavirus-severe-adult-respiratory-dist_2020_International-Jour-p3-89%1.png', 'drive/My Drive/dataset1/Covid/2020.02.11.20021493-p16-109%1.png', 'drive/My Drive/dataset1/Covid/2020.03.30.20047985-p9-56%3.png', 'drive/My Drive/dataset1/Covid/2020.03.04.20031047-p13-84%4.png', 'drive/My Drive/dataset1/Covid/2020.02.11.20021493-p16-109%2.png', 'drive/My Drive/dataset1/Covid/2020.03.22.20040782-p24-1533-2.png', 'drive/My Drive/dataset1/Covid/2020.02.25.20021568-p23-108%12.png', 'drive/My Drive/dataset1/Covid/kjr-21-e25-p1-10.png', 'drive/My Drive/dataset1/Covid/2020.03.13.20035212-p23-161.png', 'drive/My Drive/dataset1/Covid/2020.03.22.20034041-p18-92-1.png', 'drive/My Drive/dataset1/Covid/2020.02.25.20021568-p24-111%2.png', 'drive/My Drive/dataset1/Covid/2020.03.13.20035212-p23-156.png', 'drive/My Drive/dataset1/Covid/2020.02.10.20021584-p6-52%15.png', 'drive/My Drive/dataset1/Covid/2020.03.03.20030775-p12-93%0.png', 'drive/My Drive/dataset1/Covid/2020.03.04.20031047-p12-81%2.png', 'drive/My Drive/dataset1/Covid/2020.03.07.20031393-p7-50%2.png', 'drive/My Drive/dataset1/Covid/2020.02.10.20021584-p6-52%3.png', 'drive/My Drive/dataset1/Covid/kjr-21-e24-p5-29.png', 'drive/My Drive/dataset1/Covid/2020.02.25.20021568-p24-111%4.png', 'drive/My Drive/dataset1/Covid/PIIS0140673620303603%3.png', 'drive/My Drive/dataset1/Covid/2020.02.26.20026989-p34-114_2%0.png', 'drive/My Drive/dataset1/Covid/2020.03.04.20026005-p12-1946%2.png', 'drive/My Drive/dataset1/Covid/2020.02.10.20021584-p6-52%6.png', 'drive/My Drive/dataset1/Covid/2020.03.26.20041426-p11-122.png', 'drive/My Drive/dataset1/Covid/2020.03.08.20031658-p15-105.png', 'drive/My Drive/dataset1/Covid/bmj.m606.full-p4-22%5.png', 'drive/My Drive/dataset1/Covid/Recurrence-of-positive-SARS-CoV-2-RNA-in-C_2020_International-Journal-of-Inf-p1-21%0.png', 'drive/My Drive/dataset1/Covid/2020.02.25.20021568-p24-111%5.png', 'drive/My Drive/dataset1/Covid/2020.03.18.20038125-p16-56-3.png', 'drive/My Drive/dataset1/Covid/2020.03.04.20031047-p13-84%0.png', 'drive/My Drive/dataset1/Covid/Comparison-of-different-samples-for-2019-novel-cor_2020_International-Journa-p2-21%10.png', 'drive/My Drive/dataset1/Covid/2020.03.04.20030395-p27-108%4.png', 'drive/My Drive/dataset1/Covid/2020.03.09.20033118-p20-93%1.png', 'drive/My Drive/dataset1/Covid/2020.02.13.20022673-p13-77%1.png', 'drive/My Drive/dataset1/Covid/2020.02.22.20024927-p20-70%3.png', 'drive/My Drive/dataset1/Covid/2020.03.13.20035212-p23-163.png', 'drive/My Drive/dataset1/Covid/2020.03.04.20030395-p27-108%3.png', 'drive/My Drive/dataset1/Covid/2020.03.18.20038125-p15-54-2.png', 'drive/My Drive/dataset1/Covid/2020.02.11.20022053-p12-67%3.png', 'drive/My Drive/dataset1/Covid/2020.02.17.20024018-p17-61%1.png', 'drive/My Drive/dataset1/Covid/2020.02.26.20027938-p6-80_1%1.png', 'drive/My Drive/dataset1/Covid/2020.02.17.20024018-p17-61%3.png', 'drive/My Drive/dataset1/Covid/kjr-21-e24-p3-16.png', 'drive/My Drive/dataset1/Covid/2020.03.25.20037721-p27-172.png', 'drive/My Drive/dataset1/Covid/2020.03.25.20037721-p27-173.png', 'drive/My Drive/dataset1/Covid/2020.03.03.20030775-p12-93%1.png', 'drive/My Drive/dataset1/Covid/2020.03.26.20041426-p11-127.png', 'drive/My Drive/dataset1/Covid/2020.02.24.20027052-p8-73%3.png', 'drive/My Drive/dataset1/Covid/Ni2020_Article_CombinationOfWesternMedicineAn-p3-10%1.png', 'drive/My Drive/dataset1/Covid/2020.03.12.20034686-p17-91-4.png', 'drive/My Drive/dataset1/Covid/2020.03.16.20036145-p19-128-3.png', 'drive/My Drive/dataset1/Covid/2020.03.26.20041426-p11-132.png', 'drive/My Drive/dataset1/Covid/2020.03.18.20038125-p16-56-1.png', 'drive/My Drive/dataset1/Covid/Comparison-of-different-samples-for-2019-novel-cor_2020_International-Journa-p2-21%9.png', 'drive/My Drive/dataset1/Covid/2020.02.10.20021584-p6-52%10.png', 'drive/My Drive/dataset1/Covid/2020.03.03.20030775-p10-88%1.png', 'drive/My Drive/dataset1/Covid/2020.02.25.20021568-p23-108%0.png', 'drive/My Drive/dataset1/Covid/2020.03.13.20035212-p23-159.png', 'drive/My Drive/dataset1/Covid/2020.03.22.20040782-p25-1542.png', 'drive/My Drive/dataset1/Covid/2020.03.30.20047985-p9-56%2.png', 'drive/My Drive/dataset1/Covid/2020.03.25.20043166-p17-79.png', 'drive/My Drive/dataset1/Covid/2020.02.24.20027052-p8-73%1.png', 'drive/My Drive/dataset1/Covid/PIIS0140673620303603%8.png', 'drive/My Drive/dataset1/Covid/2020.02.17.20024018-p17-61%4.png', 'drive/My Drive/dataset1/Covid/2020.03.01.20029769-p21-73_2%1.png', 'drive/My Drive/dataset1/Covid/2020.03.08.20031658-p15-106.png', 'drive/My Drive/dataset1/Covid/PIIS0140673620303603%7.png', 'drive/My Drive/dataset1/Covid/bmj.m606.full-p4-22%0.png', 'drive/My Drive/dataset1/Covid/2020.02.25.20021568-p23-108%2.png', 'drive/My Drive/dataset1/Covid/impact_of_covid19_infection_on_pregnancy_outcomes_and_the_risk_of_maternaltoneonatal_intrapartum_transmission_of_covid19_during_natural_birth-p8-41%3.png', 'drive/My Drive/dataset1/Covid/2020.03.21.20040691-p18-6-6.png', 'drive/My Drive/dataset1/Covid/2020.02.10.20021584-p6-52%12.png', 'drive/My Drive/dataset1/Covid/PIIS0140673620301549_0%0.png', 'drive/My Drive/dataset1/Covid/2020.02.27.20027557-p25-137%2.png', 'drive/My Drive/dataset1/Covid/2020.03.21.20040691-p18-67-5.png', 'drive/My Drive/dataset1/Covid/2020.02.25.20021568-p23-108%13.png', 'drive/My Drive/dataset1/Covid/2020.02.23.20026856-p17-115%1.png', 'drive/My Drive/dataset1/Covid/bmj.m606.full-p4-22%7.png', 'drive/My Drive/dataset1/Covid/2020.03.11.20033159-p12-45%4.png', 'drive/My Drive/dataset1/Covid/2020.03.08.20031658-p15-104.png', 'drive/My Drive/dataset1/Covid/2020.02.10.20021584-p6-52%4.png', 'drive/My Drive/dataset1/Covid/Ni2020_Article_CombinationOfWesternMedicineAn-p4-13%0.png', 'drive/My Drive/dataset1/Covid/2020.02.25.20021568-p24-111%9.png', 'drive/My Drive/dataset1/Covid/2020.02.22.20024927-p20-70%2.png', 'drive/My Drive/dataset1/Covid/2020.03.01.20029769-p21-73_1%1.png', 'drive/My Drive/dataset1/Covid/2020.03.22.20034041-p18-92-3.png', 'drive/My Drive/dataset1/Covid/2020.02.28.20029025-p23-183.png', 'drive/My Drive/dataset1/Covid/Comparison-of-different-samples-for-2019-novel-cor_2020_International-Journa-p2-21%5.png', 'drive/My Drive/dataset1/Covid/2020.02.27.20027557-p25-137%1.png', 'drive/My Drive/dataset1/Covid/2020.03.11.20033159-p12-45%2.png', 'drive/My Drive/dataset1/Covid/2020.03.25.20037721-p27-174.png', 'drive/My Drive/dataset1/Covid/2020.02.25.20021568-p24-111%8.png', 'drive/My Drive/dataset1/Covid/2020.03.26.20041426-p11-126.png', 'drive/My Drive/dataset1/Covid/2020.02.10.20021584-p6-52%9.png', 'drive/My Drive/dataset1/Covid/PIIS0140673620302117_1.png', 'drive/My Drive/dataset1/Covid/2020.03.13.20035212-p23-158.png', 'drive/My Drive/dataset1/Covid/2020.02.22.20024927-p19-68%3.png', 'drive/My Drive/dataset1/Covid/2019-novel-Coronavirus-severe-adult-respiratory-dist_2020_International-Jour-p3-89%0.png', 'drive/My Drive/dataset1/Covid/2020.03.12.20027185-p8-218.png', 'drive/My Drive/dataset1/Covid/2020.02.26.20026989-p34-114_2%1.png', 'drive/My Drive/dataset1/Covid/ehaa254-p0-63%3.png', 'drive/My Drive/dataset1/Covid/2020.02.26.20027938-p6-80_3%1.png', 'drive/My Drive/dataset1/Covid/2020.03.25.20037721-p27-182.png', 'drive/My Drive/dataset1/Covid/kjr-21-e25-p1-14.png', 'drive/My Drive/dataset1/Covid/2020.03.13.20035212-p23-160.png', 'drive/My Drive/dataset1/Covid/2020.02.27.20027557-p25-137%3.png', 'drive/My Drive/dataset1/Covid/Talaromyces-marneffei-infection-relapse-presenting-as-ost_2020_International-p1-12%0.png', 'drive/My Drive/dataset1/Covid/2020.03.04.20031039-p23-97_2%2.png', 'drive/My Drive/dataset1/Covid/2020.02.25.20021568-p24-111%1.png', 'drive/My Drive/dataset1/Covid/2020.03.04.20026005-p12-1946%5.png', 'drive/My Drive/dataset1/Covid/2020.02.23.20026856-p17-115%2.png', 'drive/My Drive/dataset1/Covid/PIIS0140673620301549_1.png', 'drive/My Drive/dataset1/Covid/2020.03.04.20026005-p12-1946%0.png', 'drive/My Drive/dataset1/Covid/2020.03.25.20043166-p17-80.png', 'drive/My Drive/dataset1/Covid/2020.02.22.20024927-p19-68%5.png', 'drive/My Drive/dataset1/Covid/2020.02.27.20027557-p25-137%4.png', 'drive/My Drive/dataset1/Covid/2020.03.18.20038125-p15-54-4.png', 'drive/My Drive/dataset1/Covid/2020.02.22.20024927-p20-70%1.png', 'drive/My Drive/dataset1/Covid/2020.03.22.20034041-p18-92-2.png', 'drive/My Drive/dataset1/Covid/2020.03.09.20033118-p20-93%2.png', 'drive/My Drive/dataset1/Covid/2020.02.22.20024927-p19-68%2.png', 'drive/My Drive/dataset1/Covid/2020.02.25.20027763-p15-53%0.png', 'drive/My Drive/dataset1/Covid/2020.03.26.20041426-p11-125.png', 'drive/My Drive/dataset1/Covid/2020.02.22.20024927-p18-66%1.png', 'drive/My Drive/dataset1/Covid/2020.03.04.20031047-p14-87%1.png', 'drive/My Drive/dataset1/Covid/2020.03.20.20037325-p23-123.png', 'drive/My Drive/dataset1/Covid/2020.03.12.20027185-p8-217.png', 'drive/My Drive/dataset1/Covid/2020.03.16.20035105-p6-64-2.png', 'drive/My Drive/dataset1/Covid/2020.02.19.20025023-p20-93%2.png', 'drive/My Drive/dataset1/Covid/2020.03.04.20030395-p27-108%2.png', 'drive/My Drive/dataset1/Covid/2020.03.13.20035212-p23-162.png', 'drive/My Drive/dataset1/Covid/2020.03.10.20032136-p34-118_2%0.png', 'drive/My Drive/dataset1/Covid/2020.03.19.20038539-p10-59.png', 'drive/My Drive/dataset1/Covid/2020.02.11.20022053-p12-67%2.png', 'drive/My Drive/dataset1/Covid/2020.02.10.20021584-p6-52%13.png', 'drive/My Drive/dataset1/Covid/2020.03.22.20034041-p17-80-2.png', 'drive/My Drive/dataset1/Covid/2020.03.22.20034041-p16-66.png', 'drive/My Drive/dataset1/Covid/2020.02.19.20025023-p20-93%1.png', 'drive/My Drive/dataset1/Covid/2020.02.23.20026856-p17-115%0.png', 'drive/My Drive/dataset1/Covid/2020.03.04.20030395-p27-108%6.png', 'drive/My Drive/dataset1/Covid/2020.03.16.20035105-p6-64-1.png', 'drive/My Drive/dataset1/Covid/2020.03.04.20031047-p12-81%1.png', 'drive/My Drive/dataset1/Covid/2020.03.18.20038125-p16-56-5.png', 'drive/My Drive/dataset1/Covid/2020.03.12.20034686-p17-91-2.png', 'drive/My Drive/dataset1/Covid/Comparison-of-different-samples-for-2019-novel-cor_2020_International-Journa-p2-21%0.png', 'drive/My Drive/dataset1/Covid/2020.03.07.20031393-p7-50%3.png', 'drive/My Drive/dataset1/Covid/2020.03.11.20033159-p12-45%1.png', 'drive/My Drive/dataset1/Covid/2020.03.20.20037325-p23-122.png', 'drive/My Drive/dataset1/Covid/2020.03.04.20031047-p12-81%3.png', 'drive/My Drive/dataset1/Covid/2020.02.25.20021568-p23-108%4.png', 'drive/My Drive/dataset1/Covid/2020.03.26.20041426-p11-121.png', 'drive/My Drive/dataset1/Covid/2020.03.22.20040782-p25-1543.png', 'drive/My Drive/dataset1/Covid/2020.02.25.20021568-p24-111%7.png', 'drive/My Drive/dataset1/Covid/2020.02.22.20024927-p20-70%0.png', 'drive/My Drive/dataset1/Covid/Comparison-of-different-samples-for-2019-novel-cor_2020_International-Journa-p2-21%1.png', 'drive/My Drive/dataset1/Covid/2020.03.26.20041426-p11-128.png', 'drive/My Drive/dataset1/Covid/PIIS0140673620303603%2.png', 'drive/My Drive/dataset1/Covid/2020.03.04.20031047-p13-84%1.png', 'drive/My Drive/dataset1/Covid/2020.03.13.20035212-p23-153.png', 'drive/My Drive/dataset1/Covid/2020.01.24.919183-p27-135.png', 'drive/My Drive/dataset1/Covid/2020.03.19.20038539-p10-61.png', 'drive/My Drive/dataset1/Covid/2020.02.26.20027938-p6-80_3%0.png', 'drive/My Drive/dataset1/Covid/2020.03.12.20034686-p17-91-1.png', 'drive/My Drive/dataset1/Covid/2020.03.21.20040691-p18-67-4.png', 'drive/My Drive/dataset1/Covid/2020.02.26.20026989-p34-114_1%0.png', 'drive/My Drive/dataset1/Covid/2020.02.10.20021584-p6-52%8.png', 'drive/My Drive/dataset1/Covid/kjr-21-e24-p5-31.png', 'drive/My Drive/dataset1/Covid/2020.03.25.20043166-p17-78.png', 'drive/My Drive/dataset1/Covid/2020.03.26.20041426-p11-130.png', 'drive/My Drive/dataset1/Covid/Talaromyces-marneffei-infection-relapse-presenting-as-ost_2020_International-p1-12%1.png', 'drive/My Drive/dataset1/Covid/2020.02.25.20021568-p23-108%1.png', 'drive/My Drive/dataset1/Covid/2020.03.19.20038539-p10-60.png', 'drive/My Drive/dataset1/Covid/2020.03.25.20037721-p27-165.png', 'drive/My Drive/dataset1/Covid/2020.02.25.20021568-p23-108%7.png', 'drive/My Drive/dataset1/Covid/med-9780198814924-chapter-17-p10-515.png', 'drive/My Drive/dataset1/Covid/2020.03.22.20040782-p25-1544.png', 'drive/My Drive/dataset1/Covid/2020.03.04.20030395-p27-108%0.png', 'drive/My Drive/dataset1/Covid/2020.03.11.20033159-p12-45%5.png', 'drive/My Drive/dataset1/Covid/2020.02.11.20022053-p12-67%0.png', 'drive/My Drive/dataset1/Covid/2020.03.04.20031039-p23-97_1%1.png', 'drive/My Drive/dataset1/Covid/2020.02.25.20021568-p24-111%6.png', 'drive/My Drive/dataset1/Covid/2020.02.25.20021568-p23-108%9.png', 'drive/My Drive/dataset1/Covid/2020.02.24.20027201-p19-669.png', 'drive/My Drive/dataset1/Covid/2020.03.18.20038125-p16-56-6.png', 'drive/My Drive/dataset1/Covid/2020.03.26.20041426-p11-119.png', 'drive/My Drive/dataset1/Covid/2020.02.10.20021584-p6-52%0.png', 'drive/My Drive/dataset1/Covid/2020.03.16.20036145-p19-128-1.png', 'drive/My Drive/dataset1/Covid/2020.02.17.20024018-p17-61%2.png', 'drive/My Drive/dataset1/Covid/PIIS0140673620303603%0.png', 'drive/My Drive/dataset1/Covid/bmj.m606.full-p4-22%6.png', 'drive/My Drive/dataset1/Covid/2020.03.12.20027185-p8-216.png', 'drive/My Drive/dataset1/Covid/2020.03.22.20040782-p24-1533-3.png', 'drive/My Drive/dataset1/Covid/2020.02.23.20026856-p17-115%4.png', 'drive/My Drive/dataset1/Covid/2020.03.30.20047985-p9-56%1.png', 'drive/My Drive/dataset1/Covid/2020.03.04.20026005-p12-1946%3.png', 'drive/My Drive/dataset1/Covid/2020.03.22.20040782-p24-1533-7.png', 'drive/My Drive/dataset1/Covid/2020.03.03.20030353-p17-106%1.png', 'drive/My Drive/dataset1/Covid/2020.03.01.20029769-p21-73_3.png', 'drive/My Drive/dataset1/Covid/kjr-21-e25-p1-12.png', 'drive/My Drive/dataset1/Covid/2020.03.16.20035105-p6-64-3.png', 'drive/My Drive/dataset1/Covid/2020.03.22.20040782-p25-1541.png', 'drive/My Drive/dataset1/Covid/2020.03.21.20040691-p18-67-1.png', 'drive/My Drive/dataset1/Covid/2020.03.01.20029769-p21-73_4.png', 'drive/My Drive/dataset1/Covid/2020.02.23.20026856-p17-115%3.png', 'drive/My Drive/dataset1/Covid/2020.03.18.20038125-p16-56-4.png', 'drive/My Drive/dataset1/Covid/2020.02.26.20026989-p34-114_1%1.png', 'drive/My Drive/dataset1/Covid/Comparison-of-different-samples-for-2019-novel-cor_2020_International-Journa-p2-21%6.png', 'drive/My Drive/dataset1/Covid/2020.03.26.20041426-p11-120.png', 'drive/My Drive/dataset1/Covid/2020.02.10.20021584-p6-52%1.png', 'drive/My Drive/dataset1/Covid/2020.02.10.20021584-p6-52%5.png', 'drive/My Drive/dataset1/Covid/2020.02.22.20024927-p18-66%2.png', 'drive/My Drive/dataset1/Covid/2020.03.12.20034686-p17-91-6.png', 'drive/My Drive/dataset1/Covid/2020.02.22.20024927-p19-68%4.png', 'drive/My Drive/dataset1/Covid/2020.02.13.20022673-p13-77%2.png', 'drive/My Drive/dataset1/Covid/2020.02.11.20021493-p16-109%0.png', 'drive/My Drive/dataset1/Covid/2020.03.11.20033159-p12-45%3.png', 'drive/My Drive/dataset1/Covid/2020.03.07.20031393-p7-50%0.png', 'drive/My Drive/dataset1/Covid/2020.03.22.20040782-p25-1545.png', 'drive/My Drive/dataset1/Covid/2020.03.30.20047985-p9-56%0.png', 'drive/My Drive/dataset1/Covid/2019-novel-Coronavirus-severe-adult-respiratory-dist_2020_International-Jour-p3-91.png', 'drive/My Drive/dataset1/Covid/2020.02.26.20027938-p6-80_2%1.png', 'drive/My Drive/dataset1/Covid/2020.02.25.20021568-p23-108%10.png', 'drive/My Drive/dataset1/Covid/kjr-21-e25-p1-6.png', 'drive/My Drive/dataset1/Covid/2020.03.19.20038539-p10-57.png', 'drive/My Drive/dataset1/Covid/2020.02.25.20021568-p24-111%0.png', 'drive/My Drive/dataset1/Covid/Comparison-of-different-samples-for-2019-novel-cor_2020_International-Journa-p2-21%8.png', 'drive/My Drive/dataset1/Covid/2020.02.24.20027052-p8-73%2.png', 'drive/My Drive/dataset1/Covid/2020.03.04.20030395-p27-108%8.png', 'drive/My Drive/dataset1/Covid/2020.03.01.20029769-p21-73_1%0.png', 'drive/My Drive/dataset1/Covid/2020.03.26.20041426-p11-124.png', 'drive/My Drive/dataset1/Covid/2020.01.24.919183-p27-134.png', 'drive/My Drive/dataset1/Covid/2020.03.04.20031039-p23-97_2%1.png', 'drive/My Drive/dataset1/Covid/2020.03.16.20035105-p6-64-4.png', 'drive/My Drive/dataset1/Covid/2020.02.25.20021568-p23-108%6.png', 'drive/My Drive/dataset1/Covid/2020.03.20.20037325-p23-121.png', 'drive/My Drive/dataset1/Covid/2020.03.10.20032136-p34-118_2%1.png', 'drive/My Drive/dataset1/Covid/2020.02.25.20027763-p15-53%1.png', 'drive/My Drive/dataset1/Covid/2020.02.11.20022053-p12-67%1.png', 'drive/My Drive/dataset1/Covid/2020.03.21.20040691-p18-67-2.png', 'drive/My Drive/dataset1/Covid/2020.02.10.20021584-p6-52%7.png', 'drive/My Drive/dataset1/Covid/Recurrence-of-positive-SARS-CoV-2-RNA-in-C_2020_International-Journal-of-Inf-p1-21%1.png', 'drive/My Drive/dataset1/Covid/2020.03.10.20032136-p34-118_1%0.png', 'drive/My Drive/dataset1/Covid/2020.02.25.20021568-p23-108%8.png', 'drive/My Drive/dataset1/Covid/2020.02.25.20021568-p24-111%3.png', 'drive/My Drive/dataset1/Covid/2020.02.19.20025023-p20-93%3.png', 'drive/My Drive/dataset1/Covid/2020.03.04.20030395-p27-108%1.png', 'drive/My Drive/dataset1/Covid/2020.02.28.20029025-p23-182.png', 'drive/My Drive/dataset1/Non_Covid/1310.png', 'drive/My Drive/dataset1/Non_Covid/921.png', 'drive/My Drive/dataset1/Non_Covid/174.png', 'drive/My Drive/dataset1/Non_Covid/1702.png', 'drive/My Drive/dataset1/Non_Covid/781.png', 'drive/My Drive/dataset1/Non_Covid/709.png', 'drive/My Drive/dataset1/Non_Covid/663.png', 'drive/My Drive/dataset1/Non_Covid/782.png', 'drive/My Drive/dataset1/Non_Covid/3.jpg', 'drive/My Drive/dataset1/Non_Covid/7.jpg', 'drive/My Drive/dataset1/Non_Covid/13.jpg', 'drive/My Drive/dataset1/Non_Covid/20.jpg', 'drive/My Drive/dataset1/Non_Covid/31.jpg', 'drive/My Drive/dataset1/Non_Covid/33%1.jpg', 'drive/My Drive/dataset1/Non_Covid/33%0.jpg', 'drive/My Drive/dataset1/Non_Covid/41.jpg', 'drive/My Drive/dataset1/Non_Covid/45.jpg', 'drive/My Drive/dataset1/Non_Covid/47.jpg', 'drive/My Drive/dataset1/Non_Covid/48.jpg', 'drive/My Drive/dataset1/Non_Covid/50.jpg', 'drive/My Drive/dataset1/Non_Covid/62.jpg', 'drive/My Drive/dataset1/Non_Covid/68.jpg', 'drive/My Drive/dataset1/Non_Covid/72.jpg', 'drive/My Drive/dataset1/Non_Covid/74.jpg', 'drive/My Drive/dataset1/Non_Covid/73.jpg', 'drive/My Drive/dataset1/Non_Covid/78.jpg', 'drive/My Drive/dataset1/Non_Covid/79.jpg', 'drive/My Drive/dataset1/Non_Covid/57%0.jpg', 'drive/My Drive/dataset1/Non_Covid/63%4.jpg', 'drive/My Drive/dataset1/Non_Covid/63%3.jpg', 'drive/My Drive/dataset1/Non_Covid/63%1.jpg', 'drive/My Drive/dataset1/Non_Covid/63%5.jpg', 'drive/My Drive/dataset1/Non_Covid/63%0.jpg', 'drive/My Drive/dataset1/Non_Covid/63%2.jpg', 'drive/My Drive/dataset1/Non_Covid/67%1.jpg', 'drive/My Drive/dataset1/Non_Covid/67%2.jpg', 'drive/My Drive/dataset1/Non_Covid/67%0.jpg', 'drive/My Drive/dataset1/Non_Covid/69%1.jpg', 'drive/My Drive/dataset1/Non_Covid/69%0.jpg', 'drive/My Drive/dataset1/Non_Covid/70%0.jpg', 'drive/My Drive/dataset1/Non_Covid/70%1.jpg', 'drive/My Drive/dataset1/Non_Covid/88.jpg', 'drive/My Drive/dataset1/Non_Covid/86.jpg', 'drive/My Drive/dataset1/Non_Covid/90.jpg', 'drive/My Drive/dataset1/Non_Covid/84%3.jpg', 'drive/My Drive/dataset1/Non_Covid/89%3.jpg', 'drive/My Drive/dataset1/Non_Covid/0.jpg', 'drive/My Drive/dataset1/Non_Covid/1%0.jpg', 'drive/My Drive/dataset1/Non_Covid/1%1.jpg', 'drive/My Drive/dataset1/Non_Covid/1%2.jpg', 'drive/My Drive/dataset1/Non_Covid/2%0.jpg', 'drive/My Drive/dataset1/Non_Covid/5%1.jpg', 'drive/My Drive/dataset1/Non_Covid/5%2.jpg', 'drive/My Drive/dataset1/Non_Covid/2%1.jpg', 'drive/My Drive/dataset1/Non_Covid/4%7.jpg', 'drive/My Drive/dataset1/Non_Covid/4%5.jpg', 'drive/My Drive/dataset1/Non_Covid/4%3.jpg', 'drive/My Drive/dataset1/Non_Covid/4%1.jpg', 'drive/My Drive/dataset1/Non_Covid/2%3.jpg', 'drive/My Drive/dataset1/Non_Covid/2%2.jpg', 'drive/My Drive/dataset1/Non_Covid/5%7.jpg', 'drive/My Drive/dataset1/Non_Covid/5%6.jpg', 'drive/My Drive/dataset1/Non_Covid/5%5.jpg', 'drive/My Drive/dataset1/Non_Covid/5%4.jpg', 'drive/My Drive/dataset1/Non_Covid/5%3.jpg', 'drive/My Drive/dataset1/Non_Covid/11%0.jpg', 'drive/My Drive/dataset1/Non_Covid/10%2.jpg', 'drive/My Drive/dataset1/Non_Covid/10%1.jpg', 'drive/My Drive/dataset1/Non_Covid/10%0.jpg', 'drive/My Drive/dataset1/Non_Covid/9.jpg', 'drive/My Drive/dataset1/Non_Covid/8.jpg', 'drive/My Drive/dataset1/Non_Covid/6%3.jpg', 'drive/My Drive/dataset1/Non_Covid/6%2.jpg', 'drive/My Drive/dataset1/Non_Covid/6%1.jpg', 'drive/My Drive/dataset1/Non_Covid/6%0.jpg', 'drive/My Drive/dataset1/Non_Covid/11%2.jpg', 'drive/My Drive/dataset1/Non_Covid/11%1.jpg', 'drive/My Drive/dataset1/Non_Covid/17%0.jpg', 'drive/My Drive/dataset1/Non_Covid/16.jpg', 'drive/My Drive/dataset1/Non_Covid/15.png', 'drive/My Drive/dataset1/Non_Covid/15%3.jpg', 'drive/My Drive/dataset1/Non_Covid/15%2.jpg', 'drive/My Drive/dataset1/Non_Covid/15%1.jpg', 'drive/My Drive/dataset1/Non_Covid/15%0.jpg', 'drive/My Drive/dataset1/Non_Covid/14.png', 'drive/My Drive/dataset1/Non_Covid/14%3.jpg', 'drive/My Drive/dataset1/Non_Covid/14%2.jpg', 'drive/My Drive/dataset1/Non_Covid/14%1.jpg', 'drive/My Drive/dataset1/Non_Covid/14%0.jpg', 'drive/My Drive/dataset1/Non_Covid/18%1.jpg', 'drive/My Drive/dataset1/Non_Covid/18%0.jpg', 'drive/My Drive/dataset1/Non_Covid/17%1.jpg', 'drive/My Drive/dataset1/Non_Covid/25%1.jpg', 'drive/My Drive/dataset1/Non_Covid/25%0.jpg', 'drive/My Drive/dataset1/Non_Covid/24.png', 'drive/My Drive/dataset1/Non_Covid/23.png', 'drive/My Drive/dataset1/Non_Covid/22%1.jpg', 'drive/My Drive/dataset1/Non_Covid/22%0.jpg', 'drive/My Drive/dataset1/Non_Covid/21%1.jpg', 'drive/My Drive/dataset1/Non_Covid/21%0.jpg', 'drive/My Drive/dataset1/Non_Covid/19%1.jpg', 'drive/My Drive/dataset1/Non_Covid/19%0.jpg', 'drive/My Drive/dataset1/Non_Covid/18%3.jpg', 'drive/My Drive/dataset1/Non_Covid/18%2.jpg', 'drive/My Drive/dataset1/Non_Covid/25.png', 'drive/My Drive/dataset1/Non_Covid/26.png', 'drive/My Drive/dataset1/Non_Covid/33.png', 'drive/My Drive/dataset1/Non_Covid/34.jpg', 'drive/My Drive/dataset1/Non_Covid/39%6.jpg', 'drive/My Drive/dataset1/Non_Covid/39%3.jpg', 'drive/My Drive/dataset1/Non_Covid/42.jpg', 'drive/My Drive/dataset1/Non_Covid/40%0.jpg', 'drive/My Drive/dataset1/Non_Covid/40%1.jpg', 'drive/My Drive/dataset1/Non_Covid/43%1.jpg', 'drive/My Drive/dataset1/Non_Covid/43.png', 'drive/My Drive/dataset1/Non_Covid/44.png', 'drive/My Drive/dataset1/Non_Covid/46.jpg', 'drive/My Drive/dataset1/Non_Covid/51%3.jpg', 'drive/My Drive/dataset1/Non_Covid/53.jpg', 'drive/My Drive/dataset1/Non_Covid/54%0.jpg', 'drive/My Drive/dataset1/Non_Covid/54%1.jpg', 'drive/My Drive/dataset1/Non_Covid/54%2.jpg', 'drive/My Drive/dataset1/Non_Covid/54%3.jpg', 'drive/My Drive/dataset1/Non_Covid/59.png', 'drive/My Drive/dataset1/Non_Covid/60.jpg', 'drive/My Drive/dataset1/Non_Covid/66.jpg', 'drive/My Drive/dataset1/Non_Covid/77.jpg', 'drive/My Drive/dataset1/Non_Covid/76%0.jpg', 'drive/My Drive/dataset1/Non_Covid/75%0.jpg', 'drive/My Drive/dataset1/Non_Covid/76%2.jpg', 'drive/My Drive/dataset1/Non_Covid/76%1.jpg', 'drive/My Drive/dataset1/Non_Covid/91%0.jpg', 'drive/My Drive/dataset1/Non_Covid/91%1.jpg', 'drive/My Drive/dataset1/Non_Covid/118.png', 'drive/My Drive/dataset1/Non_Covid/117.png', 'drive/My Drive/dataset1/Non_Covid/116.png', 'drive/My Drive/dataset1/Non_Covid/115.png', 'drive/My Drive/dataset1/Non_Covid/114.png', 'drive/My Drive/dataset1/Non_Covid/112.png', 'drive/My Drive/dataset1/Non_Covid/104.png', 'drive/My Drive/dataset1/Non_Covid/103.png', 'drive/My Drive/dataset1/Non_Covid/102.png', 'drive/My Drive/dataset1/Non_Covid/158.png', 'drive/My Drive/dataset1/Non_Covid/167.png', 'drive/My Drive/dataset1/Non_Covid/166.png', 'drive/My Drive/dataset1/Non_Covid/177.png', 'drive/My Drive/dataset1/Non_Covid/176.png', 'drive/My Drive/dataset1/Non_Covid/294.png', 'drive/My Drive/dataset1/Non_Covid/378.png', 'drive/My Drive/dataset1/Non_Covid/361.png', 'drive/My Drive/dataset1/Non_Covid/382.png', 'drive/My Drive/dataset1/Non_Covid/486.png', 'drive/My Drive/dataset1/Non_Covid/414.png', 'drive/My Drive/dataset1/Non_Covid/413.png', 'drive/My Drive/dataset1/Non_Covid/412.png', 'drive/My Drive/dataset1/Non_Covid/385.png', 'drive/My Drive/dataset1/Non_Covid/487.png', 'drive/My Drive/dataset1/Non_Covid/586.png', 'drive/My Drive/dataset1/Non_Covid/585.png', 'drive/My Drive/dataset1/Non_Covid/584.png', 'drive/My Drive/dataset1/Non_Covid/583.png', 'drive/My Drive/dataset1/Non_Covid/580.png', 'drive/My Drive/dataset1/Non_Covid/579.png', 'drive/My Drive/dataset1/Non_Covid/578.png', 'drive/My Drive/dataset1/Non_Covid/577.png', 'drive/My Drive/dataset1/Non_Covid/587.png', 'drive/My Drive/dataset1/Non_Covid/705.png', 'drive/My Drive/dataset1/Non_Covid/704.png', 'drive/My Drive/dataset1/Non_Covid/673.png', 'drive/My Drive/dataset1/Non_Covid/672.png', 'drive/My Drive/dataset1/Non_Covid/706.png', 'drive/My Drive/dataset1/Non_Covid/753.png', 'drive/My Drive/dataset1/Non_Covid/754.png', 'drive/My Drive/dataset1/Non_Covid/849.png', 'drive/My Drive/dataset1/Non_Covid/848.png', 'drive/My Drive/dataset1/Non_Covid/889.png', 'drive/My Drive/dataset1/Non_Covid/887.png', 'drive/My Drive/dataset1/Non_Covid/890.png', 'drive/My Drive/dataset1/Non_Covid/1062.png', 'drive/My Drive/dataset1/Non_Covid/1061.png', 'drive/My Drive/dataset1/Non_Covid/1060.png', 'drive/My Drive/dataset1/Non_Covid/1059.png', 'drive/My Drive/dataset1/Non_Covid/1058.png', 'drive/My Drive/dataset1/Non_Covid/1050.png', 'drive/My Drive/dataset1/Non_Covid/1049.png', 'drive/My Drive/dataset1/Non_Covid/1048.png', 'drive/My Drive/dataset1/Non_Covid/1047.png', 'drive/My Drive/dataset1/Non_Covid/1046.png', 'drive/My Drive/dataset1/Non_Covid/1030.png', 'drive/My Drive/dataset1/Non_Covid/1029.png', 'drive/My Drive/dataset1/Non_Covid/997.png', 'drive/My Drive/dataset1/Non_Covid/996.png', 'drive/My Drive/dataset1/Non_Covid/1065.png', 'drive/My Drive/dataset1/Non_Covid/1210.png', 'drive/My Drive/dataset1/Non_Covid/1218.png', 'drive/My Drive/dataset1/Non_Covid/1217.png', 'drive/My Drive/dataset1/Non_Covid/1216.png', 'drive/My Drive/dataset1/Non_Covid/1215.png', 'drive/My Drive/dataset1/Non_Covid/1214.png', 'drive/My Drive/dataset1/Non_Covid/1213.png', 'drive/My Drive/dataset1/Non_Covid/1212.png', 'drive/My Drive/dataset1/Non_Covid/1211.png', 'drive/My Drive/dataset1/Non_Covid/1263.png', 'drive/My Drive/dataset1/Non_Covid/1262.png', 'drive/My Drive/dataset1/Non_Covid/1261.png', 'drive/My Drive/dataset1/Non_Covid/1240.png', 'drive/My Drive/dataset1/Non_Covid/1239.png', 'drive/My Drive/dataset1/Non_Covid/1312.png', 'drive/My Drive/dataset1/Non_Covid/1335.png', 'drive/My Drive/dataset1/Non_Covid/1561.png', 'drive/My Drive/dataset1/Non_Covid/1501.png', 'drive/My Drive/dataset1/Non_Covid/1500.png', 'drive/My Drive/dataset1/Non_Covid/1499.png', 'drive/My Drive/dataset1/Non_Covid/1498.png', 'drive/My Drive/dataset1/Non_Covid/1497.png', 'drive/My Drive/dataset1/Non_Covid/1463.png', 'drive/My Drive/dataset1/Non_Covid/1428.png', 'drive/My Drive/dataset1/Non_Covid/1336.png', 'drive/My Drive/dataset1/Non_Covid/1562.png', 'drive/My Drive/dataset1/Non_Covid/1814.png', 'drive/My Drive/dataset1/Non_Covid/1638.png', 'drive/My Drive/dataset1/Non_Covid/1858.png', 'drive/My Drive/dataset1/Non_Covid/1857.png', 'drive/My Drive/dataset1/Non_Covid/1846.png', 'drive/My Drive/dataset1/Non_Covid/1859.png', 'drive/My Drive/dataset1/Non_Covid/2041.png', 'drive/My Drive/dataset1/Non_Covid/2040.png', 'drive/My Drive/dataset1/Non_Covid/2039.png', 'drive/My Drive/dataset1/Non_Covid/2007.png', 'drive/My Drive/dataset1/Non_Covid/1952.png', 'drive/My Drive/dataset1/Non_Covid/1924.png', 'drive/My Drive/dataset1/Non_Covid/1923.png', 'drive/My Drive/dataset1/Non_Covid/1922.png', 'drive/My Drive/dataset1/Non_Covid/1921.png', 'drive/My Drive/dataset1/Non_Covid/1920.png', 'drive/My Drive/dataset1/Non_Covid/1919.png', 'drive/My Drive/dataset1/Non_Covid/1889.png', 'drive/My Drive/dataset1/Non_Covid/1888.png', 'drive/My Drive/dataset1/Non_Covid/2237.png', 'drive/My Drive/dataset1/Non_Covid/2145.png', 'drive/My Drive/dataset1/Non_Covid/2144.png', 'drive/My Drive/dataset1/Non_Covid/2143.png', 'drive/My Drive/dataset1/Non_Covid/2142.png', 'drive/My Drive/dataset1/Non_Covid/2141.png', 'drive/My Drive/dataset1/Non_Covid/2140.png', 'drive/My Drive/dataset1/Non_Covid/2139.png', 'drive/My Drive/dataset1/Non_Covid/2138.png', 'drive/My Drive/dataset1/Non_Covid/2108.png', 'drive/My Drive/dataset1/Non_Covid/2341.png', 'drive/My Drive/dataset1/Non_Covid/1094.png', 'drive/My Drive/dataset1/Non_Covid/1093.png', 'drive/My Drive/dataset1/Non_Covid/1098.png', 'drive/My Drive/dataset1/Non_Covid/1123.png', 'drive/My Drive/dataset1/Non_Covid/1115.png', 'drive/My Drive/dataset1/Non_Covid/1101.png', 'drive/My Drive/dataset1/Non_Covid/1100.png', 'drive/My Drive/dataset1/Non_Covid/1099.png', 'drive/My Drive/dataset1/Non_Covid/1124.png', 'drive/My Drive/dataset1/Non_Covid/1071.png', 'drive/My Drive/dataset1/Non_Covid/1072.png', 'drive/My Drive/dataset1/Non_Covid/51%2.jpg', 'drive/My Drive/dataset1/Non_Covid/51%0.jpg', 'drive/My Drive/dataset1/Non_Covid/36%0.jpg', 'drive/My Drive/dataset1/Non_Covid/36%1.jpg', 'drive/My Drive/dataset1/Non_Covid/5%0.jpg', 'drive/My Drive/dataset1/Non_Covid/12.jpg', 'drive/My Drive/dataset1/Non_Covid/25%3.jpg', 'drive/My Drive/dataset1/Non_Covid/25%2.jpg', 'drive/My Drive/dataset1/Non_Covid/26%3.jpg', 'drive/My Drive/dataset1/Non_Covid/26%2.jpg', 'drive/My Drive/dataset1/Non_Covid/26%1.jpg', 'drive/My Drive/dataset1/Non_Covid/26%0.jpg', 'drive/My Drive/dataset1/Non_Covid/28.jpg', 'drive/My Drive/dataset1/Non_Covid/27.jpg', 'drive/My Drive/dataset1/Non_Covid/29%0.jpg', 'drive/My Drive/dataset1/Non_Covid/29%2.jpg', 'drive/My Drive/dataset1/Non_Covid/29%1.jpg', 'drive/My Drive/dataset1/Non_Covid/29%3.jpg', 'drive/My Drive/dataset1/Non_Covid/30%4.jpg', 'drive/My Drive/dataset1/Non_Covid/30%3.jpg', 'drive/My Drive/dataset1/Non_Covid/30%2.jpg', 'drive/My Drive/dataset1/Non_Covid/30%1.jpg', 'drive/My Drive/dataset1/Non_Covid/30%0.jpg', 'drive/My Drive/dataset1/Non_Covid/30%5.jpg', 'drive/My Drive/dataset1/Non_Covid/32%1.jpg', 'drive/My Drive/dataset1/Non_Covid/32%0.jpg', 'drive/My Drive/dataset1/Non_Covid/35%1.jpg', 'drive/My Drive/dataset1/Non_Covid/35%0.jpg', 'drive/My Drive/dataset1/Non_Covid/35%2.jpg', 'drive/My Drive/dataset1/Non_Covid/38%1.jpg', 'drive/My Drive/dataset1/Non_Covid/38%0.jpg', 'drive/My Drive/dataset1/Non_Covid/37%4.jpg', 'drive/My Drive/dataset1/Non_Covid/37%3.jpg', 'drive/My Drive/dataset1/Non_Covid/37%2.jpg', 'drive/My Drive/dataset1/Non_Covid/37%1.jpg', 'drive/My Drive/dataset1/Non_Covid/37%0.jpg', 'drive/My Drive/dataset1/Non_Covid/39%2.jpg', 'drive/My Drive/dataset1/Non_Covid/39%1.jpg', 'drive/My Drive/dataset1/Non_Covid/39%0.jpg', 'drive/My Drive/dataset1/Non_Covid/38%2.jpg', 'drive/My Drive/dataset1/Non_Covid/39%5.jpg', 'drive/My Drive/dataset1/Non_Covid/39%4.jpg', 'drive/My Drive/dataset1/Non_Covid/39%7.jpg', 'drive/My Drive/dataset1/Non_Covid/39%8.jpg', 'drive/My Drive/dataset1/Non_Covid/43%2.jpg', 'drive/My Drive/dataset1/Non_Covid/43%3.jpg', 'drive/My Drive/dataset1/Non_Covid/44%0.jpg', 'drive/My Drive/dataset1/Non_Covid/44%1.jpg', 'drive/My Drive/dataset1/Non_Covid/52%0.jpg', 'drive/My Drive/dataset1/Non_Covid/52%1.jpg', 'drive/My Drive/dataset1/Non_Covid/56%0.jpg', 'drive/My Drive/dataset1/Non_Covid/56%1.jpg', 'drive/My Drive/dataset1/Non_Covid/59%0.jpg', 'drive/My Drive/dataset1/Non_Covid/64.jpg', 'drive/My Drive/dataset1/Non_Covid/65%3.jpg', 'drive/My Drive/dataset1/Non_Covid/65%4.jpg', 'drive/My Drive/dataset1/Non_Covid/65%0.jpg', 'drive/My Drive/dataset1/Non_Covid/65%1.jpg', 'drive/My Drive/dataset1/Non_Covid/65%2.jpg', 'drive/My Drive/dataset1/Non_Covid/75%1.jpg', 'drive/My Drive/dataset1/Non_Covid/80%1.jpg', 'drive/My Drive/dataset1/Non_Covid/80%0.jpg', 'drive/My Drive/dataset1/Non_Covid/81%3.jpg', 'drive/My Drive/dataset1/Non_Covid/81%2.jpg', 'drive/My Drive/dataset1/Non_Covid/81%1.jpg', 'drive/My Drive/dataset1/Non_Covid/81%0.jpg', 'drive/My Drive/dataset1/Non_Covid/82%0.jpg', 'drive/My Drive/dataset1/Non_Covid/82%3.jpg', 'drive/My Drive/dataset1/Non_Covid/82%2.jpg', 'drive/My Drive/dataset1/Non_Covid/82%1.jpg', 'drive/My Drive/dataset1/Non_Covid/84%1.jpg', 'drive/My Drive/dataset1/Non_Covid/84%0.jpg', 'drive/My Drive/dataset1/Non_Covid/83%3.jpg', 'drive/My Drive/dataset1/Non_Covid/83%2.jpg', 'drive/My Drive/dataset1/Non_Covid/83%1.jpg', 'drive/My Drive/dataset1/Non_Covid/83%0.jpg', 'drive/My Drive/dataset1/Non_Covid/84%2.jpg', 'drive/My Drive/dataset1/Non_Covid/171.png', 'drive/My Drive/dataset1/Non_Covid/120.png', 'drive/My Drive/dataset1/Non_Covid/89%2.jpg', 'drive/My Drive/dataset1/Non_Covid/85%0.jpg', 'drive/My Drive/dataset1/Non_Covid/85%1.jpg', 'drive/My Drive/dataset1/Non_Covid/1298.png', 'drive/My Drive/dataset1/Non_Covid/1332.png', 'drive/My Drive/dataset1/Non_Covid/1331.png', 'drive/My Drive/dataset1/Non_Covid/1330.png', 'drive/My Drive/dataset1/Non_Covid/1328.png', 'drive/My Drive/dataset1/Non_Covid/1313.png', 'drive/My Drive/dataset1/Non_Covid/1333.png', 'drive/My Drive/dataset1/Non_Covid/1575.png', 'drive/My Drive/dataset1/Non_Covid/1845.png', 'drive/My Drive/dataset1/Non_Covid/1868.png', 'drive/My Drive/dataset1/Non_Covid/49%0.jpg', 'drive/My Drive/dataset1/Non_Covid/49%1.jpg', 'drive/My Drive/dataset1/Non_Covid/1079.png', 'drive/My Drive/dataset1/Non_Covid/1078.png', 'drive/My Drive/dataset1/Non_Covid/1164.png', 'drive/My Drive/dataset1/Non_Covid/1277.png', 'drive/My Drive/dataset1/Non_Covid/1264.png', 'drive/My Drive/dataset1/Non_Covid/1297.png', 'drive/My Drive/dataset1/Non_Covid/1576.png', 'drive/My Drive/dataset1/Non_Covid/1577.png', 'drive/My Drive/dataset1/Non_Covid/1876.png', 'drive/My Drive/dataset1/Non_Covid/1877.png', 'drive/My Drive/dataset1/Non_Covid/1309.png', 'drive/My Drive/dataset1/Non_Covid/1308.png', 'drive/My Drive/dataset1/Non_Covid/1307.png', 'drive/My Drive/dataset1/Non_Covid/1306.png', 'drive/My Drive/dataset1/Non_Covid/1305.png', 'drive/My Drive/dataset1/Non_Covid/1221.png', 'drive/My Drive/dataset1/Non_Covid/969.png', 'drive/My Drive/dataset1/Non_Covid/957.png', 'drive/My Drive/dataset1/Non_Covid/956.png', 'drive/My Drive/dataset1/Non_Covid/1238.png', 'drive/My Drive/dataset1/Non_Covid/1070.png', 'drive/My Drive/dataset1/Non_Covid/662.png', 'drive/My Drive/dataset1/Non_Covid/661.png', 'drive/My Drive/dataset1/Non_Covid/660.png', 'drive/My Drive/dataset1/Non_Covid/658.png', 'drive/My Drive/dataset1/Non_Covid/592.png', 'drive/My Drive/dataset1/Non_Covid/591.png', 'drive/My Drive/dataset1/Non_Covid/590.png', 'drive/My Drive/dataset1/Non_Covid/576.png', 'drive/My Drive/dataset1/Non_Covid/575.png', 'drive/My Drive/dataset1/Non_Covid/452.png', 'drive/My Drive/dataset1/Non_Covid/383.png', 'drive/My Drive/dataset1/Non_Covid/381.png', 'drive/My Drive/dataset1/Non_Covid/354.png', 'drive/My Drive/dataset1/Non_Covid/227.png', 'drive/My Drive/dataset1/Non_Covid/226.png', 'drive/My Drive/dataset1/Non_Covid/82.png', 'drive/My Drive/dataset1/Non_Covid/81.png', 'drive/My Drive/dataset1/Non_Covid/71%0.jpg', 'drive/My Drive/dataset1/Non_Covid/71%1.jpg', 'drive/My Drive/dataset1/Non_Covid/63%6.jpg', 'drive/My Drive/dataset1/Non_Covid/63%7.jpg', 'drive/My Drive/dataset1/Non_Covid/51%1.jpg']\n"
          ]
        }
      ]
    },
    {
      "cell_type": "code",
      "source": [
        "from google.colab import drive\n",
        "drive.mount('/content/drive')"
      ],
      "metadata": {
        "colab": {
          "base_uri": "https://localhost:8080/"
        },
        "id": "mUKNcVrW1l-q",
        "outputId": "fa2eccbe-d1a1-4d73-872c-998ebd735a35"
      },
      "execution_count": null,
      "outputs": [
        {
          "output_type": "stream",
          "name": "stdout",
          "text": [
            "Drive already mounted at /content/drive; to attempt to forcibly remount, call drive.mount(\"/content/drive\", force_remount=True).\n"
          ]
        }
      ]
    },
    {
      "cell_type": "code",
      "metadata": {
        "id": "mogLESSxfybM"
      },
      "source": [
        "for imagePath in imagePaths:\n",
        "\t\n",
        "\tlabel = imagePath.split(os.path.sep)[-2]\n",
        "\timage = cv2.imread(imagePath)\n",
        "\timage = cv2.cvtColor(image, cv2.COLOR_BGR2RGB)\n",
        "\timage = cv2.resize(image, (224, 224))\n",
        "\n",
        "\tdata.append(image)\n",
        "\tlabels.append(label)\n",
        "\n",
        "data = np.array(data) / 255.0\n",
        "labels = np.array(labels)"
      ],
      "execution_count": null,
      "outputs": []
    },
    {
      "cell_type": "code",
      "metadata": {
        "id": "EubXfA8tgRP5"
      },
      "source": [
        "lb = LabelBinarizer()\n",
        "labels = lb.fit_transform(labels)\n",
        "labels = to_categorical(labels)"
      ],
      "execution_count": null,
      "outputs": []
    },
    {
      "cell_type": "code",
      "metadata": {
        "id": "MZ1msXT-gR9W"
      },
      "source": [
        "(trainX, testX, trainY, testY) = train_test_split(data, labels,\n",
        "\ttest_size=0.20, stratify=labels, random_state=42)"
      ],
      "execution_count": null,
      "outputs": []
    },
    {
      "cell_type": "code",
      "metadata": {
        "id": "Ng48sTHAgVLi"
      },
      "source": [
        "trainAug = ImageDataGenerator(\n",
        "\trotation_range=15,\n",
        "\tfill_mode=\"nearest\")"
      ],
      "execution_count": null,
      "outputs": []
    },
    {
      "cell_type": "code",
      "metadata": {
        "id": "7iUVxILAmSDP"
      },
      "source": [
        "from tensorflow.keras.applications import NASNetMobile\n",
        "inputs = Input((224, 224, 3))"
      ],
      "execution_count": null,
      "outputs": []
    },
    {
      "cell_type": "code",
      "metadata": {
        "id": "rDs_kLuss-BF",
        "colab": {
          "base_uri": "https://localhost:8080/"
        },
        "outputId": "5d0910a5-54c4-4b8f-99f4-fbb904d1f75e"
      },
      "source": [
        "base_model = NASNetMobile(input_shape=(224,224,3),include_top=False,weights=\"imagenet\")"
      ],
      "execution_count": null,
      "outputs": [
        {
          "output_type": "stream",
          "name": "stdout",
          "text": [
            "Downloading data from https://storage.googleapis.com/tensorflow/keras-applications/nasnet/NASNet-mobile-no-top.h5\n",
            "19996672/19993432 [==============================] - 1s 0us/step\n",
            "20004864/19993432 [==============================] - 1s 0us/step\n"
          ]
        }
      ]
    },
    {
      "cell_type": "code",
      "metadata": {
        "id": "iH_vKyp9u9GX"
      },
      "source": [
        "import tensorflow as tf\n",
        "from tensorflow.keras.preprocessing.image import ImageDataGenerator\n",
        "from tensorflow.keras.preprocessing import image_dataset_from_directory\n",
        "from tensorflow.keras.models import Sequential\n",
        "from tensorflow.keras.layers import InputLayer, BatchNormalization, Dropout, Flatten, Dense, Activation, MaxPool2D, Conv2D\n",
        "from tensorflow.keras.callbacks import EarlyStopping, ModelCheckpoint\n",
        "from tensorflow.keras.applications.resnet50 import ResNet50\n",
        "from tensorflow.keras.utils import to_categorical\n",
        "from keras import optimizers\n",
        "from tensorflow.keras.optimizers import Adam\n",
        "for layer in base_model.layers[:-4]:\n",
        "    layer.trainable=False\n",
        "model=Sequential()\n",
        "model.add(base_model)\n",
        "model.add(Dropout(0.5))\n",
        "model.add(Flatten())\n",
        "model.add(BatchNormalization())\n",
        "model.add(Dense(32,kernel_initializer='he_uniform'))\n",
        "model.add(BatchNormalization())\n",
        "model.add(Activation('relu'))\n",
        "model.add(Dropout(0.5))\n",
        "model.add(Dense(32,kernel_initializer='he_uniform'))\n",
        "model.add(BatchNormalization())\n",
        "model.add(Activation('relu'))\n",
        "model.add(Dropout(0.5))\n",
        "model.add(Dense(32,kernel_initializer='he_uniform'))\n",
        "model.add(BatchNormalization())\n",
        "model.add(Activation('relu'))\n",
        "model.add(Dense(2,activation='softmax'))\n"
      ],
      "execution_count": null,
      "outputs": []
    },
    {
      "cell_type": "code",
      "source": [
        "model.compile(loss=\"binary_crossentropy\", optimizer='Nadam',\n",
        "\tmetrics=[\"accuracy\"])\n",
        "model.summary()"
      ],
      "metadata": {
        "colab": {
          "base_uri": "https://localhost:8080/"
        },
        "id": "-g3URRDBmvme",
        "outputId": "be9da1f6-4850-47be-8361-1d3474e6941e"
      },
      "execution_count": null,
      "outputs": [
        {
          "output_type": "stream",
          "name": "stdout",
          "text": [
            "Model: \"sequential\"\n",
            "_________________________________________________________________\n",
            " Layer (type)                Output Shape              Param #   \n",
            "=================================================================\n",
            " NASNet (Functional)         (None, 7, 7, 1056)        4269716   \n",
            "                                                                 \n",
            " dropout (Dropout)           (None, 7, 7, 1056)        0         \n",
            "                                                                 \n",
            " flatten (Flatten)           (None, 51744)             0         \n",
            "                                                                 \n",
            " batch_normalization (BatchN  (None, 51744)            206976    \n",
            " ormalization)                                                   \n",
            "                                                                 \n",
            " dense (Dense)               (None, 32)                1655840   \n",
            "                                                                 \n",
            " batch_normalization_1 (Batc  (None, 32)               128       \n",
            " hNormalization)                                                 \n",
            "                                                                 \n",
            " activation_188 (Activation)  (None, 32)               0         \n",
            "                                                                 \n",
            " dropout_1 (Dropout)         (None, 32)                0         \n",
            "                                                                 \n",
            " dense_1 (Dense)             (None, 32)                1056      \n",
            "                                                                 \n",
            " batch_normalization_2 (Batc  (None, 32)               128       \n",
            " hNormalization)                                                 \n",
            "                                                                 \n",
            " activation_189 (Activation)  (None, 32)               0         \n",
            "                                                                 \n",
            " dropout_2 (Dropout)         (None, 32)                0         \n",
            "                                                                 \n",
            " dense_2 (Dense)             (None, 32)                1056      \n",
            "                                                                 \n",
            " batch_normalization_3 (Batc  (None, 32)               128       \n",
            " hNormalization)                                                 \n",
            "                                                                 \n",
            " activation_190 (Activation)  (None, 32)               0         \n",
            "                                                                 \n",
            " dense_3 (Dense)             (None, 2)                 66        \n",
            "                                                                 \n",
            "=================================================================\n",
            "Total params: 6,135,094\n",
            "Trainable params: 1,761,698\n",
            "Non-trainable params: 4,373,396\n",
            "_________________________________________________________________\n"
          ]
        }
      ]
    },
    {
      "cell_type": "code",
      "metadata": {
        "id": "_PeFWbdhvL-G",
        "colab": {
          "base_uri": "https://localhost:8080/"
        },
        "outputId": "b60d1b06-faaa-4765-d024-1c1ed11f99f4"
      },
      "source": [
        "BS = 16\n",
        "H = model.fit_generator(\n",
        "\ttrainAug.flow(trainX, trainY, batch_size=BS),\n",
        "\tsteps_per_epoch=len(trainX) // BS,\n",
        "\tvalidation_data=(testX, testY),\n",
        "\tvalidation_steps=len(testX) // BS,\n",
        "\tepochs=50)"
      ],
      "execution_count": null,
      "outputs": [
        {
          "output_type": "stream",
          "name": "stdout",
          "text": [
            "Epoch 1/50\n",
            "37/37 [==============================] - 37s 319ms/step - loss: 0.7097 - accuracy: 0.5690 - val_loss: 0.7163 - val_accuracy: 0.6333\n",
            "Epoch 2/50\n",
            "37/37 [==============================] - 7s 199ms/step - loss: 0.6699 - accuracy: 0.6121 - val_loss: 0.6005 - val_accuracy: 0.7200\n",
            "Epoch 3/50\n",
            "37/37 [==============================] - 9s 229ms/step - loss: 0.6432 - accuracy: 0.6586 - val_loss: 0.5697 - val_accuracy: 0.7067\n",
            "Epoch 4/50\n",
            "37/37 [==============================] - 7s 199ms/step - loss: 0.6140 - accuracy: 0.6966 - val_loss: 0.5407 - val_accuracy: 0.7133\n",
            "Epoch 5/50\n",
            "37/37 [==============================] - 7s 200ms/step - loss: 0.5798 - accuracy: 0.7276 - val_loss: 0.5050 - val_accuracy: 0.7467\n",
            "Epoch 6/50\n",
            "37/37 [==============================] - 8s 203ms/step - loss: 0.5389 - accuracy: 0.7638 - val_loss: 0.4768 - val_accuracy: 0.7800\n",
            "Epoch 7/50\n",
            "37/37 [==============================] - 7s 201ms/step - loss: 0.4966 - accuracy: 0.7821 - val_loss: 0.4676 - val_accuracy: 0.7600\n",
            "Epoch 8/50\n",
            "37/37 [==============================] - 7s 198ms/step - loss: 0.4936 - accuracy: 0.7862 - val_loss: 0.4476 - val_accuracy: 0.7733\n",
            "Epoch 9/50\n",
            "37/37 [==============================] - 7s 202ms/step - loss: 0.4591 - accuracy: 0.7966 - val_loss: 0.4257 - val_accuracy: 0.7933\n",
            "Epoch 10/50\n",
            "37/37 [==============================] - 8s 203ms/step - loss: 0.4357 - accuracy: 0.8103 - val_loss: 0.4302 - val_accuracy: 0.7867\n",
            "Epoch 11/50\n",
            "37/37 [==============================] - 7s 199ms/step - loss: 0.4295 - accuracy: 0.8069 - val_loss: 0.4385 - val_accuracy: 0.7867\n",
            "Epoch 12/50\n",
            "37/37 [==============================] - 8s 203ms/step - loss: 0.4140 - accuracy: 0.8155 - val_loss: 0.4407 - val_accuracy: 0.7733\n",
            "Epoch 13/50\n",
            "37/37 [==============================] - 7s 199ms/step - loss: 0.3408 - accuracy: 0.8517 - val_loss: 0.4369 - val_accuracy: 0.7933\n",
            "Epoch 14/50\n",
            "37/37 [==============================] - 7s 201ms/step - loss: 0.3621 - accuracy: 0.8448 - val_loss: 0.4210 - val_accuracy: 0.7933\n",
            "Epoch 15/50\n",
            "37/37 [==============================] - 7s 201ms/step - loss: 0.3403 - accuracy: 0.8603 - val_loss: 0.4221 - val_accuracy: 0.7867\n",
            "Epoch 16/50\n",
            "37/37 [==============================] - 7s 195ms/step - loss: 0.3272 - accuracy: 0.8621 - val_loss: 0.3974 - val_accuracy: 0.8067\n",
            "Epoch 17/50\n",
            "37/37 [==============================] - 7s 196ms/step - loss: 0.3305 - accuracy: 0.8621 - val_loss: 0.4075 - val_accuracy: 0.8200\n",
            "Epoch 18/50\n",
            "37/37 [==============================] - 8s 209ms/step - loss: 0.3495 - accuracy: 0.8603 - val_loss: 0.4062 - val_accuracy: 0.8200\n",
            "Epoch 19/50\n",
            "37/37 [==============================] - 9s 254ms/step - loss: 0.3177 - accuracy: 0.8672 - val_loss: 0.4119 - val_accuracy: 0.8000\n",
            "Epoch 20/50\n",
            "37/37 [==============================] - 7s 202ms/step - loss: 0.2980 - accuracy: 0.8759 - val_loss: 0.3893 - val_accuracy: 0.8067\n",
            "Epoch 21/50\n",
            "37/37 [==============================] - 7s 193ms/step - loss: 0.2882 - accuracy: 0.8741 - val_loss: 0.4087 - val_accuracy: 0.8267\n",
            "Epoch 22/50\n",
            "37/37 [==============================] - 7s 197ms/step - loss: 0.2765 - accuracy: 0.8862 - val_loss: 0.4332 - val_accuracy: 0.7933\n",
            "Epoch 23/50\n",
            "37/37 [==============================] - 7s 192ms/step - loss: 0.2911 - accuracy: 0.8914 - val_loss: 0.4433 - val_accuracy: 0.8133\n",
            "Epoch 24/50\n",
            "37/37 [==============================] - 7s 192ms/step - loss: 0.2423 - accuracy: 0.9138 - val_loss: 0.4224 - val_accuracy: 0.8267\n",
            "Epoch 25/50\n",
            "37/37 [==============================] - 7s 191ms/step - loss: 0.2567 - accuracy: 0.9000 - val_loss: 0.4071 - val_accuracy: 0.8133\n",
            "Epoch 26/50\n",
            "37/37 [==============================] - 7s 185ms/step - loss: 0.2282 - accuracy: 0.9172 - val_loss: 0.4094 - val_accuracy: 0.8267\n",
            "Epoch 27/50\n",
            "37/37 [==============================] - 7s 194ms/step - loss: 0.2395 - accuracy: 0.9017 - val_loss: 0.3991 - val_accuracy: 0.8333\n",
            "Epoch 28/50\n",
            "37/37 [==============================] - 7s 189ms/step - loss: 0.2272 - accuracy: 0.9069 - val_loss: 0.4020 - val_accuracy: 0.8267\n",
            "Epoch 29/50\n",
            "37/37 [==============================] - 8s 202ms/step - loss: 0.2873 - accuracy: 0.9000 - val_loss: 0.3988 - val_accuracy: 0.8267\n",
            "Epoch 30/50\n",
            "37/37 [==============================] - 7s 191ms/step - loss: 0.2412 - accuracy: 0.9052 - val_loss: 0.3809 - val_accuracy: 0.8200\n",
            "Epoch 31/50\n",
            "37/37 [==============================] - 7s 198ms/step - loss: 0.2462 - accuracy: 0.9000 - val_loss: 0.3752 - val_accuracy: 0.8133\n",
            "Epoch 32/50\n",
            "37/37 [==============================] - 7s 194ms/step - loss: 0.2368 - accuracy: 0.9139 - val_loss: 0.3627 - val_accuracy: 0.8333\n",
            "Epoch 33/50\n",
            "37/37 [==============================] - 7s 191ms/step - loss: 0.2872 - accuracy: 0.8845 - val_loss: 0.3704 - val_accuracy: 0.8400\n",
            "Epoch 34/50\n",
            "37/37 [==============================] - 7s 191ms/step - loss: 0.2380 - accuracy: 0.9086 - val_loss: 0.3562 - val_accuracy: 0.8533\n",
            "Epoch 35/50\n",
            "37/37 [==============================] - 7s 190ms/step - loss: 0.1734 - accuracy: 0.9414 - val_loss: 0.3528 - val_accuracy: 0.8400\n",
            "Epoch 36/50\n",
            "37/37 [==============================] - 9s 240ms/step - loss: 0.1932 - accuracy: 0.9276 - val_loss: 0.3531 - val_accuracy: 0.8533\n",
            "Epoch 37/50\n",
            "37/37 [==============================] - 7s 198ms/step - loss: 0.1832 - accuracy: 0.9362 - val_loss: 0.3608 - val_accuracy: 0.8467\n",
            "Epoch 38/50\n",
            "37/37 [==============================] - 7s 196ms/step - loss: 0.1883 - accuracy: 0.9241 - val_loss: 0.3477 - val_accuracy: 0.8600\n",
            "Epoch 39/50\n",
            "37/37 [==============================] - 7s 194ms/step - loss: 0.2101 - accuracy: 0.9172 - val_loss: 0.3525 - val_accuracy: 0.8600\n",
            "Epoch 40/50\n",
            "37/37 [==============================] - 7s 192ms/step - loss: 0.2082 - accuracy: 0.9172 - val_loss: 0.3495 - val_accuracy: 0.8667\n",
            "Epoch 41/50\n",
            "37/37 [==============================] - 7s 191ms/step - loss: 0.1640 - accuracy: 0.9483 - val_loss: 0.3615 - val_accuracy: 0.8667\n",
            "Epoch 42/50\n",
            "37/37 [==============================] - 7s 189ms/step - loss: 0.1475 - accuracy: 0.9448 - val_loss: 0.3711 - val_accuracy: 0.8467\n",
            "Epoch 43/50\n",
            "37/37 [==============================] - 7s 196ms/step - loss: 0.1609 - accuracy: 0.9362 - val_loss: 0.3901 - val_accuracy: 0.8400\n",
            "Epoch 44/50\n",
            "37/37 [==============================] - 7s 190ms/step - loss: 0.1567 - accuracy: 0.9448 - val_loss: 0.3777 - val_accuracy: 0.8400\n",
            "Epoch 45/50\n",
            "37/37 [==============================] - 7s 199ms/step - loss: 0.1892 - accuracy: 0.9328 - val_loss: 0.3783 - val_accuracy: 0.8400\n",
            "Epoch 46/50\n",
            "37/37 [==============================] - 7s 192ms/step - loss: 0.1911 - accuracy: 0.9345 - val_loss: 0.3576 - val_accuracy: 0.8600\n",
            "Epoch 47/50\n",
            "37/37 [==============================] - 7s 198ms/step - loss: 0.1827 - accuracy: 0.9328 - val_loss: 0.3549 - val_accuracy: 0.8467\n",
            "Epoch 48/50\n",
            "37/37 [==============================] - 7s 198ms/step - loss: 0.1971 - accuracy: 0.9397 - val_loss: 0.3550 - val_accuracy: 0.8467\n",
            "Epoch 49/50\n",
            "37/37 [==============================] - 7s 196ms/step - loss: 0.1808 - accuracy: 0.9362 - val_loss: 0.3635 - val_accuracy: 0.8533\n",
            "Epoch 50/50\n",
            "37/37 [==============================] - 7s 195ms/step - loss: 0.1462 - accuracy: 0.9552 - val_loss: 0.3886 - val_accuracy: 0.8267\n"
          ]
        }
      ]
    },
    {
      "cell_type": "code",
      "source": [
        "predIdxs = model.predict(testX, batch_size=BS)\n",
        "predIdxs = np.argmax(predIdxs, axis=1)\n",
        "print(classification_report(testY.argmax(axis=1), predIdxs,\n",
        "\ttarget_names=lb.classes_))"
      ],
      "metadata": {
        "colab": {
          "base_uri": "https://localhost:8080/"
        },
        "id": "2kpJ_QfRo_cX",
        "outputId": "277cc608-f4a4-4904-e447-d3d28c60a1d7"
      },
      "execution_count": null,
      "outputs": [
        {
          "output_type": "stream",
          "name": "stdout",
          "text": [
            "              precision    recall  f1-score   support\n",
            "\n",
            "       Covid       0.81      0.83      0.82        70\n",
            "   Non_Covid       0.85      0.82      0.84        80\n",
            "\n",
            "    accuracy                           0.83       150\n",
            "   macro avg       0.83      0.83      0.83       150\n",
            "weighted avg       0.83      0.83      0.83       150\n",
            "\n"
          ]
        }
      ]
    },
    {
      "cell_type": "code",
      "source": [
        "from sklearn.metrics import f1_score\n",
        "f1_score(testY.argmax(axis=1), predIdxs, average='micro')"
      ],
      "metadata": {
        "colab": {
          "base_uri": "https://localhost:8080/"
        },
        "id": "SVnsI8eIpFnP",
        "outputId": "dfe2dea5-d466-4ddb-d342-13e840a7b1e7"
      },
      "execution_count": null,
      "outputs": [
        {
          "output_type": "execute_result",
          "data": {
            "text/plain": [
              "0.8266666666666667"
            ]
          },
          "metadata": {},
          "execution_count": 15
        }
      ]
    },
    {
      "cell_type": "code",
      "source": [
        "from sklearn.metrics import roc_auc_score\n",
        "roc_auc_score(testY.argmax(axis=1), predIdxs)"
      ],
      "metadata": {
        "colab": {
          "base_uri": "https://localhost:8080/"
        },
        "id": "F49DJV5PpKOb",
        "outputId": "8a7469c2-76ae-4c5c-b84c-6bdd8984b743"
      },
      "execution_count": null,
      "outputs": [
        {
          "output_type": "execute_result",
          "data": {
            "text/plain": [
              "0.8267857142857142"
            ]
          },
          "metadata": {},
          "execution_count": 16
        }
      ]
    },
    {
      "cell_type": "code",
      "source": [
        "from sklearn.metrics import confusion_matrix\n",
        "a = confusion_matrix(testY.argmax(axis=1), predIdxs)\n",
        "print('Sensitivity=',a[0,0]/(a[0,0]+a[0,1]))\n",
        "print('Specificity=',a[1,1]/(a[1,0]+a[1,1]))"
      ],
      "metadata": {
        "colab": {
          "base_uri": "https://localhost:8080/"
        },
        "id": "LN2xVpxOpNLf",
        "outputId": "6f32f9d9-9862-4404-c24c-23e5ff7a85b7"
      },
      "execution_count": null,
      "outputs": [
        {
          "output_type": "stream",
          "name": "stdout",
          "text": [
            "Sensitivity= 0.8285714285714286\n",
            "Specificity= 0.825\n"
          ]
        }
      ]
    },
    {
      "cell_type": "code",
      "source": [
        "N = 50\n",
        "plt.style.use(\"ggplot\")\n",
        "plt.figure()\n",
        "plt.plot(np.arange(0, N), H.history[\"loss\"], label=\"train_loss\")\n",
        "plt.plot(np.arange(0, N), H.history[\"val_loss\"], label=\"val_loss\")\n",
        "plt.plot(np.arange(0, N), H.history[\"accuracy\"], label=\"train_acc\")\n",
        "plt.plot(np.arange(0, N), H.history[\"val_accuracy\"], label=\"val_acc\")\n",
        "plt.title(\"Training Loss and Accuracy on COVID-19 Dataset\")\n",
        "plt.xlabel(\"Epoch #\")\n",
        "plt.ylabel(\"Loss/Accuracy\")\n",
        "plt.legend(loc=\"lower left\")\n"
      ],
      "metadata": {
        "colab": {
          "base_uri": "https://localhost:8080/",
          "height": 317
        },
        "id": "DQDIgQmHFCeU",
        "outputId": "a4d1fb12-6bab-447b-98b8-3b14ebc13d33"
      },
      "execution_count": null,
      "outputs": [
        {
          "output_type": "execute_result",
          "data": {
            "text/plain": [
              "<matplotlib.legend.Legend at 0x7fa8fb95ff90>"
            ]
          },
          "metadata": {},
          "execution_count": 18
        },
        {
          "output_type": "display_data",
          "data": {
            "text/plain": [
              "<Figure size 432x288 with 1 Axes>"
            ],
            "image/png": "[encoded data removed]"
          },
          "metadata": {}
        }
      ]
    },
    {
      "cell_type": "code",
      "metadata": {
        "id": "1K2KXFrtgaRD",
        "colab": {
          "base_uri": "https://localhost:8080/"
        },
        "outputId": "48b65643-4555-48fa-f958-f41983bab87d"
      },
      "source": [
        "from tensorflow.keras.applications import VGG19\n",
        "baseModel = VGG19(weights=\"imagenet\", include_top=False,\n",
        "\tinput_tensor=Input(shape=(224, 224, 3)))"
      ],
      "execution_count": null,
      "outputs": [
        {
          "output_type": "stream",
          "name": "stdout",
          "text": [
            "Downloading data from https://storage.googleapis.com/tensorflow/keras-applications/vgg19/vgg19_weights_tf_dim_ordering_tf_kernels_notop.h5\n",
            "80142336/80134624 [==============================] - 0s 0us/step\n",
            "80150528/80134624 [==============================] - 0s 0us/step\n"
          ]
        }
      ]
    },
    {
      "cell_type": "code",
      "metadata": {
        "id": "w_PwVsfmhoNc"
      },
      "source": [
        "headModel = baseModel.output\n",
        "headModel = AveragePooling2D(pool_size=(4, 4))(headModel)\n",
        "headModel = Flatten(name=\"flatten\")(headModel)\n",
        "headModel = Dense(64, activation=\"relu\")(headModel)\n",
        "headModel = Dropout(0.5)(headModel)\n",
        "headModel = Dense(2, activation=\"softmax\")(headModel)"
      ],
      "execution_count": null,
      "outputs": []
    },
    {
      "cell_type": "code",
      "metadata": {
        "id": "GnM2vp3W1j_E"
      },
      "source": [
        "model = Model(inputs=baseModel.input, outputs=headModel)"
      ],
      "execution_count": null,
      "outputs": []
    },
    {
      "cell_type": "code",
      "metadata": {
        "id": "OmI-3jNC1sn4"
      },
      "source": [
        "for layer in baseModel.layers:\n",
        "\tlayer.trainable = False\n"
      ],
      "execution_count": null,
      "outputs": []
    },
    {
      "cell_type": "code",
      "metadata": {
        "id": "3A5ZAYWl3fqz",
        "colab": {
          "base_uri": "https://localhost:8080/"
        },
        "outputId": "41da7d23-66f5-447c-8a65-0b38867b74c8"
      },
      "source": [
        "\n",
        "model.compile(loss=\"binary_crossentropy\", optimizer='Nadam',\n",
        "\tmetrics=[\"accuracy\"])\n",
        "model.summary()\n"
      ],
      "execution_count": null,
      "outputs": [
        {
          "output_type": "stream",
          "name": "stdout",
          "text": [
            "Model: \"model\"\n",
            "_________________________________________________________________\n",
            " Layer (type)                Output Shape              Param #   \n",
            "=================================================================\n",
            " input_3 (InputLayer)        [(None, 224, 224, 3)]     0         \n",
            "                                                                 \n",
            " block1_conv1 (Conv2D)       (None, 224, 224, 64)      1792      \n",
            "                                                                 \n",
            " block1_conv2 (Conv2D)       (None, 224, 224, 64)      36928     \n",
            "                                                                 \n",
            " block1_pool (MaxPooling2D)  (None, 112, 112, 64)      0         \n",
            "                                                                 \n",
            " block2_conv1 (Conv2D)       (None, 112, 112, 128)     73856     \n",
            "                                                                 \n",
            " block2_conv2 (Conv2D)       (None, 112, 112, 128)     147584    \n",
            "                                                                 \n",
            " block2_pool (MaxPooling2D)  (None, 56, 56, 128)       0         \n",
            "                                                                 \n",
            " block3_conv1 (Conv2D)       (None, 56, 56, 256)       295168    \n",
            "                                                                 \n",
            " block3_conv2 (Conv2D)       (None, 56, 56, 256)       590080    \n",
            "                                                                 \n",
            " block3_conv3 (Conv2D)       (None, 56, 56, 256)       590080    \n",
            "                                                                 \n",
            " block3_conv4 (Conv2D)       (None, 56, 56, 256)       590080    \n",
            "                                                                 \n",
            " block3_pool (MaxPooling2D)  (None, 28, 28, 256)       0         \n",
            "                                                                 \n",
            " block4_conv1 (Conv2D)       (None, 28, 28, 512)       1180160   \n",
            "                                                                 \n",
            " block4_conv2 (Conv2D)       (None, 28, 28, 512)       2359808   \n",
            "                                                                 \n",
            " block4_conv3 (Conv2D)       (None, 28, 28, 512)       2359808   \n",
            "                                                                 \n",
            " block4_conv4 (Conv2D)       (None, 28, 28, 512)       2359808   \n",
            "                                                                 \n",
            " block4_pool (MaxPooling2D)  (None, 14, 14, 512)       0         \n",
            "                                                                 \n",
            " block5_conv1 (Conv2D)       (None, 14, 14, 512)       2359808   \n",
            "                                                                 \n",
            " block5_conv2 (Conv2D)       (None, 14, 14, 512)       2359808   \n",
            "                                                                 \n",
            " block5_conv3 (Conv2D)       (None, 14, 14, 512)       2359808   \n",
            "                                                                 \n",
            " block5_conv4 (Conv2D)       (None, 14, 14, 512)       2359808   \n",
            "                                                                 \n",
            " block5_pool (MaxPooling2D)  (None, 7, 7, 512)         0         \n",
            "                                                                 \n",
            " average_pooling2d (AverageP  (None, 1, 1, 512)        0         \n",
            " ooling2D)                                                       \n",
            "                                                                 \n",
            " flatten (Flatten)           (None, 512)               0         \n",
            "                                                                 \n",
            " dense_13 (Dense)            (None, 64)                32832     \n",
            "                                                                 \n",
            " dropout_11 (Dropout)        (None, 64)                0         \n",
            "                                                                 \n",
            " dense_14 (Dense)            (None, 2)                 130       \n",
            "                                                                 \n",
            "=================================================================\n",
            "Total params: 20,057,346\n",
            "Trainable params: 32,962\n",
            "Non-trainable params: 20,024,384\n",
            "_________________________________________________________________\n"
          ]
        }
      ]
    },
    {
      "cell_type": "code",
      "metadata": {
        "id": "NAXHqO223kKA",
        "colab": {
          "base_uri": "https://localhost:8080/"
        },
        "outputId": "c7b40b8e-5610-4bb3-9f73-2ea42afb0dae"
      },
      "source": [
        "BS = 16\n",
        "H3 = model.fit_generator(\n",
        "\ttrainAug.flow(trainX, trainY, batch_size=BS),\n",
        "\tsteps_per_epoch=len(trainX) // BS,\n",
        "\tvalidation_data=(testX, testY),\n",
        "\tvalidation_steps=len(testX) // BS,\n",
        "\t\tepochs=50)"
      ],
      "execution_count": null,
      "outputs": [
        {
          "output_type": "stream",
          "name": "stdout",
          "text": [
            "Epoch 1/50\n",
            "37/37 [==============================] - 15s 329ms/step - loss: 0.7097 - accuracy: 0.5259 - val_loss: 0.6720 - val_accuracy: 0.6600\n",
            "Epoch 2/50\n",
            "37/37 [==============================] - 9s 233ms/step - loss: 0.6830 - accuracy: 0.5655 - val_loss: 0.6521 - val_accuracy: 0.7467\n",
            "Epoch 3/50\n",
            "37/37 [==============================] - 8s 208ms/step - loss: 0.6732 - accuracy: 0.5828 - val_loss: 0.6382 - val_accuracy: 0.6400\n",
            "Epoch 4/50\n",
            "37/37 [==============================] - 8s 219ms/step - loss: 0.6430 - accuracy: 0.6569 - val_loss: 0.6153 - val_accuracy: 0.7267\n",
            "Epoch 5/50\n",
            "37/37 [==============================] - 14s 375ms/step - loss: 0.6356 - accuracy: 0.6517 - val_loss: 0.5950 - val_accuracy: 0.7667\n",
            "Epoch 6/50\n",
            "37/37 [==============================] - 12s 319ms/step - loss: 0.6161 - accuracy: 0.6914 - val_loss: 0.5820 - val_accuracy: 0.7533\n",
            "Epoch 7/50\n",
            "37/37 [==============================] - 12s 335ms/step - loss: 0.6018 - accuracy: 0.6931 - val_loss: 0.5755 - val_accuracy: 0.7067\n",
            "Epoch 8/50\n",
            "37/37 [==============================] - 11s 300ms/step - loss: 0.5904 - accuracy: 0.7069 - val_loss: 0.5461 - val_accuracy: 0.7533\n",
            "Epoch 9/50\n",
            "37/37 [==============================] - 11s 306ms/step - loss: 0.5902 - accuracy: 0.7034 - val_loss: 0.5367 - val_accuracy: 0.7733\n",
            "Epoch 10/50\n",
            "37/37 [==============================] - 10s 282ms/step - loss: 0.5693 - accuracy: 0.7069 - val_loss: 0.5381 - val_accuracy: 0.7533\n",
            "Epoch 11/50\n",
            "37/37 [==============================] - 8s 211ms/step - loss: 0.5662 - accuracy: 0.7293 - val_loss: 0.5226 - val_accuracy: 0.7800\n",
            "Epoch 12/50\n",
            "37/37 [==============================] - 8s 224ms/step - loss: 0.5644 - accuracy: 0.7121 - val_loss: 0.5346 - val_accuracy: 0.7333\n",
            "Epoch 13/50\n",
            "37/37 [==============================] - 8s 212ms/step - loss: 0.5497 - accuracy: 0.7121 - val_loss: 0.4952 - val_accuracy: 0.8067\n",
            "Epoch 14/50\n",
            "37/37 [==============================] - 8s 209ms/step - loss: 0.5457 - accuracy: 0.7328 - val_loss: 0.5078 - val_accuracy: 0.7800\n",
            "Epoch 15/50\n",
            "37/37 [==============================] - 8s 210ms/step - loss: 0.5194 - accuracy: 0.7638 - val_loss: 0.4742 - val_accuracy: 0.8400\n",
            "Epoch 16/50\n",
            "37/37 [==============================] - 8s 220ms/step - loss: 0.5325 - accuracy: 0.7414 - val_loss: 0.4736 - val_accuracy: 0.8267\n",
            "Epoch 17/50\n",
            "37/37 [==============================] - 8s 210ms/step - loss: 0.5329 - accuracy: 0.7379 - val_loss: 0.4767 - val_accuracy: 0.8067\n",
            "Epoch 18/50\n",
            "37/37 [==============================] - 8s 208ms/step - loss: 0.5365 - accuracy: 0.7345 - val_loss: 0.5053 - val_accuracy: 0.7533\n",
            "Epoch 19/50\n",
            "37/37 [==============================] - 8s 211ms/step - loss: 0.5090 - accuracy: 0.7569 - val_loss: 0.4663 - val_accuracy: 0.8133\n",
            "Epoch 20/50\n",
            "37/37 [==============================] - 8s 210ms/step - loss: 0.5192 - accuracy: 0.7362 - val_loss: 0.4575 - val_accuracy: 0.8333\n",
            "Epoch 21/50\n",
            "37/37 [==============================] - 8s 210ms/step - loss: 0.5015 - accuracy: 0.7690 - val_loss: 0.4615 - val_accuracy: 0.8267\n",
            "Epoch 22/50\n",
            "37/37 [==============================] - 8s 210ms/step - loss: 0.5150 - accuracy: 0.7448 - val_loss: 0.4646 - val_accuracy: 0.8467\n",
            "Epoch 23/50\n",
            "37/37 [==============================] - 8s 222ms/step - loss: 0.4788 - accuracy: 0.7776 - val_loss: 0.5037 - val_accuracy: 0.7333\n",
            "Epoch 24/50\n",
            "37/37 [==============================] - 8s 209ms/step - loss: 0.4856 - accuracy: 0.7862 - val_loss: 0.4504 - val_accuracy: 0.8267\n",
            "Epoch 25/50\n",
            "37/37 [==============================] - 8s 212ms/step - loss: 0.5008 - accuracy: 0.7618 - val_loss: 0.4600 - val_accuracy: 0.8133\n",
            "Epoch 26/50\n",
            "37/37 [==============================] - 9s 231ms/step - loss: 0.4869 - accuracy: 0.7810 - val_loss: 0.4637 - val_accuracy: 0.8000\n",
            "Epoch 27/50\n",
            "37/37 [==============================] - 9s 244ms/step - loss: 0.4867 - accuracy: 0.7724 - val_loss: 0.4518 - val_accuracy: 0.8200\n",
            "Epoch 28/50\n",
            "37/37 [==============================] - 8s 215ms/step - loss: 0.4801 - accuracy: 0.7776 - val_loss: 0.4690 - val_accuracy: 0.8000\n",
            "Epoch 29/50\n",
            "37/37 [==============================] - 8s 209ms/step - loss: 0.4842 - accuracy: 0.7724 - val_loss: 0.4537 - val_accuracy: 0.8133\n",
            "Epoch 30/50\n",
            "37/37 [==============================] - 8s 209ms/step - loss: 0.4553 - accuracy: 0.7914 - val_loss: 0.4441 - val_accuracy: 0.8200\n",
            "Epoch 31/50\n",
            "37/37 [==============================] - 8s 209ms/step - loss: 0.4631 - accuracy: 0.7828 - val_loss: 0.4682 - val_accuracy: 0.7933\n",
            "Epoch 32/50\n",
            "37/37 [==============================] - 8s 209ms/step - loss: 0.4542 - accuracy: 0.7828 - val_loss: 0.4942 - val_accuracy: 0.7733\n",
            "Epoch 33/50\n",
            "37/37 [==============================] - 8s 209ms/step - loss: 0.4564 - accuracy: 0.7966 - val_loss: 0.4672 - val_accuracy: 0.7933\n",
            "Epoch 34/50\n",
            "37/37 [==============================] - 8s 210ms/step - loss: 0.4496 - accuracy: 0.7724 - val_loss: 0.4580 - val_accuracy: 0.8000\n",
            "Epoch 35/50\n",
            "37/37 [==============================] - 8s 211ms/step - loss: 0.4432 - accuracy: 0.8052 - val_loss: 0.4444 - val_accuracy: 0.8333\n",
            "Epoch 36/50\n",
            "37/37 [==============================] - 8s 210ms/step - loss: 0.4596 - accuracy: 0.7741 - val_loss: 0.4470 - val_accuracy: 0.8200\n",
            "Epoch 37/50\n",
            "37/37 [==============================] - 8s 209ms/step - loss: 0.4169 - accuracy: 0.8241 - val_loss: 0.4377 - val_accuracy: 0.8267\n",
            "Epoch 38/50\n",
            "37/37 [==============================] - 8s 210ms/step - loss: 0.4388 - accuracy: 0.8155 - val_loss: 0.4536 - val_accuracy: 0.7867\n",
            "Epoch 39/50\n",
            "37/37 [==============================] - 8s 210ms/step - loss: 0.4473 - accuracy: 0.8086 - val_loss: 0.4818 - val_accuracy: 0.7867\n",
            "Epoch 40/50\n",
            "37/37 [==============================] - 8s 208ms/step - loss: 0.4211 - accuracy: 0.8241 - val_loss: 0.4365 - val_accuracy: 0.8067\n",
            "Epoch 41/50\n",
            "37/37 [==============================] - 8s 209ms/step - loss: 0.4244 - accuracy: 0.8259 - val_loss: 0.4397 - val_accuracy: 0.8133\n",
            "Epoch 42/50\n",
            "37/37 [==============================] - 8s 209ms/step - loss: 0.4126 - accuracy: 0.8086 - val_loss: 0.4783 - val_accuracy: 0.7867\n",
            "Epoch 43/50\n",
            "37/37 [==============================] - 8s 208ms/step - loss: 0.4377 - accuracy: 0.7983 - val_loss: 0.4719 - val_accuracy: 0.7933\n",
            "Epoch 44/50\n",
            "37/37 [==============================] - 8s 209ms/step - loss: 0.4123 - accuracy: 0.8379 - val_loss: 0.4337 - val_accuracy: 0.8333\n",
            "Epoch 45/50\n",
            "37/37 [==============================] - 10s 283ms/step - loss: 0.4317 - accuracy: 0.7879 - val_loss: 0.4420 - val_accuracy: 0.8133\n",
            "Epoch 46/50\n",
            "37/37 [==============================] - 8s 214ms/step - loss: 0.4023 - accuracy: 0.8138 - val_loss: 0.4403 - val_accuracy: 0.8133\n",
            "Epoch 47/50\n",
            "37/37 [==============================] - 8s 209ms/step - loss: 0.3846 - accuracy: 0.8414 - val_loss: 0.4866 - val_accuracy: 0.7800\n",
            "Epoch 48/50\n",
            "37/37 [==============================] - 8s 209ms/step - loss: 0.3851 - accuracy: 0.8379 - val_loss: 0.4598 - val_accuracy: 0.8000\n",
            "Epoch 49/50\n",
            "37/37 [==============================] - 8s 209ms/step - loss: 0.4116 - accuracy: 0.8138 - val_loss: 0.4703 - val_accuracy: 0.8000\n",
            "Epoch 50/50\n",
            "37/37 [==============================] - 8s 211ms/step - loss: 0.4020 - accuracy: 0.8207 - val_loss: 0.4444 - val_accuracy: 0.8333\n"
          ]
        }
      ]
    },
    {
      "cell_type": "code",
      "metadata": {
        "id": "4ycNiPXv5892"
      },
      "source": [
        "predIdxs = model.predict(testX, batch_size=BS)"
      ],
      "execution_count": null,
      "outputs": []
    },
    {
      "cell_type": "code",
      "metadata": {
        "id": "NZKzSb986NM_"
      },
      "source": [
        "predIdxs = np.argmax(predIdxs, axis=1)"
      ],
      "execution_count": null,
      "outputs": []
    },
    {
      "cell_type": "code",
      "metadata": {
        "id": "rOx0m4H26R8F",
        "colab": {
          "base_uri": "https://localhost:8080/"
        },
        "outputId": "ce3ceb44-d1ae-4039-deed-0ca3631e22ec"
      },
      "source": [
        "print(classification_report(testY.argmax(axis=1), predIdxs,\n",
        "\ttarget_names=lb.classes_))"
      ],
      "execution_count": null,
      "outputs": [
        {
          "output_type": "stream",
          "name": "stdout",
          "text": [
            "              precision    recall  f1-score   support\n",
            "\n",
            "       Covid       0.81      0.84      0.83        70\n",
            "   Non_Covid       0.86      0.82      0.84        80\n",
            "\n",
            "    accuracy                           0.83       150\n",
            "   macro avg       0.83      0.83      0.83       150\n",
            "weighted avg       0.83      0.83      0.83       150\n",
            "\n"
          ]
        }
      ]
    },
    {
      "cell_type": "code",
      "metadata": {
        "id": "xH-WyX6T6U4v",
        "colab": {
          "base_uri": "https://localhost:8080/"
        },
        "outputId": "ad201033-23a9-4c78-cd1e-f69fe9265748"
      },
      "source": [
        "from sklearn.metrics import f1_score\n",
        "f1_score(testY.argmax(axis=1), predIdxs, average='micro')"
      ],
      "execution_count": null,
      "outputs": [
        {
          "output_type": "execute_result",
          "data": {
            "text/plain": [
              "0.8333333333333334"
            ]
          },
          "metadata": {},
          "execution_count": 30
        }
      ]
    },
    {
      "cell_type": "code",
      "source": [
        "from sklearn.metrics import roc_auc_score\n",
        "roc_auc_score(testY.argmax(axis=1), predIdxs)"
      ],
      "metadata": {
        "colab": {
          "base_uri": "https://localhost:8080/"
        },
        "id": "j_EVxZ16rrdj",
        "outputId": "04962bf1-d4ab-44a2-e2a5-6eca442acd6a"
      },
      "execution_count": null,
      "outputs": [
        {
          "output_type": "execute_result",
          "data": {
            "text/plain": [
              "0.8339285714285715"
            ]
          },
          "metadata": {},
          "execution_count": 32
        }
      ]
    },
    {
      "cell_type": "code",
      "metadata": {
        "id": "RG23NSu1Mdzj",
        "colab": {
          "base_uri": "https://localhost:8080/"
        },
        "outputId": "9aa1548e-8fc4-46f7-b91b-e9bd54f9f686"
      },
      "source": [
        "from sklearn.metrics import confusion_matrix\n",
        "a = confusion_matrix(testY.argmax(axis=1), predIdxs)\n",
        "print('Sensitivity=',a[0,0]/(a[0,0]+a[0,1]))\n",
        "print('Specificity=',a[1,1]/(a[1,0]+a[1,1]))\n"
      ],
      "execution_count": null,
      "outputs": [
        {
          "output_type": "stream",
          "name": "stdout",
          "text": [
            "Sensitivity= 0.8428571428571429\n",
            "Specificity= 0.825\n"
          ]
        }
      ]
    },
    {
      "cell_type": "code",
      "metadata": {
        "id": "YpgjZoRO6hZx",
        "colab": {
          "base_uri": "https://localhost:8080/",
          "height": 317
        },
        "outputId": "38994459-dba2-473b-a2c1-45bbc8d52592"
      },
      "source": [
        "N = 50\n",
        "plt.style.use(\"ggplot\")\n",
        "plt.figure()\n",
        "plt.plot(np.arange(0, N), H.history[\"loss\"], label=\"train_loss\")\n",
        "plt.plot(np.arange(0, N), H.history[\"val_loss\"], label=\"val_loss\")\n",
        "plt.plot(np.arange(0, N), H.history[\"accuracy\"], label=\"train_acc\")\n",
        "plt.plot(np.arange(0, N), H.history[\"val_accuracy\"], label=\"val_acc\")\n",
        "plt.title(\"Training Loss and Accuracy on COVID-19 Dataset\")\n",
        "plt.xlabel(\"Epoch #\")\n",
        "plt.ylabel(\"Loss/Accuracy\")\n",
        "plt.legend(loc=\"lower left\")\n"
      ],
      "execution_count": null,
      "outputs": [
        {
          "output_type": "execute_result",
          "data": {
            "text/plain": [
              "<matplotlib.legend.Legend at 0x7f06e6aaab10>"
            ]
          },
          "metadata": {},
          "execution_count": 33
        },
        {
          "output_type": "display_data",
          "data": {
            "text/plain": [
              "<Figure size 432x288 with 1 Axes>"
            ],
            "image/png": "[encoded data removed]"
          },
          "metadata": {}
        }
      ]
    },
    {
      "cell_type": "code",
      "metadata": {
        "colab": {
          "base_uri": "https://localhost:8080/"
        },
        "id": "pqh_3hJH678e",
        "outputId": "0d6d373a-a21a-4f8e-de37-28a7289bfb73"
      },
      "source": [
        "from tensorflow.keras.applications import ResNet50V2\n",
        "resnet50_model = ResNet50V2(include_top = False, weights='imagenet', input_tensor = Input(shape=(224,224,3)))\n"
      ],
      "execution_count": null,
      "outputs": [
        {
          "output_type": "stream",
          "name": "stdout",
          "text": [
            "Downloading data from https://storage.googleapis.com/tensorflow/keras-applications/resnet/resnet50v2_weights_tf_dim_ordering_tf_kernels_notop.h5\n",
            "94674944/94668760 [==============================] - 1s 0us/step\n",
            "94683136/94668760 [==============================] - 1s 0us/step\n"
          ]
        }
      ]
    },
    {
      "cell_type": "code",
      "metadata": {
        "id": "s7o24rBX7MdU"
      },
      "source": [
        "from tensorflow.keras.layers import Conv2D, MaxPooling2D, BatchNormalization, Activation\n",
        "resnet50_head = resnet50_model.output\n",
        "X = Flatten()(resnet50_head)\n",
        "X = Dense(64)(X)\n",
        "X = BatchNormalization()(X)\n",
        "X = Activation('tanh')(X)\n",
        "X = Dropout(0.25)(X)\n",
        "X = Dense(64)(X)\n",
        "X = BatchNormalization()(X)\n",
        "X = Activation('tanh')(X)\n",
        "X = Dropout(0.25)(X)\n",
        "X = Dense(32)(X)\n",
        "X = BatchNormalization()(X)\n",
        "X = Activation('tanh')(X)\n",
        "X = Dropout(0.25)(X)\n",
        "X = Dense(32)(X)\n",
        "X = BatchNormalization()(X)\n",
        "X = Activation('tanh')(X)\n",
        "resnet50_head = Dropout(0.5)(X)\n",
        "resnet50_head = Dense(2, activation=\"softmax\")(X)"
      ],
      "execution_count": null,
      "outputs": []
    },
    {
      "cell_type": "code",
      "metadata": {
        "id": "QAyfIS2x7RVN"
      },
      "source": [
        "model = Model(inputs=resnet50_model.input, outputs=resnet50_head)\n",
        "for layer in resnet50_model.layers:\n",
        "\tlayer.trainable = False\n"
      ],
      "execution_count": null,
      "outputs": []
    },
    {
      "cell_type": "code",
      "metadata": {
        "colab": {
          "base_uri": "https://localhost:8080/"
        },
        "id": "jxpJDBa_7YS4",
        "outputId": "f2766b7b-d4da-4e6a-80ab-13ba1c05d96d"
      },
      "source": [
        "model.compile(loss=\"binary_crossentropy\", optimizer='Nadam',\n",
        "\tmetrics=[\"accuracy\"])\n",
        "model.summary()"
      ],
      "execution_count": null,
      "outputs": [
        {
          "output_type": "stream",
          "name": "stdout",
          "text": [
            "Model: \"model_1\"\n",
            "__________________________________________________________________________________________________\n",
            " Layer (type)                   Output Shape         Param #     Connected to                     \n",
            "==================================================================================================\n",
            " input_4 (InputLayer)           [(None, 224, 224, 3  0           []                               \n",
            "                                )]                                                                \n",
            "                                                                                                  \n",
            " conv1_pad (ZeroPadding2D)      (None, 230, 230, 3)  0           ['input_4[0][0]']                \n",
            "                                                                                                  \n",
            " conv1_conv (Conv2D)            (None, 112, 112, 64  9472        ['conv1_pad[0][0]']              \n",
            "                                )                                                                 \n",
            "                                                                                                  \n",
            " pool1_pad (ZeroPadding2D)      (None, 114, 114, 64  0           ['conv1_conv[0][0]']             \n",
            "                                )                                                                 \n",
            "                                                                                                  \n",
            " pool1_pool (MaxPooling2D)      (None, 56, 56, 64)   0           ['pool1_pad[0][0]']              \n",
            "                                                                                                  \n",
            " conv2_block1_preact_bn (BatchN  (None, 56, 56, 64)  256         ['pool1_pool[0][0]']             \n",
            " ormalization)                                                                                    \n",
            "                                                                                                  \n",
            " conv2_block1_preact_relu (Acti  (None, 56, 56, 64)  0           ['conv2_block1_preact_bn[0][0]'] \n",
            " vation)                                                                                          \n",
            "                                                                                                  \n",
            " conv2_block1_1_conv (Conv2D)   (None, 56, 56, 64)   4096        ['conv2_block1_preact_relu[0][0]'\n",
            "                                                                 ]                                \n",
            "                                                                                                  \n",
            " conv2_block1_1_bn (BatchNormal  (None, 56, 56, 64)  256         ['conv2_block1_1_conv[0][0]']    \n",
            " ization)                                                                                         \n",
            "                                                                                                  \n",
            " conv2_block1_1_relu (Activatio  (None, 56, 56, 64)  0           ['conv2_block1_1_bn[0][0]']      \n",
            " n)                                                                                               \n",
            "                                                                                                  \n",
            " conv2_block1_2_pad (ZeroPaddin  (None, 58, 58, 64)  0           ['conv2_block1_1_relu[0][0]']    \n",
            " g2D)                                                                                             \n",
            "                                                                                                  \n",
            " conv2_block1_2_conv (Conv2D)   (None, 56, 56, 64)   36864       ['conv2_block1_2_pad[0][0]']     \n",
            "                                                                                                  \n",
            " conv2_block1_2_bn (BatchNormal  (None, 56, 56, 64)  256         ['conv2_block1_2_conv[0][0]']    \n",
            " ization)                                                                                         \n",
            "                                                                                                  \n",
            " conv2_block1_2_relu (Activatio  (None, 56, 56, 64)  0           ['conv2_block1_2_bn[0][0]']      \n",
            " n)                                                                                               \n",
            "                                                                                                  \n",
            " conv2_block1_0_conv (Conv2D)   (None, 56, 56, 256)  16640       ['conv2_block1_preact_relu[0][0]'\n",
            "                                                                 ]                                \n",
            "                                                                                                  \n",
            " conv2_block1_3_conv (Conv2D)   (None, 56, 56, 256)  16640       ['conv2_block1_2_relu[0][0]']    \n",
            "                                                                                                  \n",
            " conv2_block1_out (Add)         (None, 56, 56, 256)  0           ['conv2_block1_0_conv[0][0]',    \n",
            "                                                                  'conv2_block1_3_conv[0][0]']    \n",
            "                                                                                                  \n",
            " conv2_block2_preact_bn (BatchN  (None, 56, 56, 256)  1024       ['conv2_block1_out[0][0]']       \n",
            " ormalization)                                                                                    \n",
            "                                                                                                  \n",
            " conv2_block2_preact_relu (Acti  (None, 56, 56, 256)  0          ['conv2_block2_preact_bn[0][0]'] \n",
            " vation)                                                                                          \n",
            "                                                                                                  \n",
            " conv2_block2_1_conv (Conv2D)   (None, 56, 56, 64)   16384       ['conv2_block2_preact_relu[0][0]'\n",
            "                                                                 ]                                \n",
            "                                                                                                  \n",
            " conv2_block2_1_bn (BatchNormal  (None, 56, 56, 64)  256         ['conv2_block2_1_conv[0][0]']    \n",
            " ization)                                                                                         \n",
            "                                                                                                  \n",
            " conv2_block2_1_relu (Activatio  (None, 56, 56, 64)  0           ['conv2_block2_1_bn[0][0]']      \n",
            " n)                                                                                               \n",
            "                                                                                                  \n",
            " conv2_block2_2_pad (ZeroPaddin  (None, 58, 58, 64)  0           ['conv2_block2_1_relu[0][0]']    \n",
            " g2D)                                                                                             \n",
            "                                                                                                  \n",
            " conv2_block2_2_conv (Conv2D)   (None, 56, 56, 64)   36864       ['conv2_block2_2_pad[0][0]']     \n",
            "                                                                                                  \n",
            " conv2_block2_2_bn (BatchNormal  (None, 56, 56, 64)  256         ['conv2_block2_2_conv[0][0]']    \n",
            " ization)                                                                                         \n",
            "                                                                                                  \n",
            " conv2_block2_2_relu (Activatio  (None, 56, 56, 64)  0           ['conv2_block2_2_bn[0][0]']      \n",
            " n)                                                                                               \n",
            "                                                                                                  \n",
            " conv2_block2_3_conv (Conv2D)   (None, 56, 56, 256)  16640       ['conv2_block2_2_relu[0][0]']    \n",
            "                                                                                                  \n",
            " conv2_block2_out (Add)         (None, 56, 56, 256)  0           ['conv2_block1_out[0][0]',       \n",
            "                                                                  'conv2_block2_3_conv[0][0]']    \n",
            "                                                                                                  \n",
            " conv2_block3_preact_bn (BatchN  (None, 56, 56, 256)  1024       ['conv2_block2_out[0][0]']       \n",
            " ormalization)                                                                                    \n",
            "                                                                                                  \n",
            " conv2_block3_preact_relu (Acti  (None, 56, 56, 256)  0          ['conv2_block3_preact_bn[0][0]'] \n",
            " vation)                                                                                          \n",
            "                                                                                                  \n",
            " conv2_block3_1_conv (Conv2D)   (None, 56, 56, 64)   16384       ['conv2_block3_preact_relu[0][0]'\n",
            "                                                                 ]                                \n",
            "                                                                                                  \n",
            " conv2_block3_1_bn (BatchNormal  (None, 56, 56, 64)  256         ['conv2_block3_1_conv[0][0]']    \n",
            " ization)                                                                                         \n",
            "                                                                                                  \n",
            " conv2_block3_1_relu (Activatio  (None, 56, 56, 64)  0           ['conv2_block3_1_bn[0][0]']      \n",
            " n)                                                                                               \n",
            "                                                                                                  \n",
            " conv2_block3_2_pad (ZeroPaddin  (None, 58, 58, 64)  0           ['conv2_block3_1_relu[0][0]']    \n",
            " g2D)                                                                                             \n",
            "                                                                                                  \n",
            " conv2_block3_2_conv (Conv2D)   (None, 28, 28, 64)   36864       ['conv2_block3_2_pad[0][0]']     \n",
            "                                                                                                  \n",
            " conv2_block3_2_bn (BatchNormal  (None, 28, 28, 64)  256         ['conv2_block3_2_conv[0][0]']    \n",
            " ization)                                                                                         \n",
            "                                                                                                  \n",
            " conv2_block3_2_relu (Activatio  (None, 28, 28, 64)  0           ['conv2_block3_2_bn[0][0]']      \n",
            " n)                                                                                               \n",
            "                                                                                                  \n",
            " max_pooling2d (MaxPooling2D)   (None, 28, 28, 256)  0           ['conv2_block2_out[0][0]']       \n",
            "                                                                                                  \n",
            " conv2_block3_3_conv (Conv2D)   (None, 28, 28, 256)  16640       ['conv2_block3_2_relu[0][0]']    \n",
            "                                                                                                  \n",
            " conv2_block3_out (Add)         (None, 28, 28, 256)  0           ['max_pooling2d[0][0]',          \n",
            "                                                                  'conv2_block3_3_conv[0][0]']    \n",
            "                                                                                                  \n",
            " conv3_block1_preact_bn (BatchN  (None, 28, 28, 256)  1024       ['conv2_block3_out[0][0]']       \n",
            " ormalization)                                                                                    \n",
            "                                                                                                  \n",
            " conv3_block1_preact_relu (Acti  (None, 28, 28, 256)  0          ['conv3_block1_preact_bn[0][0]'] \n",
            " vation)                                                                                          \n",
            "                                                                                                  \n",
            " conv3_block1_1_conv (Conv2D)   (None, 28, 28, 128)  32768       ['conv3_block1_preact_relu[0][0]'\n",
            "                                                                 ]                                \n",
            "                                                                                                  \n",
            " conv3_block1_1_bn (BatchNormal  (None, 28, 28, 128)  512        ['conv3_block1_1_conv[0][0]']    \n",
            " ization)                                                                                         \n",
            "                                                                                                  \n",
            " conv3_block1_1_relu (Activatio  (None, 28, 28, 128)  0          ['conv3_block1_1_bn[0][0]']      \n",
            " n)                                                                                               \n",
            "                                                                                                  \n",
            " conv3_block1_2_pad (ZeroPaddin  (None, 30, 30, 128)  0          ['conv3_block1_1_relu[0][0]']    \n",
            " g2D)                                                                                             \n",
            "                                                                                                  \n",
            " conv3_block1_2_conv (Conv2D)   (None, 28, 28, 128)  147456      ['conv3_block1_2_pad[0][0]']     \n",
            "                                                                                                  \n",
            " conv3_block1_2_bn (BatchNormal  (None, 28, 28, 128)  512        ['conv3_block1_2_conv[0][0]']    \n",
            " ization)                                                                                         \n",
            "                                                                                                  \n",
            " conv3_block1_2_relu (Activatio  (None, 28, 28, 128)  0          ['conv3_block1_2_bn[0][0]']      \n",
            " n)                                                                                               \n",
            "                                                                                                  \n",
            " conv3_block1_0_conv (Conv2D)   (None, 28, 28, 512)  131584      ['conv3_block1_preact_relu[0][0]'\n",
            "                                                                 ]                                \n",
            "                                                                                                  \n",
            " conv3_block1_3_conv (Conv2D)   (None, 28, 28, 512)  66048       ['conv3_block1_2_relu[0][0]']    \n",
            "                                                                                                  \n",
            " conv3_block1_out (Add)         (None, 28, 28, 512)  0           ['conv3_block1_0_conv[0][0]',    \n",
            "                                                                  'conv3_block1_3_conv[0][0]']    \n",
            "                                                                                                  \n",
            " conv3_block2_preact_bn (BatchN  (None, 28, 28, 512)  2048       ['conv3_block1_out[0][0]']       \n",
            " ormalization)                                                                                    \n",
            "                                                                                                  \n",
            " conv3_block2_preact_relu (Acti  (None, 28, 28, 512)  0          ['conv3_block2_preact_bn[0][0]'] \n",
            " vation)                                                                                          \n",
            "                                                                                                  \n",
            " conv3_block2_1_conv (Conv2D)   (None, 28, 28, 128)  65536       ['conv3_block2_preact_relu[0][0]'\n",
            "                                                                 ]                                \n",
            "                                                                                                  \n",
            " conv3_block2_1_bn (BatchNormal  (None, 28, 28, 128)  512        ['conv3_block2_1_conv[0][0]']    \n",
            " ization)                                                                                         \n",
            "                                                                                                  \n",
            " conv3_block2_1_relu (Activatio  (None, 28, 28, 128)  0          ['conv3_block2_1_bn[0][0]']      \n",
            " n)                                                                                               \n",
            "                                                                                                  \n",
            " conv3_block2_2_pad (ZeroPaddin  (None, 30, 30, 128)  0          ['conv3_block2_1_relu[0][0]']    \n",
            " g2D)                                                                                             \n",
            "                                                                                                  \n",
            " conv3_block2_2_conv (Conv2D)   (None, 28, 28, 128)  147456      ['conv3_block2_2_pad[0][0]']     \n",
            "                                                                                                  \n",
            " conv3_block2_2_bn (BatchNormal  (None, 28, 28, 128)  512        ['conv3_block2_2_conv[0][0]']    \n",
            " ization)                                                                                         \n",
            "                                                                                                  \n",
            " conv3_block2_2_relu (Activatio  (None, 28, 28, 128)  0          ['conv3_block2_2_bn[0][0]']      \n",
            " n)                                                                                               \n",
            "                                                                                                  \n",
            " conv3_block2_3_conv (Conv2D)   (None, 28, 28, 512)  66048       ['conv3_block2_2_relu[0][0]']    \n",
            "                                                                                                  \n",
            " conv3_block2_out (Add)         (None, 28, 28, 512)  0           ['conv3_block1_out[0][0]',       \n",
            "                                                                  'conv3_block2_3_conv[0][0]']    \n",
            "                                                                                                  \n",
            " conv3_block3_preact_bn (BatchN  (None, 28, 28, 512)  2048       ['conv3_block2_out[0][0]']       \n",
            " ormalization)                                                                                    \n",
            "                                                                                                  \n",
            " conv3_block3_preact_relu (Acti  (None, 28, 28, 512)  0          ['conv3_block3_preact_bn[0][0]'] \n",
            " vation)                                                                                          \n",
            "                                                                                                  \n",
            " conv3_block3_1_conv (Conv2D)   (None, 28, 28, 128)  65536       ['conv3_block3_preact_relu[0][0]'\n",
            "                                                                 ]                                \n",
            "                                                                                                  \n",
            " conv3_block3_1_bn (BatchNormal  (None, 28, 28, 128)  512        ['conv3_block3_1_conv[0][0]']    \n",
            " ization)                                                                                         \n",
            "                                                                                                  \n",
            " conv3_block3_1_relu (Activatio  (None, 28, 28, 128)  0          ['conv3_block3_1_bn[0][0]']      \n",
            " n)                                                                                               \n",
            "                                                                                                  \n",
            " conv3_block3_2_pad (ZeroPaddin  (None, 30, 30, 128)  0          ['conv3_block3_1_relu[0][0]']    \n",
            " g2D)                                                                                             \n",
            "                                                                                                  \n",
            " conv3_block3_2_conv (Conv2D)   (None, 28, 28, 128)  147456      ['conv3_block3_2_pad[0][0]']     \n",
            "                                                                                                  \n",
            " conv3_block3_2_bn (BatchNormal  (None, 28, 28, 128)  512        ['conv3_block3_2_conv[0][0]']    \n",
            " ization)                                                                                         \n",
            "                                                                                                  \n",
            " conv3_block3_2_relu (Activatio  (None, 28, 28, 128)  0          ['conv3_block3_2_bn[0][0]']      \n",
            " n)                                                                                               \n",
            "                                                                                                  \n",
            " conv3_block3_3_conv (Conv2D)   (None, 28, 28, 512)  66048       ['conv3_block3_2_relu[0][0]']    \n",
            "                                                                                                  \n",
            " conv3_block3_out (Add)         (None, 28, 28, 512)  0           ['conv3_block2_out[0][0]',       \n",
            "                                                                  'conv3_block3_3_conv[0][0]']    \n",
            "                                                                                                  \n",
            " conv3_block4_preact_bn (BatchN  (None, 28, 28, 512)  2048       ['conv3_block3_out[0][0]']       \n",
            " ormalization)                                                                                    \n",
            "                                                                                                  \n",
            " conv3_block4_preact_relu (Acti  (None, 28, 28, 512)  0          ['conv3_block4_preact_bn[0][0]'] \n",
            " vation)                                                                                          \n",
            "                                                                                                  \n",
            " conv3_block4_1_conv (Conv2D)   (None, 28, 28, 128)  65536       ['conv3_block4_preact_relu[0][0]'\n",
            "                                                                 ]                                \n",
            "                                                                                                  \n",
            " conv3_block4_1_bn (BatchNormal  (None, 28, 28, 128)  512        ['conv3_block4_1_conv[0][0]']    \n",
            " ization)                                                                                         \n",
            "                                                                                                  \n",
            " conv3_block4_1_relu (Activatio  (None, 28, 28, 128)  0          ['conv3_block4_1_bn[0][0]']      \n",
            " n)                                                                                               \n",
            "                                                                                                  \n",
            " conv3_block4_2_pad (ZeroPaddin  (None, 30, 30, 128)  0          ['conv3_block4_1_relu[0][0]']    \n",
            " g2D)                                                                                             \n",
            "                                                                                                  \n",
            " conv3_block4_2_conv (Conv2D)   (None, 14, 14, 128)  147456      ['conv3_block4_2_pad[0][0]']     \n",
            "                                                                                                  \n",
            " conv3_block4_2_bn (BatchNormal  (None, 14, 14, 128)  512        ['conv3_block4_2_conv[0][0]']    \n",
            " ization)                                                                                         \n",
            "                                                                                                  \n",
            " conv3_block4_2_relu (Activatio  (None, 14, 14, 128)  0          ['conv3_block4_2_bn[0][0]']      \n",
            " n)                                                                                               \n",
            "                                                                                                  \n",
            " max_pooling2d_1 (MaxPooling2D)  (None, 14, 14, 512)  0          ['conv3_block3_out[0][0]']       \n",
            "                                                                                                  \n",
            " conv3_block4_3_conv (Conv2D)   (None, 14, 14, 512)  66048       ['conv3_block4_2_relu[0][0]']    \n",
            "                                                                                                  \n",
            " conv3_block4_out (Add)         (None, 14, 14, 512)  0           ['max_pooling2d_1[0][0]',        \n",
            "                                                                  'conv3_block4_3_conv[0][0]']    \n",
            "                                                                                                  \n",
            " conv4_block1_preact_bn (BatchN  (None, 14, 14, 512)  2048       ['conv3_block4_out[0][0]']       \n",
            " ormalization)                                                                                    \n",
            "                                                                                                  \n",
            " conv4_block1_preact_relu (Acti  (None, 14, 14, 512)  0          ['conv4_block1_preact_bn[0][0]'] \n",
            " vation)                                                                                          \n",
            "                                                                                                  \n",
            " conv4_block1_1_conv (Conv2D)   (None, 14, 14, 256)  131072      ['conv4_block1_preact_relu[0][0]'\n",
            "                                                                 ]                                \n",
            "                                                                                                  \n",
            " conv4_block1_1_bn (BatchNormal  (None, 14, 14, 256)  1024       ['conv4_block1_1_conv[0][0]']    \n",
            " ization)                                                                                         \n",
            "                                                                                                  \n",
            " conv4_block1_1_relu (Activatio  (None, 14, 14, 256)  0          ['conv4_block1_1_bn[0][0]']      \n",
            " n)                                                                                               \n",
            "                                                                                                  \n",
            " conv4_block1_2_pad (ZeroPaddin  (None, 16, 16, 256)  0          ['conv4_block1_1_relu[0][0]']    \n",
            " g2D)                                                                                             \n",
            "                                                                                                  \n",
            " conv4_block1_2_conv (Conv2D)   (None, 14, 14, 256)  589824      ['conv4_block1_2_pad[0][0]']     \n",
            "                                                                                                  \n",
            " conv4_block1_2_bn (BatchNormal  (None, 14, 14, 256)  1024       ['conv4_block1_2_conv[0][0]']    \n",
            " ization)                                                                                         \n",
            "                                                                                                  \n",
            " conv4_block1_2_relu (Activatio  (None, 14, 14, 256)  0          ['conv4_block1_2_bn[0][0]']      \n",
            " n)                                                                                               \n",
            "                                                                                                  \n",
            " conv4_block1_0_conv (Conv2D)   (None, 14, 14, 1024  525312      ['conv4_block1_preact_relu[0][0]'\n",
            "                                )                                ]                                \n",
            "                                                                                                  \n",
            " conv4_block1_3_conv (Conv2D)   (None, 14, 14, 1024  263168      ['conv4_block1_2_relu[0][0]']    \n",
            "                                )                                                                 \n",
            "                                                                                                  \n",
            " conv4_block1_out (Add)         (None, 14, 14, 1024  0           ['conv4_block1_0_conv[0][0]',    \n",
            "                                )                                 'conv4_block1_3_conv[0][0]']    \n",
            "                                                                                                  \n",
            " conv4_block2_preact_bn (BatchN  (None, 14, 14, 1024  4096       ['conv4_block1_out[0][0]']       \n",
            " ormalization)                  )                                                                 \n",
            "                                                                                                  \n",
            " conv4_block2_preact_relu (Acti  (None, 14, 14, 1024  0          ['conv4_block2_preact_bn[0][0]'] \n",
            " vation)                        )                                                                 \n",
            "                                                                                                  \n",
            " conv4_block2_1_conv (Conv2D)   (None, 14, 14, 256)  262144      ['conv4_block2_preact_relu[0][0]'\n",
            "                                                                 ]                                \n",
            "                                                                                                  \n",
            " conv4_block2_1_bn (BatchNormal  (None, 14, 14, 256)  1024       ['conv4_block2_1_conv[0][0]']    \n",
            " ization)                                                                                         \n",
            "                                                                                                  \n",
            " conv4_block2_1_relu (Activatio  (None, 14, 14, 256)  0          ['conv4_block2_1_bn[0][0]']      \n",
            " n)                                                                                               \n",
            "                                                                                                  \n",
            " conv4_block2_2_pad (ZeroPaddin  (None, 16, 16, 256)  0          ['conv4_block2_1_relu[0][0]']    \n",
            " g2D)                                                                                             \n",
            "                                                                                                  \n",
            " conv4_block2_2_conv (Conv2D)   (None, 14, 14, 256)  589824      ['conv4_block2_2_pad[0][0]']     \n",
            "                                                                                                  \n",
            " conv4_block2_2_bn (BatchNormal  (None, 14, 14, 256)  1024       ['conv4_block2_2_conv[0][0]']    \n",
            " ization)                                                                                         \n",
            "                                                                                                  \n",
            " conv4_block2_2_relu (Activatio  (None, 14, 14, 256)  0          ['conv4_block2_2_bn[0][0]']      \n",
            " n)                                                                                               \n",
            "                                                                                                  \n",
            " conv4_block2_3_conv (Conv2D)   (None, 14, 14, 1024  263168      ['conv4_block2_2_relu[0][0]']    \n",
            "                                )                                                                 \n",
            "                                                                                                  \n",
            " conv4_block2_out (Add)         (None, 14, 14, 1024  0           ['conv4_block1_out[0][0]',       \n",
            "                                )                                 'conv4_block2_3_conv[0][0]']    \n",
            "                                                                                                  \n",
            " conv4_block3_preact_bn (BatchN  (None, 14, 14, 1024  4096       ['conv4_block2_out[0][0]']       \n",
            " ormalization)                  )                                                                 \n",
            "                                                                                                  \n",
            " conv4_block3_preact_relu (Acti  (None, 14, 14, 1024  0          ['conv4_block3_preact_bn[0][0]'] \n",
            " vation)                        )                                                                 \n",
            "                                                                                                  \n",
            " conv4_block3_1_conv (Conv2D)   (None, 14, 14, 256)  262144      ['conv4_block3_preact_relu[0][0]'\n",
            "                                                                 ]                                \n",
            "                                                                                                  \n",
            " conv4_block3_1_bn (BatchNormal  (None, 14, 14, 256)  1024       ['conv4_block3_1_conv[0][0]']    \n",
            " ization)                                                                                         \n",
            "                                                                                                  \n",
            " conv4_block3_1_relu (Activatio  (None, 14, 14, 256)  0          ['conv4_block3_1_bn[0][0]']      \n",
            " n)                                                                                               \n",
            "                                                                                                  \n",
            " conv4_block3_2_pad (ZeroPaddin  (None, 16, 16, 256)  0          ['conv4_block3_1_relu[0][0]']    \n",
            " g2D)                                                                                             \n",
            "                                                                                                  \n",
            " conv4_block3_2_conv (Conv2D)   (None, 14, 14, 256)  589824      ['conv4_block3_2_pad[0][0]']     \n",
            "                                                                                                  \n",
            " conv4_block3_2_bn (BatchNormal  (None, 14, 14, 256)  1024       ['conv4_block3_2_conv[0][0]']    \n",
            " ization)                                                                                         \n",
            "                                                                                                  \n",
            " conv4_block3_2_relu (Activatio  (None, 14, 14, 256)  0          ['conv4_block3_2_bn[0][0]']      \n",
            " n)                                                                                               \n",
            "                                                                                                  \n",
            " conv4_block3_3_conv (Conv2D)   (None, 14, 14, 1024  263168      ['conv4_block3_2_relu[0][0]']    \n",
            "                                )                                                                 \n",
            "                                                                                                  \n",
            " conv4_block3_out (Add)         (None, 14, 14, 1024  0           ['conv4_block2_out[0][0]',       \n",
            "                                )                                 'conv4_block3_3_conv[0][0]']    \n",
            "                                                                                                  \n",
            " conv4_block4_preact_bn (BatchN  (None, 14, 14, 1024  4096       ['conv4_block3_out[0][0]']       \n",
            " ormalization)                  )                                                                 \n",
            "                                                                                                  \n",
            " conv4_block4_preact_relu (Acti  (None, 14, 14, 1024  0          ['conv4_block4_preact_bn[0][0]'] \n",
            " vation)                        )                                                                 \n",
            "                                                                                                  \n",
            " conv4_block4_1_conv (Conv2D)   (None, 14, 14, 256)  262144      ['conv4_block4_preact_relu[0][0]'\n",
            "                                                                 ]                                \n",
            "                                                                                                  \n",
            " conv4_block4_1_bn (BatchNormal  (None, 14, 14, 256)  1024       ['conv4_block4_1_conv[0][0]']    \n",
            " ization)                                                                                         \n",
            "                                                                                                  \n",
            " conv4_block4_1_relu (Activatio  (None, 14, 14, 256)  0          ['conv4_block4_1_bn[0][0]']      \n",
            " n)                                                                                               \n",
            "                                                                                                  \n",
            " conv4_block4_2_pad (ZeroPaddin  (None, 16, 16, 256)  0          ['conv4_block4_1_relu[0][0]']    \n",
            " g2D)                                                                                             \n",
            "                                                                                                  \n",
            " conv4_block4_2_conv (Conv2D)   (None, 14, 14, 256)  589824      ['conv4_block4_2_pad[0][0]']     \n",
            "                                                                                                  \n",
            " conv4_block4_2_bn (BatchNormal  (None, 14, 14, 256)  1024       ['conv4_block4_2_conv[0][0]']    \n",
            " ization)                                                                                         \n",
            "                                                                                                  \n",
            " conv4_block4_2_relu (Activatio  (None, 14, 14, 256)  0          ['conv4_block4_2_bn[0][0]']      \n",
            " n)                                                                                               \n",
            "                                                                                                  \n",
            " conv4_block4_3_conv (Conv2D)   (None, 14, 14, 1024  263168      ['conv4_block4_2_relu[0][0]']    \n",
            "                                )                                                                 \n",
            "                                                                                                  \n",
            " conv4_block4_out (Add)         (None, 14, 14, 1024  0           ['conv4_block3_out[0][0]',       \n",
            "                                )                                 'conv4_block4_3_conv[0][0]']    \n",
            "                                                                                                  \n",
            " conv4_block5_preact_bn (BatchN  (None, 14, 14, 1024  4096       ['conv4_block4_out[0][0]']       \n",
            " ormalization)                  )                                                                 \n",
            "                                                                                                  \n",
            " conv4_block5_preact_relu (Acti  (None, 14, 14, 1024  0          ['conv4_block5_preact_bn[0][0]'] \n",
            " vation)                        )                                                                 \n",
            "                                                                                                  \n",
            " conv4_block5_1_conv (Conv2D)   (None, 14, 14, 256)  262144      ['conv4_block5_preact_relu[0][0]'\n",
            "                                                                 ]                                \n",
            "                                                                                                  \n",
            " conv4_block5_1_bn (BatchNormal  (None, 14, 14, 256)  1024       ['conv4_block5_1_conv[0][0]']    \n",
            " ization)                                                                                         \n",
            "                                                                                                  \n",
            " conv4_block5_1_relu (Activatio  (None, 14, 14, 256)  0          ['conv4_block5_1_bn[0][0]']      \n",
            " n)                                                                                               \n",
            "                                                                                                  \n",
            " conv4_block5_2_pad (ZeroPaddin  (None, 16, 16, 256)  0          ['conv4_block5_1_relu[0][0]']    \n",
            " g2D)                                                                                             \n",
            "                                                                                                  \n",
            " conv4_block5_2_conv (Conv2D)   (None, 14, 14, 256)  589824      ['conv4_block5_2_pad[0][0]']     \n",
            "                                                                                                  \n",
            " conv4_block5_2_bn (BatchNormal  (None, 14, 14, 256)  1024       ['conv4_block5_2_conv[0][0]']    \n",
            " ization)                                                                                         \n",
            "                                                                                                  \n",
            " conv4_block5_2_relu (Activatio  (None, 14, 14, 256)  0          ['conv4_block5_2_bn[0][0]']      \n",
            " n)                                                                                               \n",
            "                                                                                                  \n",
            " conv4_block5_3_conv (Conv2D)   (None, 14, 14, 1024  263168      ['conv4_block5_2_relu[0][0]']    \n",
            "                                )                                                                 \n",
            "                                                                                                  \n",
            " conv4_block5_out (Add)         (None, 14, 14, 1024  0           ['conv4_block4_out[0][0]',       \n",
            "                                )                                 'conv4_block5_3_conv[0][0]']    \n",
            "                                                                                                  \n",
            " conv4_block6_preact_bn (BatchN  (None, 14, 14, 1024  4096       ['conv4_block5_out[0][0]']       \n",
            " ormalization)                  )                                                                 \n",
            "                                                                                                  \n",
            " conv4_block6_preact_relu (Acti  (None, 14, 14, 1024  0          ['conv4_block6_preact_bn[0][0]'] \n",
            " vation)                        )                                                                 \n",
            "                                                                                                  \n",
            " conv4_block6_1_conv (Conv2D)   (None, 14, 14, 256)  262144      ['conv4_block6_preact_relu[0][0]'\n",
            "                                                                 ]                                \n",
            "                                                                                                  \n",
            " conv4_block6_1_bn (BatchNormal  (None, 14, 14, 256)  1024       ['conv4_block6_1_conv[0][0]']    \n",
            " ization)                                                                                         \n",
            "                                                                                                  \n",
            " conv4_block6_1_relu (Activatio  (None, 14, 14, 256)  0          ['conv4_block6_1_bn[0][0]']      \n",
            " n)                                                                                               \n",
            "                                                                                                  \n",
            " conv4_block6_2_pad (ZeroPaddin  (None, 16, 16, 256)  0          ['conv4_block6_1_relu[0][0]']    \n",
            " g2D)                                                                                             \n",
            "                                                                                                  \n",
            " conv4_block6_2_conv (Conv2D)   (None, 7, 7, 256)    589824      ['conv4_block6_2_pad[0][0]']     \n",
            "                                                                                                  \n",
            " conv4_block6_2_bn (BatchNormal  (None, 7, 7, 256)   1024        ['conv4_block6_2_conv[0][0]']    \n",
            " ization)                                                                                         \n",
            "                                                                                                  \n",
            " conv4_block6_2_relu (Activatio  (None, 7, 7, 256)   0           ['conv4_block6_2_bn[0][0]']      \n",
            " n)                                                                                               \n",
            "                                                                                                  \n",
            " max_pooling2d_2 (MaxPooling2D)  (None, 7, 7, 1024)  0           ['conv4_block5_out[0][0]']       \n",
            "                                                                                                  \n",
            " conv4_block6_3_conv (Conv2D)   (None, 7, 7, 1024)   263168      ['conv4_block6_2_relu[0][0]']    \n",
            "                                                                                                  \n",
            " conv4_block6_out (Add)         (None, 7, 7, 1024)   0           ['max_pooling2d_2[0][0]',        \n",
            "                                                                  'conv4_block6_3_conv[0][0]']    \n",
            "                                                                                                  \n",
            " conv5_block1_preact_bn (BatchN  (None, 7, 7, 1024)  4096        ['conv4_block6_out[0][0]']       \n",
            " ormalization)                                                                                    \n",
            "                                                                                                  \n",
            " conv5_block1_preact_relu (Acti  (None, 7, 7, 1024)  0           ['conv5_block1_preact_bn[0][0]'] \n",
            " vation)                                                                                          \n",
            "                                                                                                  \n",
            " conv5_block1_1_conv (Conv2D)   (None, 7, 7, 512)    524288      ['conv5_block1_preact_relu[0][0]'\n",
            "                                                                 ]                                \n",
            "                                                                                                  \n",
            " conv5_block1_1_bn (BatchNormal  (None, 7, 7, 512)   2048        ['conv5_block1_1_conv[0][0]']    \n",
            " ization)                                                                                         \n",
            "                                                                                                  \n",
            " conv5_block1_1_relu (Activatio  (None, 7, 7, 512)   0           ['conv5_block1_1_bn[0][0]']      \n",
            " n)                                                                                               \n",
            "                                                                                                  \n",
            " conv5_block1_2_pad (ZeroPaddin  (None, 9, 9, 512)   0           ['conv5_block1_1_relu[0][0]']    \n",
            " g2D)                                                                                             \n",
            "                                                                                                  \n",
            " conv5_block1_2_conv (Conv2D)   (None, 7, 7, 512)    2359296     ['conv5_block1_2_pad[0][0]']     \n",
            "                                                                                                  \n",
            " conv5_block1_2_bn (BatchNormal  (None, 7, 7, 512)   2048        ['conv5_block1_2_conv[0][0]']    \n",
            " ization)                                                                                         \n",
            "                                                                                                  \n",
            " conv5_block1_2_relu (Activatio  (None, 7, 7, 512)   0           ['conv5_block1_2_bn[0][0]']      \n",
            " n)                                                                                               \n",
            "                                                                                                  \n",
            " conv5_block1_0_conv (Conv2D)   (None, 7, 7, 2048)   2099200     ['conv5_block1_preact_relu[0][0]'\n",
            "                                                                 ]                                \n",
            "                                                                                                  \n",
            " conv5_block1_3_conv (Conv2D)   (None, 7, 7, 2048)   1050624     ['conv5_block1_2_relu[0][0]']    \n",
            "                                                                                                  \n",
            " conv5_block1_out (Add)         (None, 7, 7, 2048)   0           ['conv5_block1_0_conv[0][0]',    \n",
            "                                                                  'conv5_block1_3_conv[0][0]']    \n",
            "                                                                                                  \n",
            " conv5_block2_preact_bn (BatchN  (None, 7, 7, 2048)  8192        ['conv5_block1_out[0][0]']       \n",
            " ormalization)                                                                                    \n",
            "                                                                                                  \n",
            " conv5_block2_preact_relu (Acti  (None, 7, 7, 2048)  0           ['conv5_block2_preact_bn[0][0]'] \n",
            " vation)                                                                                          \n",
            "                                                                                                  \n",
            " conv5_block2_1_conv (Conv2D)   (None, 7, 7, 512)    1048576     ['conv5_block2_preact_relu[0][0]'\n",
            "                                                                 ]                                \n",
            "                                                                                                  \n",
            " conv5_block2_1_bn (BatchNormal  (None, 7, 7, 512)   2048        ['conv5_block2_1_conv[0][0]']    \n",
            " ization)                                                                                         \n",
            "                                                                                                  \n",
            " conv5_block2_1_relu (Activatio  (None, 7, 7, 512)   0           ['conv5_block2_1_bn[0][0]']      \n",
            " n)                                                                                               \n",
            "                                                                                                  \n",
            " conv5_block2_2_pad (ZeroPaddin  (None, 9, 9, 512)   0           ['conv5_block2_1_relu[0][0]']    \n",
            " g2D)                                                                                             \n",
            "                                                                                                  \n",
            " conv5_block2_2_conv (Conv2D)   (None, 7, 7, 512)    2359296     ['conv5_block2_2_pad[0][0]']     \n",
            "                                                                                                  \n",
            " conv5_block2_2_bn (BatchNormal  (None, 7, 7, 512)   2048        ['conv5_block2_2_conv[0][0]']    \n",
            " ization)                                                                                         \n",
            "                                                                                                  \n",
            " conv5_block2_2_relu (Activatio  (None, 7, 7, 512)   0           ['conv5_block2_2_bn[0][0]']      \n",
            " n)                                                                                               \n",
            "                                                                                                  \n",
            " conv5_block2_3_conv (Conv2D)   (None, 7, 7, 2048)   1050624     ['conv5_block2_2_relu[0][0]']    \n",
            "                                                                                                  \n",
            " conv5_block2_out (Add)         (None, 7, 7, 2048)   0           ['conv5_block1_out[0][0]',       \n",
            "                                                                  'conv5_block2_3_conv[0][0]']    \n",
            "                                                                                                  \n",
            " conv5_block3_preact_bn (BatchN  (None, 7, 7, 2048)  8192        ['conv5_block2_out[0][0]']       \n",
            " ormalization)                                                                                    \n",
            "                                                                                                  \n",
            " conv5_block3_preact_relu (Acti  (None, 7, 7, 2048)  0           ['conv5_block3_preact_bn[0][0]'] \n",
            " vation)                                                                                          \n",
            "                                                                                                  \n",
            " conv5_block3_1_conv (Conv2D)   (None, 7, 7, 512)    1048576     ['conv5_block3_preact_relu[0][0]'\n",
            "                                                                 ]                                \n",
            "                                                                                                  \n",
            " conv5_block3_1_bn (BatchNormal  (None, 7, 7, 512)   2048        ['conv5_block3_1_conv[0][0]']    \n",
            " ization)                                                                                         \n",
            "                                                                                                  \n",
            " conv5_block3_1_relu (Activatio  (None, 7, 7, 512)   0           ['conv5_block3_1_bn[0][0]']      \n",
            " n)                                                                                               \n",
            "                                                                                                  \n",
            " conv5_block3_2_pad (ZeroPaddin  (None, 9, 9, 512)   0           ['conv5_block3_1_relu[0][0]']    \n",
            " g2D)                                                                                             \n",
            "                                                                                                  \n",
            " conv5_block3_2_conv (Conv2D)   (None, 7, 7, 512)    2359296     ['conv5_block3_2_pad[0][0]']     \n",
            "                                                                                                  \n",
            " conv5_block3_2_bn (BatchNormal  (None, 7, 7, 512)   2048        ['conv5_block3_2_conv[0][0]']    \n",
            " ization)                                                                                         \n",
            "                                                                                                  \n",
            " conv5_block3_2_relu (Activatio  (None, 7, 7, 512)   0           ['conv5_block3_2_bn[0][0]']      \n",
            " n)                                                                                               \n",
            "                                                                                                  \n",
            " conv5_block3_3_conv (Conv2D)   (None, 7, 7, 2048)   1050624     ['conv5_block3_2_relu[0][0]']    \n",
            "                                                                                                  \n",
            " conv5_block3_out (Add)         (None, 7, 7, 2048)   0           ['conv5_block2_out[0][0]',       \n",
            "                                                                  'conv5_block3_3_conv[0][0]']    \n",
            "                                                                                                  \n",
            " post_bn (BatchNormalization)   (None, 7, 7, 2048)   8192        ['conv5_block3_out[0][0]']       \n",
            "                                                                                                  \n",
            " post_relu (Activation)         (None, 7, 7, 2048)   0           ['post_bn[0][0]']                \n",
            "                                                                                                  \n",
            " flatten_6 (Flatten)            (None, 100352)       0           ['post_relu[0][0]']              \n",
            "                                                                                                  \n",
            " dense_15 (Dense)               (None, 64)           6422592     ['flatten_6[0][0]']              \n",
            "                                                                                                  \n",
            " batch_normalization_14 (BatchN  (None, 64)          256         ['dense_15[0][0]']               \n",
            " ormalization)                                                                                    \n",
            "                                                                                                  \n",
            " activation_197 (Activation)    (None, 64)           0           ['batch_normalization_14[0][0]'] \n",
            "                                                                                                  \n",
            " dropout_12 (Dropout)           (None, 64)           0           ['activation_197[0][0]']         \n",
            "                                                                                                  \n",
            " dense_16 (Dense)               (None, 64)           4160        ['dropout_12[0][0]']             \n",
            "                                                                                                  \n",
            " batch_normalization_15 (BatchN  (None, 64)          256         ['dense_16[0][0]']               \n",
            " ormalization)                                                                                    \n",
            "                                                                                                  \n",
            " activation_198 (Activation)    (None, 64)           0           ['batch_normalization_15[0][0]'] \n",
            "                                                                                                  \n",
            " dropout_13 (Dropout)           (None, 64)           0           ['activation_198[0][0]']         \n",
            "                                                                                                  \n",
            " dense_17 (Dense)               (None, 32)           2080        ['dropout_13[0][0]']             \n",
            "                                                                                                  \n",
            " batch_normalization_16 (BatchN  (None, 32)          128         ['dense_17[0][0]']               \n",
            " ormalization)                                                                                    \n",
            "                                                                                                  \n",
            " activation_199 (Activation)    (None, 32)           0           ['batch_normalization_16[0][0]'] \n",
            "                                                                                                  \n",
            " dropout_14 (Dropout)           (None, 32)           0           ['activation_199[0][0]']         \n",
            "                                                                                                  \n",
            " dense_18 (Dense)               (None, 32)           1056        ['dropout_14[0][0]']             \n",
            "                                                                                                  \n",
            " batch_normalization_17 (BatchN  (None, 32)          128         ['dense_18[0][0]']               \n",
            " ormalization)                                                                                    \n",
            "                                                                                                  \n",
            " activation_200 (Activation)    (None, 32)           0           ['batch_normalization_17[0][0]'] \n",
            "                                                                                                  \n",
            " dense_19 (Dense)               (None, 2)            66          ['activation_200[0][0]']         \n",
            "                                                                                                  \n",
            "==================================================================================================\n",
            "Total params: 29,995,522\n",
            "Trainable params: 6,430,338\n",
            "Non-trainable params: 23,565,184\n",
            "__________________________________________________________________________________________________\n"
          ]
        }
      ]
    },
    {
      "cell_type": "code",
      "metadata": {
        "colab": {
          "base_uri": "https://localhost:8080/"
        },
        "id": "Q0x759Cm7eaZ",
        "outputId": "715772bc-1f3c-4b17-d6c4-bb508fbb7729"
      },
      "source": [
        "BS = 16\n",
        "H4 = model.fit_generator(\n",
        "\ttrainAug.flow(trainX, trainY, batch_size=BS),\n",
        "\tsteps_per_epoch=len(trainX) // BS,\n",
        "\tvalidation_data=(testX, testY),\n",
        "\tvalidation_steps=len(testX) // BS,\n",
        "\tepochs=50)"
      ],
      "execution_count": null,
      "outputs": [
        {
          "output_type": "stream",
          "name": "stdout",
          "text": [
            "Epoch 1/50\n",
            "37/37 [==============================] - 16s 255ms/step - loss: 0.6086 - accuracy: 0.6966 - val_loss: 0.5344 - val_accuracy: 0.7600\n",
            "Epoch 2/50\n",
            "37/37 [==============================] - 7s 184ms/step - loss: 0.4266 - accuracy: 0.8276 - val_loss: 0.5278 - val_accuracy: 0.7333\n",
            "Epoch 3/50\n",
            "37/37 [==============================] - 7s 183ms/step - loss: 0.2946 - accuracy: 0.8862 - val_loss: 0.4100 - val_accuracy: 0.8467\n",
            "Epoch 4/50\n",
            "37/37 [==============================] - 7s 177ms/step - loss: 0.2264 - accuracy: 0.9241 - val_loss: 0.4168 - val_accuracy: 0.8533\n",
            "Epoch 5/50\n",
            "37/37 [==============================] - 7s 182ms/step - loss: 0.2566 - accuracy: 0.8845 - val_loss: 0.4836 - val_accuracy: 0.8333\n",
            "Epoch 6/50\n",
            "37/37 [==============================] - 7s 181ms/step - loss: 0.2178 - accuracy: 0.9155 - val_loss: 0.4682 - val_accuracy: 0.8333\n",
            "Epoch 7/50\n",
            "37/37 [==============================] - 7s 179ms/step - loss: 0.1703 - accuracy: 0.9379 - val_loss: 0.4852 - val_accuracy: 0.8133\n",
            "Epoch 8/50\n",
            "37/37 [==============================] - 7s 177ms/step - loss: 0.1594 - accuracy: 0.9379 - val_loss: 0.4069 - val_accuracy: 0.8400\n",
            "Epoch 9/50\n",
            "37/37 [==============================] - 7s 191ms/step - loss: 0.1494 - accuracy: 0.9397 - val_loss: 0.4498 - val_accuracy: 0.8667\n",
            "Epoch 10/50\n",
            "37/37 [==============================] - 7s 181ms/step - loss: 0.1155 - accuracy: 0.9569 - val_loss: 0.5219 - val_accuracy: 0.8200\n",
            "Epoch 11/50\n",
            "37/37 [==============================] - 7s 185ms/step - loss: 0.1998 - accuracy: 0.9086 - val_loss: 0.4359 - val_accuracy: 0.8400\n",
            "Epoch 12/50\n",
            "37/37 [==============================] - 7s 180ms/step - loss: 0.1338 - accuracy: 0.9483 - val_loss: 0.4156 - val_accuracy: 0.8667\n",
            "Epoch 13/50\n",
            "37/37 [==============================] - 8s 201ms/step - loss: 0.1240 - accuracy: 0.9466 - val_loss: 0.5488 - val_accuracy: 0.8200\n",
            "Epoch 14/50\n",
            "37/37 [==============================] - 7s 178ms/step - loss: 0.1453 - accuracy: 0.9466 - val_loss: 0.4241 - val_accuracy: 0.8533\n",
            "Epoch 15/50\n",
            "37/37 [==============================] - 7s 182ms/step - loss: 0.1483 - accuracy: 0.9466 - val_loss: 0.4390 - val_accuracy: 0.8467\n",
            "Epoch 16/50\n",
            "37/37 [==============================] - 8s 204ms/step - loss: 0.1329 - accuracy: 0.9534 - val_loss: 0.4907 - val_accuracy: 0.8267\n",
            "Epoch 17/50\n",
            "37/37 [==============================] - 7s 180ms/step - loss: 0.1394 - accuracy: 0.9500 - val_loss: 0.4639 - val_accuracy: 0.8333\n",
            "Epoch 18/50\n",
            "37/37 [==============================] - 7s 184ms/step - loss: 0.1067 - accuracy: 0.9638 - val_loss: 0.4866 - val_accuracy: 0.8467\n",
            "Epoch 19/50\n",
            "37/37 [==============================] - 7s 182ms/step - loss: 0.0960 - accuracy: 0.9707 - val_loss: 0.4114 - val_accuracy: 0.8400\n",
            "Epoch 20/50\n",
            "37/37 [==============================] - 7s 184ms/step - loss: 0.0819 - accuracy: 0.9672 - val_loss: 0.4362 - val_accuracy: 0.8333\n",
            "Epoch 21/50\n",
            "37/37 [==============================] - 7s 180ms/step - loss: 0.0862 - accuracy: 0.9690 - val_loss: 0.4647 - val_accuracy: 0.8533\n",
            "Epoch 22/50\n",
            "37/37 [==============================] - 7s 182ms/step - loss: 0.1428 - accuracy: 0.9466 - val_loss: 0.4161 - val_accuracy: 0.8267\n",
            "Epoch 23/50\n",
            "37/37 [==============================] - 7s 181ms/step - loss: 0.1070 - accuracy: 0.9621 - val_loss: 0.4736 - val_accuracy: 0.8400\n",
            "Epoch 24/50\n",
            "37/37 [==============================] - 7s 179ms/step - loss: 0.0748 - accuracy: 0.9759 - val_loss: 0.4639 - val_accuracy: 0.8400\n",
            "Epoch 25/50\n",
            "37/37 [==============================] - 7s 183ms/step - loss: 0.0616 - accuracy: 0.9810 - val_loss: 0.4277 - val_accuracy: 0.8800\n",
            "Epoch 26/50\n",
            "37/37 [==============================] - 7s 179ms/step - loss: 0.0671 - accuracy: 0.9776 - val_loss: 0.5218 - val_accuracy: 0.8467\n",
            "Epoch 27/50\n",
            "37/37 [==============================] - 7s 180ms/step - loss: 0.0697 - accuracy: 0.9741 - val_loss: 0.5474 - val_accuracy: 0.8467\n",
            "Epoch 28/50\n",
            "37/37 [==============================] - 7s 183ms/step - loss: 0.0869 - accuracy: 0.9690 - val_loss: 0.6741 - val_accuracy: 0.8000\n",
            "Epoch 29/50\n",
            "37/37 [==============================] - 7s 182ms/step - loss: 0.0800 - accuracy: 0.9776 - val_loss: 0.4933 - val_accuracy: 0.8533\n",
            "Epoch 30/50\n",
            "37/37 [==============================] - 7s 185ms/step - loss: 0.1365 - accuracy: 0.9500 - val_loss: 0.5042 - val_accuracy: 0.8133\n",
            "Epoch 31/50\n",
            "37/37 [==============================] - 7s 182ms/step - loss: 0.0750 - accuracy: 0.9741 - val_loss: 0.5097 - val_accuracy: 0.8467\n",
            "Epoch 32/50\n",
            "37/37 [==============================] - 7s 198ms/step - loss: 0.0897 - accuracy: 0.9690 - val_loss: 0.4678 - val_accuracy: 0.8467\n",
            "Epoch 33/50\n",
            "37/37 [==============================] - 7s 183ms/step - loss: 0.0504 - accuracy: 0.9810 - val_loss: 0.4749 - val_accuracy: 0.8467\n",
            "Epoch 34/50\n",
            "37/37 [==============================] - 7s 181ms/step - loss: 0.0567 - accuracy: 0.9828 - val_loss: 0.4781 - val_accuracy: 0.8667\n",
            "Epoch 35/50\n",
            "37/37 [==============================] - 7s 182ms/step - loss: 0.0607 - accuracy: 0.9776 - val_loss: 0.6273 - val_accuracy: 0.8267\n",
            "Epoch 36/50\n",
            "37/37 [==============================] - 7s 182ms/step - loss: 0.0595 - accuracy: 0.9793 - val_loss: 0.5194 - val_accuracy: 0.8600\n",
            "Epoch 37/50\n",
            "37/37 [==============================] - 7s 184ms/step - loss: 0.0770 - accuracy: 0.9707 - val_loss: 0.6058 - val_accuracy: 0.8333\n",
            "Epoch 38/50\n",
            "37/37 [==============================] - 7s 186ms/step - loss: 0.0585 - accuracy: 0.9810 - val_loss: 0.5236 - val_accuracy: 0.8600\n",
            "Epoch 39/50\n",
            "37/37 [==============================] - 7s 180ms/step - loss: 0.0737 - accuracy: 0.9793 - val_loss: 0.5891 - val_accuracy: 0.8467\n",
            "Epoch 40/50\n",
            "37/37 [==============================] - 7s 180ms/step - loss: 0.0441 - accuracy: 0.9862 - val_loss: 0.5902 - val_accuracy: 0.8467\n",
            "Epoch 41/50\n",
            "37/37 [==============================] - 7s 186ms/step - loss: 0.0388 - accuracy: 0.9897 - val_loss: 0.4941 - val_accuracy: 0.8667\n",
            "Epoch 42/50\n",
            "37/37 [==============================] - 7s 180ms/step - loss: 0.0635 - accuracy: 0.9707 - val_loss: 0.6193 - val_accuracy: 0.8467\n",
            "Epoch 43/50\n",
            "37/37 [==============================] - 7s 183ms/step - loss: 0.0633 - accuracy: 0.9741 - val_loss: 0.7579 - val_accuracy: 0.8333\n",
            "Epoch 44/50\n",
            "37/37 [==============================] - 7s 180ms/step - loss: 0.1121 - accuracy: 0.9534 - val_loss: 0.5443 - val_accuracy: 0.8600\n",
            "Epoch 45/50\n",
            "37/37 [==============================] - 7s 184ms/step - loss: 0.0524 - accuracy: 0.9845 - val_loss: 0.5843 - val_accuracy: 0.8467\n",
            "Epoch 46/50\n",
            "37/37 [==============================] - 7s 186ms/step - loss: 0.0665 - accuracy: 0.9741 - val_loss: 0.6247 - val_accuracy: 0.8400\n",
            "Epoch 47/50\n",
            "37/37 [==============================] - 7s 181ms/step - loss: 0.0934 - accuracy: 0.9603 - val_loss: 0.5430 - val_accuracy: 0.8400\n",
            "Epoch 48/50\n",
            "37/37 [==============================] - 7s 181ms/step - loss: 0.0662 - accuracy: 0.9793 - val_loss: 0.5913 - val_accuracy: 0.8267\n",
            "Epoch 49/50\n",
            "37/37 [==============================] - 7s 188ms/step - loss: 0.0543 - accuracy: 0.9862 - val_loss: 0.6970 - val_accuracy: 0.8467\n",
            "Epoch 50/50\n",
            "37/37 [==============================] - 7s 184ms/step - loss: 0.0762 - accuracy: 0.9707 - val_loss: 0.5650 - val_accuracy: 0.8667\n"
          ]
        }
      ]
    },
    {
      "cell_type": "code",
      "metadata": {
        "id": "HoqQq6lA7pUH"
      },
      "source": [
        "predIdxs = model.predict(testX, batch_size=BS)"
      ],
      "execution_count": null,
      "outputs": []
    },
    {
      "cell_type": "code",
      "metadata": {
        "id": "zG6an9Tx70Gu"
      },
      "source": [
        "predIdxs = np.argmax(predIdxs, axis=1)"
      ],
      "execution_count": null,
      "outputs": []
    },
    {
      "cell_type": "code",
      "metadata": {
        "colab": {
          "base_uri": "https://localhost:8080/"
        },
        "id": "4Wb6t2Qe73N8",
        "outputId": "2a143a98-c495-4bd2-c2ce-0b462db00710"
      },
      "source": [
        "print(classification_report(testY.argmax(axis=1), predIdxs,\n",
        "\ttarget_names=lb.classes_))"
      ],
      "execution_count": null,
      "outputs": [
        {
          "output_type": "stream",
          "name": "stdout",
          "text": [
            "              precision    recall  f1-score   support\n",
            "\n",
            "       Covid       0.84      0.89      0.86        70\n",
            "   Non_Covid       0.89      0.85      0.87        80\n",
            "\n",
            "    accuracy                           0.87       150\n",
            "   macro avg       0.87      0.87      0.87       150\n",
            "weighted avg       0.87      0.87      0.87       150\n",
            "\n"
          ]
        }
      ]
    },
    {
      "cell_type": "code",
      "metadata": {
        "colab": {
          "base_uri": "https://localhost:8080/"
        },
        "id": "sjOiLKZ376oF",
        "outputId": "12363a15-b49e-464c-bc65-ed466e3a1229"
      },
      "source": [
        "from sklearn.metrics import f1_score\n",
        "f1_score(testY.argmax(axis=1), predIdxs, average='micro')"
      ],
      "execution_count": null,
      "outputs": [
        {
          "output_type": "execute_result",
          "data": {
            "text/plain": [
              "0.8666666666666667"
            ]
          },
          "metadata": {},
          "execution_count": 43
        }
      ]
    },
    {
      "cell_type": "code",
      "metadata": {
        "colab": {
          "base_uri": "https://localhost:8080/"
        },
        "id": "rLyWxN3A79UU",
        "outputId": "4f6b1fd1-0d86-448e-bf9b-5c391f025b32"
      },
      "source": [
        "from sklearn.metrics import roc_auc_score\n",
        "roc_auc_score(testY.argmax(axis=1), predIdxs)"
      ],
      "execution_count": null,
      "outputs": [
        {
          "output_type": "execute_result",
          "data": {
            "text/plain": [
              "0.8678571428571429"
            ]
          },
          "metadata": {},
          "execution_count": 44
        }
      ]
    },
    {
      "cell_type": "code",
      "metadata": {
        "colab": {
          "base_uri": "https://localhost:8080/"
        },
        "id": "UwacNEx0Osds",
        "outputId": "2afdbe72-f61f-469c-ab6e-4f0b270a00ed"
      },
      "source": [
        "from sklearn.metrics import confusion_matrix\n",
        "a = confusion_matrix(testY.argmax(axis=1), predIdxs)\n",
        "print('Sensitivity=',a[0,0]/(a[0,0]+a[0,1]))\n",
        "print('Specificity=',a[1,1]/(a[1,0]+a[1,1]))\n"
      ],
      "execution_count": null,
      "outputs": [
        {
          "output_type": "stream",
          "name": "stdout",
          "text": [
            "Sensitivity= 0.8857142857142857\n",
            "Specificity= 0.85\n"
          ]
        }
      ]
    },
    {
      "cell_type": "code",
      "metadata": {
        "colab": {
          "base_uri": "https://localhost:8080/",
          "height": 317
        },
        "id": "Yd54EOLD8LTy",
        "outputId": "1071bc0e-0062-49d4-a751-0d4e86631ab0"
      },
      "source": [
        "N = 50\n",
        "plt.style.use(\"ggplot\")\n",
        "plt.figure()\n",
        "plt.plot(np.arange(0, N), H.history[\"loss\"], label=\"train_loss\")\n",
        "plt.plot(np.arange(0, N), H.history[\"val_loss\"], label=\"val_loss\")\n",
        "plt.plot(np.arange(0, N), H.history[\"accuracy\"], label=\"train_acc\")\n",
        "plt.plot(np.arange(0, N), H.history[\"val_accuracy\"], label=\"val_acc\")\n",
        "plt.title(\"Training Loss and Accuracy on COVID-19 Dataset\")\n",
        "plt.xlabel(\"Epoch #\")\n",
        "plt.ylabel(\"Loss/Accuracy\")\n",
        "plt.legend(loc=\"lower left\")\n"
      ],
      "execution_count": null,
      "outputs": [
        {
          "output_type": "execute_result",
          "data": {
            "text/plain": [
              "<matplotlib.legend.Legend at 0x7f06e732ff50>"
            ]
          },
          "metadata": {},
          "execution_count": 46
        },
        {
          "output_type": "display_data",
          "data": {
            "text/plain": [
              "<Figure size 432x288 with 1 Axes>"
            ],
            "image/png": "[encoded data removed]"
          },
          "metadata": {}
        }
      ]
    },
    {
      "cell_type": "code",
      "metadata": {
        "colab": {
          "base_uri": "https://localhost:8080/"
        },
        "id": "K8Zma9pT8TB2",
        "outputId": "92437253-1f43-4fcf-ab9d-be9e4fc130f4"
      },
      "source": [
        "from tensorflow.keras.applications import MobileNet\n",
        "base_model=MobileNet(weights='imagenet',include_top=False, input_tensor = Input(shape=(224,224,3)))"
      ],
      "execution_count": null,
      "outputs": [
        {
          "output_type": "stream",
          "name": "stderr",
          "text": [
            "WARNING:tensorflow:`input_shape` is undefined or non-square, or `rows` is not in [128, 160, 192, 224]. Weights for input shape (224, 224) will be loaded as the default.\n"
          ]
        },
        {
          "output_type": "stream",
          "name": "stdout",
          "text": [
            "Downloading data from https://storage.googleapis.com/tensorflow/keras-applications/mobilenet/mobilenet_1_0_224_tf_no_top.h5\n",
            "17227776/17225924 [==============================] - 0s 0us/step\n",
            "17235968/17225924 [==============================] - 0s 0us/step\n"
          ]
        }
      ]
    },
    {
      "cell_type": "code",
      "metadata": {
        "id": "mNCRxqIj_VQz"
      },
      "source": [
        "from tensorflow.keras.layers import GlobalAveragePooling2D\n",
        "x=base_model.output\n",
        "x=GlobalAveragePooling2D()(x)\n",
        "x=Dense(1024,activation='relu')(x)\n",
        "x=Dense(1024,activation='relu')(x) \n",
        "x=Dense(512,activation='relu')(x) \n",
        "preds=Dense(2,activation='softmax')(x)"
      ],
      "execution_count": null,
      "outputs": []
    },
    {
      "cell_type": "code",
      "metadata": {
        "id": "33W825-x_1WF"
      },
      "source": [
        "model=Model(inputs=base_model.input,outputs=preds)"
      ],
      "execution_count": null,
      "outputs": []
    },
    {
      "cell_type": "code",
      "metadata": {
        "colab": {
          "base_uri": "https://localhost:8080/"
        },
        "id": "G_MSZRsE_7L3",
        "outputId": "dbb65978-f886-41e4-be50-54dbc533f9d7"
      },
      "source": [
        "for i,layer in enumerate(model.layers):\n",
        "  print(i,layer.name)"
      ],
      "execution_count": null,
      "outputs": [
        {
          "output_type": "stream",
          "name": "stdout",
          "text": [
            "0 input_5\n",
            "1 conv1\n",
            "2 conv1_bn\n",
            "3 conv1_relu\n",
            "4 conv_dw_1\n",
            "5 conv_dw_1_bn\n",
            "6 conv_dw_1_relu\n",
            "7 conv_pw_1\n",
            "8 conv_pw_1_bn\n",
            "9 conv_pw_1_relu\n",
            "10 conv_pad_2\n",
            "11 conv_dw_2\n",
            "12 conv_dw_2_bn\n",
            "13 conv_dw_2_relu\n",
            "14 conv_pw_2\n",
            "15 conv_pw_2_bn\n",
            "16 conv_pw_2_relu\n",
            "17 conv_dw_3\n",
            "18 conv_dw_3_bn\n",
            "19 conv_dw_3_relu\n",
            "20 conv_pw_3\n",
            "21 conv_pw_3_bn\n",
            "22 conv_pw_3_relu\n",
            "23 conv_pad_4\n",
            "24 conv_dw_4\n",
            "25 conv_dw_4_bn\n",
            "26 conv_dw_4_relu\n",
            "27 conv_pw_4\n",
            "28 conv_pw_4_bn\n",
            "29 conv_pw_4_relu\n",
            "30 conv_dw_5\n",
            "31 conv_dw_5_bn\n",
            "32 conv_dw_5_relu\n",
            "33 conv_pw_5\n",
            "34 conv_pw_5_bn\n",
            "35 conv_pw_5_relu\n",
            "36 conv_pad_6\n",
            "37 conv_dw_6\n",
            "38 conv_dw_6_bn\n",
            "39 conv_dw_6_relu\n",
            "40 conv_pw_6\n",
            "41 conv_pw_6_bn\n",
            "42 conv_pw_6_relu\n",
            "43 conv_dw_7\n",
            "44 conv_dw_7_bn\n",
            "45 conv_dw_7_relu\n",
            "46 conv_pw_7\n",
            "47 conv_pw_7_bn\n",
            "48 conv_pw_7_relu\n",
            "49 conv_dw_8\n",
            "50 conv_dw_8_bn\n",
            "51 conv_dw_8_relu\n",
            "52 conv_pw_8\n",
            "53 conv_pw_8_bn\n",
            "54 conv_pw_8_relu\n",
            "55 conv_dw_9\n",
            "56 conv_dw_9_bn\n",
            "57 conv_dw_9_relu\n",
            "58 conv_pw_9\n",
            "59 conv_pw_9_bn\n",
            "60 conv_pw_9_relu\n",
            "61 conv_dw_10\n",
            "62 conv_dw_10_bn\n",
            "63 conv_dw_10_relu\n",
            "64 conv_pw_10\n",
            "65 conv_pw_10_bn\n",
            "66 conv_pw_10_relu\n",
            "67 conv_dw_11\n",
            "68 conv_dw_11_bn\n",
            "69 conv_dw_11_relu\n",
            "70 conv_pw_11\n",
            "71 conv_pw_11_bn\n",
            "72 conv_pw_11_relu\n",
            "73 conv_pad_12\n",
            "74 conv_dw_12\n",
            "75 conv_dw_12_bn\n",
            "76 conv_dw_12_relu\n",
            "77 conv_pw_12\n",
            "78 conv_pw_12_bn\n",
            "79 conv_pw_12_relu\n",
            "80 conv_dw_13\n",
            "81 conv_dw_13_bn\n",
            "82 conv_dw_13_relu\n",
            "83 conv_pw_13\n",
            "84 conv_pw_13_bn\n",
            "85 conv_pw_13_relu\n",
            "86 global_average_pooling2d\n",
            "87 dense_20\n",
            "88 dense_21\n",
            "89 dense_22\n",
            "90 dense_23\n"
          ]
        }
      ]
    },
    {
      "cell_type": "code",
      "metadata": {
        "id": "heZvNguiABJ1"
      },
      "source": [
        "for layer in model.layers:\n",
        "    layer.trainable=False"
      ],
      "execution_count": null,
      "outputs": []
    },
    {
      "cell_type": "code",
      "metadata": {
        "id": "ZMy02oJlAGe5"
      },
      "source": [
        "for layer in model.layers[:20]:\n",
        "    layer.trainable=False\n",
        "for layer in model.layers[20:]:\n",
        "    layer.trainable=True"
      ],
      "execution_count": null,
      "outputs": []
    },
    {
      "cell_type": "code",
      "metadata": {
        "colab": {
          "base_uri": "https://localhost:8080/"
        },
        "id": "b1dsKY_YAO3w",
        "outputId": "2d96e3b2-9737-4e75-fe42-d07e9d9cd642"
      },
      "source": [
        "model.compile(optimizer='Nadam',loss='binary_crossentropy',metrics=['accuracy'])\n",
        "model.summary()"
      ],
      "execution_count": null,
      "outputs": [
        {
          "output_type": "stream",
          "name": "stdout",
          "text": [
            "Model: \"model_2\"\n",
            "_________________________________________________________________\n",
            " Layer (type)                Output Shape              Param #   \n",
            "=================================================================\n",
            " input_5 (InputLayer)        [(None, 224, 224, 3)]     0         \n",
            "                                                                 \n",
            " conv1 (Conv2D)              (None, 112, 112, 32)      864       \n",
            "                                                                 \n",
            " conv1_bn (BatchNormalizatio  (None, 112, 112, 32)     128       \n",
            " n)                                                              \n",
            "                                                                 \n",
            " conv1_relu (ReLU)           (None, 112, 112, 32)      0         \n",
            "                                                                 \n",
            " conv_dw_1 (DepthwiseConv2D)  (None, 112, 112, 32)     288       \n",
            "                                                                 \n",
            " conv_dw_1_bn (BatchNormaliz  (None, 112, 112, 32)     128       \n",
            " ation)                                                          \n",
            "                                                                 \n",
            " conv_dw_1_relu (ReLU)       (None, 112, 112, 32)      0         \n",
            "                                                                 \n",
            " conv_pw_1 (Conv2D)          (None, 112, 112, 64)      2048      \n",
            "                                                                 \n",
            " conv_pw_1_bn (BatchNormaliz  (None, 112, 112, 64)     256       \n",
            " ation)                                                          \n",
            "                                                                 \n",
            " conv_pw_1_relu (ReLU)       (None, 112, 112, 64)      0         \n",
            "                                                                 \n",
            " conv_pad_2 (ZeroPadding2D)  (None, 113, 113, 64)      0         \n",
            "                                                                 \n",
            " conv_dw_2 (DepthwiseConv2D)  (None, 56, 56, 64)       576       \n",
            "                                                                 \n",
            " conv_dw_2_bn (BatchNormaliz  (None, 56, 56, 64)       256       \n",
            " ation)                                                          \n",
            "                                                                 \n",
            " conv_dw_2_relu (ReLU)       (None, 56, 56, 64)        0         \n",
            "                                                                 \n",
            " conv_pw_2 (Conv2D)          (None, 56, 56, 128)       8192      \n",
            "                                                                 \n",
            " conv_pw_2_bn (BatchNormaliz  (None, 56, 56, 128)      512       \n",
            " ation)                                                          \n",
            "                                                                 \n",
            " conv_pw_2_relu (ReLU)       (None, 56, 56, 128)       0         \n",
            "                                                                 \n",
            " conv_dw_3 (DepthwiseConv2D)  (None, 56, 56, 128)      1152      \n",
            "                                                                 \n",
            " conv_dw_3_bn (BatchNormaliz  (None, 56, 56, 128)      512       \n",
            " ation)                                                          \n",
            "                                                                 \n",
            " conv_dw_3_relu (ReLU)       (None, 56, 56, 128)       0         \n",
            "                                                                 \n",
            " conv_pw_3 (Conv2D)          (None, 56, 56, 128)       16384     \n",
            "                                                                 \n",
            " conv_pw_3_bn (BatchNormaliz  (None, 56, 56, 128)      512       \n",
            " ation)                                                          \n",
            "                                                                 \n",
            " conv_pw_3_relu (ReLU)       (None, 56, 56, 128)       0         \n",
            "                                                                 \n",
            " conv_pad_4 (ZeroPadding2D)  (None, 57, 57, 128)       0         \n",
            "                                                                 \n",
            " conv_dw_4 (DepthwiseConv2D)  (None, 28, 28, 128)      1152      \n",
            "                                                                 \n",
            " conv_dw_4_bn (BatchNormaliz  (None, 28, 28, 128)      512       \n",
            " ation)                                                          \n",
            "                                                                 \n",
            " conv_dw_4_relu (ReLU)       (None, 28, 28, 128)       0         \n",
            "                                                                 \n",
            " conv_pw_4 (Conv2D)          (None, 28, 28, 256)       32768     \n",
            "                                                                 \n",
            " conv_pw_4_bn (BatchNormaliz  (None, 28, 28, 256)      1024      \n",
            " ation)                                                          \n",
            "                                                                 \n",
            " conv_pw_4_relu (ReLU)       (None, 28, 28, 256)       0         \n",
            "                                                                 \n",
            " conv_dw_5 (DepthwiseConv2D)  (None, 28, 28, 256)      2304      \n",
            "                                                                 \n",
            " conv_dw_5_bn (BatchNormaliz  (None, 28, 28, 256)      1024      \n",
            " ation)                                                          \n",
            "                                                                 \n",
            " conv_dw_5_relu (ReLU)       (None, 28, 28, 256)       0         \n",
            "                                                                 \n",
            " conv_pw_5 (Conv2D)          (None, 28, 28, 256)       65536     \n",
            "                                                                 \n",
            " conv_pw_5_bn (BatchNormaliz  (None, 28, 28, 256)      1024      \n",
            " ation)                                                          \n",
            "                                                                 \n",
            " conv_pw_5_relu (ReLU)       (None, 28, 28, 256)       0         \n",
            "                                                                 \n",
            " conv_pad_6 (ZeroPadding2D)  (None, 29, 29, 256)       0         \n",
            "                                                                 \n",
            " conv_dw_6 (DepthwiseConv2D)  (None, 14, 14, 256)      2304      \n",
            "                                                                 \n",
            " conv_dw_6_bn (BatchNormaliz  (None, 14, 14, 256)      1024      \n",
            " ation)                                                          \n",
            "                                                                 \n",
            " conv_dw_6_relu (ReLU)       (None, 14, 14, 256)       0         \n",
            "                                                                 \n",
            " conv_pw_6 (Conv2D)          (None, 14, 14, 512)       131072    \n",
            "                                                                 \n",
            " conv_pw_6_bn (BatchNormaliz  (None, 14, 14, 512)      2048      \n",
            " ation)                                                          \n",
            "                                                                 \n",
            " conv_pw_6_relu (ReLU)       (None, 14, 14, 512)       0         \n",
            "                                                                 \n",
            " conv_dw_7 (DepthwiseConv2D)  (None, 14, 14, 512)      4608      \n",
            "                                                                 \n",
            " conv_dw_7_bn (BatchNormaliz  (None, 14, 14, 512)      2048      \n",
            " ation)                                                          \n",
            "                                                                 \n",
            " conv_dw_7_relu (ReLU)       (None, 14, 14, 512)       0         \n",
            "                                                                 \n",
            " conv_pw_7 (Conv2D)          (None, 14, 14, 512)       262144    \n",
            "                                                                 \n",
            " conv_pw_7_bn (BatchNormaliz  (None, 14, 14, 512)      2048      \n",
            " ation)                                                          \n",
            "                                                                 \n",
            " conv_pw_7_relu (ReLU)       (None, 14, 14, 512)       0         \n",
            "                                                                 \n",
            " conv_dw_8 (DepthwiseConv2D)  (None, 14, 14, 512)      4608      \n",
            "                                                                 \n",
            " conv_dw_8_bn (BatchNormaliz  (None, 14, 14, 512)      2048      \n",
            " ation)                                                          \n",
            "                                                                 \n",
            " conv_dw_8_relu (ReLU)       (None, 14, 14, 512)       0         \n",
            "                                                                 \n",
            " conv_pw_8 (Conv2D)          (None, 14, 14, 512)       262144    \n",
            "                                                                 \n",
            " conv_pw_8_bn (BatchNormaliz  (None, 14, 14, 512)      2048      \n",
            " ation)                                                          \n",
            "                                                                 \n",
            " conv_pw_8_relu (ReLU)       (None, 14, 14, 512)       0         \n",
            "                                                                 \n",
            " conv_dw_9 (DepthwiseConv2D)  (None, 14, 14, 512)      4608      \n",
            "                                                                 \n",
            " conv_dw_9_bn (BatchNormaliz  (None, 14, 14, 512)      2048      \n",
            " ation)                                                          \n",
            "                                                                 \n",
            " conv_dw_9_relu (ReLU)       (None, 14, 14, 512)       0         \n",
            "                                                                 \n",
            " conv_pw_9 (Conv2D)          (None, 14, 14, 512)       262144    \n",
            "                                                                 \n",
            " conv_pw_9_bn (BatchNormaliz  (None, 14, 14, 512)      2048      \n",
            " ation)                                                          \n",
            "                                                                 \n",
            " conv_pw_9_relu (ReLU)       (None, 14, 14, 512)       0         \n",
            "                                                                 \n",
            " conv_dw_10 (DepthwiseConv2D  (None, 14, 14, 512)      4608      \n",
            " )                                                               \n",
            "                                                                 \n",
            " conv_dw_10_bn (BatchNormali  (None, 14, 14, 512)      2048      \n",
            " zation)                                                         \n",
            "                                                                 \n",
            " conv_dw_10_relu (ReLU)      (None, 14, 14, 512)       0         \n",
            "                                                                 \n",
            " conv_pw_10 (Conv2D)         (None, 14, 14, 512)       262144    \n",
            "                                                                 \n",
            " conv_pw_10_bn (BatchNormali  (None, 14, 14, 512)      2048      \n",
            " zation)                                                         \n",
            "                                                                 \n",
            " conv_pw_10_relu (ReLU)      (None, 14, 14, 512)       0         \n",
            "                                                                 \n",
            " conv_dw_11 (DepthwiseConv2D  (None, 14, 14, 512)      4608      \n",
            " )                                                               \n",
            "                                                                 \n",
            " conv_dw_11_bn (BatchNormali  (None, 14, 14, 512)      2048      \n",
            " zation)                                                         \n",
            "                                                                 \n",
            " conv_dw_11_relu (ReLU)      (None, 14, 14, 512)       0         \n",
            "                                                                 \n",
            " conv_pw_11 (Conv2D)         (None, 14, 14, 512)       262144    \n",
            "                                                                 \n",
            " conv_pw_11_bn (BatchNormali  (None, 14, 14, 512)      2048      \n",
            " zation)                                                         \n",
            "                                                                 \n",
            " conv_pw_11_relu (ReLU)      (None, 14, 14, 512)       0         \n",
            "                                                                 \n",
            " conv_pad_12 (ZeroPadding2D)  (None, 15, 15, 512)      0         \n",
            "                                                                 \n",
            " conv_dw_12 (DepthwiseConv2D  (None, 7, 7, 512)        4608      \n",
            " )                                                               \n",
            "                                                                 \n",
            " conv_dw_12_bn (BatchNormali  (None, 7, 7, 512)        2048      \n",
            " zation)                                                         \n",
            "                                                                 \n",
            " conv_dw_12_relu (ReLU)      (None, 7, 7, 512)         0         \n",
            "                                                                 \n",
            " conv_pw_12 (Conv2D)         (None, 7, 7, 1024)        524288    \n",
            "                                                                 \n",
            " conv_pw_12_bn (BatchNormali  (None, 7, 7, 1024)       4096      \n",
            " zation)                                                         \n",
            "                                                                 \n",
            " conv_pw_12_relu (ReLU)      (None, 7, 7, 1024)        0         \n",
            "                                                                 \n",
            " conv_dw_13 (DepthwiseConv2D  (None, 7, 7, 1024)       9216      \n",
            " )                                                               \n",
            "                                                                 \n",
            " conv_dw_13_bn (BatchNormali  (None, 7, 7, 1024)       4096      \n",
            " zation)                                                         \n",
            "                                                                 \n",
            " conv_dw_13_relu (ReLU)      (None, 7, 7, 1024)        0         \n",
            "                                                                 \n",
            " conv_pw_13 (Conv2D)         (None, 7, 7, 1024)        1048576   \n",
            "                                                                 \n",
            " conv_pw_13_bn (BatchNormali  (None, 7, 7, 1024)       4096      \n",
            " zation)                                                         \n",
            "                                                                 \n",
            " conv_pw_13_relu (ReLU)      (None, 7, 7, 1024)        0         \n",
            "                                                                 \n",
            " global_average_pooling2d (G  (None, 1024)             0         \n",
            " lobalAveragePooling2D)                                          \n",
            "                                                                 \n",
            " dense_20 (Dense)            (None, 1024)              1049600   \n",
            "                                                                 \n",
            " dense_21 (Dense)            (None, 1024)              1049600   \n",
            "                                                                 \n",
            " dense_22 (Dense)            (None, 512)               524800    \n",
            "                                                                 \n",
            " dense_23 (Dense)            (None, 2)                 1026      \n",
            "                                                                 \n",
            "=================================================================\n",
            "Total params: 5,853,890\n",
            "Trainable params: 5,817,986\n",
            "Non-trainable params: 35,904\n",
            "_________________________________________________________________\n"
          ]
        }
      ]
    },
    {
      "cell_type": "code",
      "metadata": {
        "colab": {
          "base_uri": "https://localhost:8080/"
        },
        "id": "_bI8RhZoARFc",
        "outputId": "de71a1aa-7dab-4b26-c92e-d0fc313e9b98"
      },
      "source": [
        "BS = 16\n",
        "H5 = model.fit_generator(\n",
        "\ttrainAug.flow(trainX, trainY, batch_size=BS),\n",
        "\tsteps_per_epoch=len(trainX) // BS,\n",
        "\tvalidation_data=(testX, testY),\n",
        "\tvalidation_steps=len(testX) // BS,\n",
        "\tepochs=50)"
      ],
      "execution_count": null,
      "outputs": [
        {
          "output_type": "stream",
          "name": "stdout",
          "text": [
            "Epoch 1/50\n",
            "37/37 [==============================] - 16s 208ms/step - loss: 0.6793 - accuracy: 0.6724 - val_loss: 0.6746 - val_accuracy: 0.6200\n",
            "Epoch 2/50\n",
            "37/37 [==============================] - 6s 173ms/step - loss: 0.4084 - accuracy: 0.8345 - val_loss: 3.6603 - val_accuracy: 0.5733\n",
            "Epoch 3/50\n",
            "37/37 [==============================] - 6s 172ms/step - loss: 0.2978 - accuracy: 0.8897 - val_loss: 0.5350 - val_accuracy: 0.8600\n",
            "Epoch 4/50\n",
            "37/37 [==============================] - 8s 206ms/step - loss: 0.2464 - accuracy: 0.9034 - val_loss: 2.0813 - val_accuracy: 0.6800\n",
            "Epoch 5/50\n",
            "37/37 [==============================] - 7s 175ms/step - loss: 0.2846 - accuracy: 0.9052 - val_loss: 0.4291 - val_accuracy: 0.8533\n",
            "Epoch 6/50\n",
            "37/37 [==============================] - 6s 172ms/step - loss: 0.2653 - accuracy: 0.9017 - val_loss: 3.0386 - val_accuracy: 0.7333\n",
            "Epoch 7/50\n",
            "37/37 [==============================] - 6s 172ms/step - loss: 0.2684 - accuracy: 0.9155 - val_loss: 0.5220 - val_accuracy: 0.8867\n",
            "Epoch 8/50\n",
            "37/37 [==============================] - 6s 174ms/step - loss: 0.2018 - accuracy: 0.9155 - val_loss: 0.5172 - val_accuracy: 0.8933\n",
            "Epoch 9/50\n",
            "37/37 [==============================] - 6s 170ms/step - loss: 0.1776 - accuracy: 0.9483 - val_loss: 0.2802 - val_accuracy: 0.9067\n",
            "Epoch 10/50\n",
            "37/37 [==============================] - 6s 172ms/step - loss: 0.2079 - accuracy: 0.9379 - val_loss: 1.1620 - val_accuracy: 0.7467\n",
            "Epoch 11/50\n",
            "37/37 [==============================] - 6s 168ms/step - loss: 0.2238 - accuracy: 0.9259 - val_loss: 0.6104 - val_accuracy: 0.8200\n",
            "Epoch 12/50\n",
            "37/37 [==============================] - 8s 205ms/step - loss: 0.1840 - accuracy: 0.9155 - val_loss: 0.6780 - val_accuracy: 0.9000\n",
            "Epoch 13/50\n",
            "37/37 [==============================] - 6s 173ms/step - loss: 0.2018 - accuracy: 0.9310 - val_loss: 0.8001 - val_accuracy: 0.8533\n",
            "Epoch 14/50\n",
            "37/37 [==============================] - 6s 171ms/step - loss: 0.1167 - accuracy: 0.9638 - val_loss: 0.6520 - val_accuracy: 0.8533\n",
            "Epoch 15/50\n",
            "37/37 [==============================] - 6s 170ms/step - loss: 0.1398 - accuracy: 0.9569 - val_loss: 0.6389 - val_accuracy: 0.7800\n",
            "Epoch 16/50\n",
            "37/37 [==============================] - 6s 174ms/step - loss: 0.0962 - accuracy: 0.9621 - val_loss: 0.4256 - val_accuracy: 0.9000\n",
            "Epoch 17/50\n",
            "37/37 [==============================] - 8s 214ms/step - loss: 0.1087 - accuracy: 0.9638 - val_loss: 1.4009 - val_accuracy: 0.6800\n",
            "Epoch 18/50\n",
            "37/37 [==============================] - 6s 172ms/step - loss: 0.0986 - accuracy: 0.9690 - val_loss: 0.3941 - val_accuracy: 0.8667\n",
            "Epoch 19/50\n",
            "37/37 [==============================] - 6s 171ms/step - loss: 0.0345 - accuracy: 0.9862 - val_loss: 0.6444 - val_accuracy: 0.8533\n",
            "Epoch 20/50\n",
            "37/37 [==============================] - 6s 168ms/step - loss: 0.0925 - accuracy: 0.9690 - val_loss: 0.2992 - val_accuracy: 0.9000\n",
            "Epoch 21/50\n",
            "37/37 [==============================] - 6s 169ms/step - loss: 0.0864 - accuracy: 0.9707 - val_loss: 0.3392 - val_accuracy: 0.9133\n",
            "Epoch 22/50\n",
            "37/37 [==============================] - 7s 175ms/step - loss: 0.0391 - accuracy: 0.9897 - val_loss: 0.8388 - val_accuracy: 0.8133\n",
            "Epoch 23/50\n",
            "37/37 [==============================] - 6s 170ms/step - loss: 0.0668 - accuracy: 0.9759 - val_loss: 0.7984 - val_accuracy: 0.8067\n",
            "Epoch 24/50\n",
            "37/37 [==============================] - 7s 184ms/step - loss: 0.0843 - accuracy: 0.9672 - val_loss: 0.4426 - val_accuracy: 0.8467\n",
            "Epoch 25/50\n",
            "37/37 [==============================] - 6s 173ms/step - loss: 0.0373 - accuracy: 0.9914 - val_loss: 0.4227 - val_accuracy: 0.8800\n",
            "Epoch 26/50\n",
            "37/37 [==============================] - 6s 173ms/step - loss: 0.0454 - accuracy: 0.9862 - val_loss: 1.5544 - val_accuracy: 0.8000\n",
            "Epoch 27/50\n",
            "37/37 [==============================] - 6s 170ms/step - loss: 0.0650 - accuracy: 0.9724 - val_loss: 0.5830 - val_accuracy: 0.8867\n",
            "Epoch 28/50\n",
            "37/37 [==============================] - 6s 169ms/step - loss: 0.1062 - accuracy: 0.9621 - val_loss: 0.5025 - val_accuracy: 0.8133\n",
            "Epoch 29/50\n",
            "37/37 [==============================] - 6s 173ms/step - loss: 0.0580 - accuracy: 0.9707 - val_loss: 1.1173 - val_accuracy: 0.7600\n",
            "Epoch 30/50\n",
            "37/37 [==============================] - 7s 191ms/step - loss: 0.0783 - accuracy: 0.9793 - val_loss: 1.1216 - val_accuracy: 0.7733\n",
            "Epoch 31/50\n",
            "37/37 [==============================] - 6s 168ms/step - loss: 0.1217 - accuracy: 0.9672 - val_loss: 0.4636 - val_accuracy: 0.7867\n",
            "Epoch 32/50\n",
            "37/37 [==============================] - 6s 172ms/step - loss: 0.1533 - accuracy: 0.9466 - val_loss: 0.3437 - val_accuracy: 0.8733\n",
            "Epoch 33/50\n",
            "37/37 [==============================] - 6s 167ms/step - loss: 0.0815 - accuracy: 0.9793 - val_loss: 0.5288 - val_accuracy: 0.8400\n",
            "Epoch 34/50\n",
            "37/37 [==============================] - 6s 170ms/step - loss: 0.0213 - accuracy: 0.9931 - val_loss: 0.4888 - val_accuracy: 0.9200\n",
            "Epoch 35/50\n",
            "37/37 [==============================] - 6s 170ms/step - loss: 0.0402 - accuracy: 0.9845 - val_loss: 0.4500 - val_accuracy: 0.8733\n",
            "Epoch 36/50\n",
            "37/37 [==============================] - 6s 172ms/step - loss: 0.1507 - accuracy: 0.9379 - val_loss: 0.4863 - val_accuracy: 0.7800\n",
            "Epoch 37/50\n",
            "37/37 [==============================] - 6s 170ms/step - loss: 0.1036 - accuracy: 0.9707 - val_loss: 2.5866 - val_accuracy: 0.6267\n",
            "Epoch 38/50\n",
            "37/37 [==============================] - 6s 170ms/step - loss: 0.1226 - accuracy: 0.9483 - val_loss: 1.5132 - val_accuracy: 0.7533\n",
            "Epoch 39/50\n",
            "37/37 [==============================] - 6s 172ms/step - loss: 0.1186 - accuracy: 0.9603 - val_loss: 0.3377 - val_accuracy: 0.8667\n",
            "Epoch 40/50\n",
            "37/37 [==============================] - 6s 171ms/step - loss: 0.0388 - accuracy: 0.9862 - val_loss: 2.0681 - val_accuracy: 0.8267\n",
            "Epoch 41/50\n",
            "37/37 [==============================] - 6s 170ms/step - loss: 0.0996 - accuracy: 0.9724 - val_loss: 5.3245 - val_accuracy: 0.6600\n",
            "Epoch 42/50\n",
            "37/37 [==============================] - 6s 170ms/step - loss: 0.1370 - accuracy: 0.9534 - val_loss: 0.5845 - val_accuracy: 0.8600\n",
            "Epoch 43/50\n",
            "37/37 [==============================] - 6s 173ms/step - loss: 0.0792 - accuracy: 0.9707 - val_loss: 0.9915 - val_accuracy: 0.8467\n",
            "Epoch 44/50\n",
            "37/37 [==============================] - 8s 208ms/step - loss: 0.0755 - accuracy: 0.9707 - val_loss: 1.4082 - val_accuracy: 0.8000\n",
            "Epoch 45/50\n",
            "37/37 [==============================] - 6s 174ms/step - loss: 0.0629 - accuracy: 0.9810 - val_loss: 0.9853 - val_accuracy: 0.8200\n",
            "Epoch 46/50\n",
            "37/37 [==============================] - 6s 173ms/step - loss: 0.1616 - accuracy: 0.9569 - val_loss: 0.5190 - val_accuracy: 0.8133\n",
            "Epoch 47/50\n",
            "37/37 [==============================] - 6s 172ms/step - loss: 0.1067 - accuracy: 0.9724 - val_loss: 1.6951 - val_accuracy: 0.6867\n",
            "Epoch 48/50\n",
            "37/37 [==============================] - 6s 170ms/step - loss: 0.0707 - accuracy: 0.9672 - val_loss: 0.5734 - val_accuracy: 0.8667\n",
            "Epoch 49/50\n",
            "37/37 [==============================] - 6s 172ms/step - loss: 0.0835 - accuracy: 0.9707 - val_loss: 0.8282 - val_accuracy: 0.8200\n",
            "Epoch 50/50\n",
            "37/37 [==============================] - 6s 171ms/step - loss: 0.0493 - accuracy: 0.9828 - val_loss: 0.6362 - val_accuracy: 0.8800\n"
          ]
        }
      ]
    },
    {
      "cell_type": "code",
      "metadata": {
        "id": "39xoXCpfAkmX"
      },
      "source": [
        "predIdxs = model.predict(testX, batch_size=BS)"
      ],
      "execution_count": null,
      "outputs": []
    },
    {
      "cell_type": "code",
      "metadata": {
        "id": "vGyYYq5sBAyI"
      },
      "source": [
        "predIdxs = np.argmax(predIdxs, axis=1)"
      ],
      "execution_count": null,
      "outputs": []
    },
    {
      "cell_type": "code",
      "metadata": {
        "colab": {
          "base_uri": "https://localhost:8080/"
        },
        "id": "wHsE7MGzBISs",
        "outputId": "fb4b9419-4d16-4c1b-cd21-1dcebfc87324"
      },
      "source": [
        "print(classification_report(testY.argmax(axis=1), predIdxs,\n",
        "\ttarget_names=lb.classes_))"
      ],
      "execution_count": null,
      "outputs": [
        {
          "output_type": "stream",
          "name": "stdout",
          "text": [
            "              precision    recall  f1-score   support\n",
            "\n",
            "       Covid       0.87      0.87      0.87        70\n",
            "   Non_Covid       0.89      0.89      0.89        80\n",
            "\n",
            "    accuracy                           0.88       150\n",
            "   macro avg       0.88      0.88      0.88       150\n",
            "weighted avg       0.88      0.88      0.88       150\n",
            "\n"
          ]
        }
      ]
    },
    {
      "cell_type": "code",
      "metadata": {
        "colab": {
          "base_uri": "https://localhost:8080/"
        },
        "id": "wI_I816aBN8H",
        "outputId": "4499f437-8ce0-4cfd-bf05-e6da7fab0834"
      },
      "source": [
        "from sklearn.metrics import f1_score\n",
        "f1_score(testY.argmax(axis=1), predIdxs, average='micro')"
      ],
      "execution_count": null,
      "outputs": [
        {
          "output_type": "execute_result",
          "data": {
            "text/plain": [
              "0.88"
            ]
          },
          "metadata": {},
          "execution_count": 58
        }
      ]
    },
    {
      "cell_type": "code",
      "metadata": {
        "colab": {
          "base_uri": "https://localhost:8080/"
        },
        "id": "BklPSOqUBRYp",
        "outputId": "36636ab7-a804-43e9-ae26-c6e7e16156f6"
      },
      "source": [
        "from sklearn.metrics import roc_auc_score\n",
        "roc_auc_score(testY.argmax(axis=1), predIdxs)"
      ],
      "execution_count": null,
      "outputs": [
        {
          "output_type": "execute_result",
          "data": {
            "text/plain": [
              "0.8794642857142857"
            ]
          },
          "metadata": {},
          "execution_count": 59
        }
      ]
    },
    {
      "cell_type": "code",
      "metadata": {
        "colab": {
          "base_uri": "https://localhost:8080/"
        },
        "id": "Umb70n6PPD5c",
        "outputId": "13f65b95-900e-4437-e239-b5d49f5b8916"
      },
      "source": [
        "from sklearn.metrics import confusion_matrix\n",
        "a = confusion_matrix(testY.argmax(axis=1), predIdxs)\n",
        "print('Sensitivity=',a[0,0]/(a[0,0]+a[0,1]))\n",
        "print('Specificity=',a[1,1]/(a[1,0]+a[1,1]))\n"
      ],
      "execution_count": null,
      "outputs": [
        {
          "output_type": "stream",
          "name": "stdout",
          "text": [
            "Sensitivity= 0.8714285714285714\n",
            "Specificity= 0.8875\n"
          ]
        }
      ]
    },
    {
      "cell_type": "code",
      "metadata": {
        "id": "EEDUeBdUBVQ-",
        "colab": {
          "base_uri": "https://localhost:8080/",
          "height": 317
        },
        "outputId": "cbbe5344-2955-4db8-bf98-43f1025ea7ee"
      },
      "source": [
        "N = 50\n",
        "plt.style.use(\"ggplot\")\n",
        "plt.figure()\n",
        "plt.plot(np.arange(0, N), H.history[\"loss\"], label=\"train_loss\")\n",
        "plt.plot(np.arange(0, N), H.history[\"val_loss\"], label=\"val_loss\")\n",
        "plt.plot(np.arange(0, N), H.history[\"accuracy\"], label=\"train_acc\")\n",
        "plt.plot(np.arange(0, N), H.history[\"val_accuracy\"], label=\"val_acc\")\n",
        "plt.title(\"Training Loss and Accuracy on COVID-19 Dataset\")\n",
        "plt.xlabel(\"Epoch #\")\n",
        "plt.ylabel(\"Loss/Accuracy\")\n",
        "plt.legend(loc=\"lower left\")\n"
      ],
      "execution_count": null,
      "outputs": [
        {
          "output_type": "execute_result",
          "data": {
            "text/plain": [
              "<matplotlib.legend.Legend at 0x7f063697d990>"
            ]
          },
          "metadata": {},
          "execution_count": 61
        },
        {
          "output_type": "display_data",
          "data": {
            "text/plain": [
              "<Figure size 432x288 with 1 Axes>"
            ],
            "image/png": "[encoded data removed]"
          },
          "metadata": {}
        }
      ]
    }
  ]
}